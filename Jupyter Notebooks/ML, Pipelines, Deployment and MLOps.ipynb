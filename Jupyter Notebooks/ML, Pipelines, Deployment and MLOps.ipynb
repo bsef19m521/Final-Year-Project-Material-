{
 "cells": [
  {
   "cell_type": "markdown",
   "id": "f9579219",
   "metadata": {},
   "source": [
    "# Learning Agenda\n",
    "- Introduction\n",
    "- Key Concepts\n",
    "    - MLOps\n",
    "         - Why MLOps?\n",
    "         - MLOps vs DevOps\n",
    "    - CI/CD: continuous integration, continuous delivery, and continuous deployment.\n",
    "    - Pipeline\n",
    "    - Deployment\n",
    "    - Application Programming Interface (API)\n",
    "    - Container\n",
    "        - What does an environment include?\n",
    "    - Docker\n",
    "        - Breaking the hype\n",
    "    - Kubernetes\n",
    "        - Features\n",
    "        - Why do you need Kubernetes if you have Docker?\n",
    "        - Quick re-cap of terms\n",
    "- MLOps Frameworks and Libraries in Python\n",
    "    - MLflow\n",
    "    - Metaflow\n",
    "    - Kubeflow\n",
    "    - Kedro\n",
    "    - FastAPI\n",
    "    - ZenML\n",
    "- Example: End-to-End Pipeline Development, Deployment, and MLOps\n",
    "    - Problem Setup\n",
    "    - Machine Learning Pipeline\n",
    "    - Front-end Web Application\n",
    "    - Back-end of the application\n",
    "    - Docker Container\n",
    "    - Cloud Deployment\n",
    "    - Azure Container Registry\n",
    "    - Run container from Docker image\n",
    "    - Authenticate Azure Credentials\n",
    "    - Push Container onto Azure Container Registry\n",
    "    - Web Application\n",
    "- Conclusion"
   ]
  },
  {
   "cell_type": "markdown",
   "id": "bb903c72",
   "metadata": {},
   "source": [
    "## Introduction\n"
   ]
  },
  {
   "cell_type": "code",
   "execution_count": null,
   "id": "4b2855f4",
   "metadata": {},
   "outputs": [],
   "source": []
  },
  {
   "cell_type": "markdown",
   "id": "4da29cea",
   "metadata": {},
   "source": [
    "## Key Concepts\n",
    "#### MLOps\n",
    "![](images/mlops.png)\n",
    "\n",
    "#### Why MLOps?\n",
    "\n",
    "- Automation\n",
    "- Scalability\n",
    "- Reproducibility\n",
    "- Monitoring\n",
    "- Governance\n",
    "\n",
    "\n",
    "#### MLOps vs DevOps\n"
   ]
  },
  {
   "cell_type": "code",
   "execution_count": null,
   "id": "3660dd2f",
   "metadata": {},
   "outputs": [],
   "source": []
  },
  {
   "cell_type": "markdown",
   "id": "e63ed205",
   "metadata": {},
   "source": [
    "### CI/CD: continuous integration, continuous delivery, and continuous deployment.\n",
    "\n",
    "![](images/cicd.png)"
   ]
  },
  {
   "cell_type": "code",
   "execution_count": null,
   "id": "aee7a13e",
   "metadata": {},
   "outputs": [],
   "source": []
  },
  {
   "cell_type": "markdown",
   "id": "d04e85eb",
   "metadata": {},
   "source": [
    "### Pipeline\n",
    "\n",
    "![](images/pipeline.png)\n",
    "\n",
    "\n",
    "![](images/pipeline1.png)\n"
   ]
  },
  {
   "cell_type": "code",
   "execution_count": null,
   "id": "30c2e8e7",
   "metadata": {},
   "outputs": [],
   "source": []
  },
  {
   "cell_type": "markdown",
   "id": "323cd40b",
   "metadata": {},
   "source": [
    "### Deployment\n",
    "![](images/deploy.png)"
   ]
  },
  {
   "cell_type": "code",
   "execution_count": null,
   "id": "3d9d3910",
   "metadata": {},
   "outputs": [],
   "source": []
  },
  {
   "cell_type": "markdown",
   "id": "91a30e23",
   "metadata": {},
   "source": [
    "### Application Programming Interface (API)\n",
    "![](images/api.png)"
   ]
  },
  {
   "cell_type": "code",
   "execution_count": null,
   "id": "9e8fd38e",
   "metadata": {},
   "outputs": [],
   "source": []
  },
  {
   "cell_type": "code",
   "execution_count": null,
   "id": "9826031a",
   "metadata": {},
   "outputs": [],
   "source": []
  },
  {
   "cell_type": "markdown",
   "id": "238667ea",
   "metadata": {},
   "source": [
    "### Container\n",
    "- What does an environment include?\n",
    "![](images/container.png)"
   ]
  },
  {
   "cell_type": "code",
   "execution_count": null,
   "id": "853ceb30",
   "metadata": {},
   "outputs": [],
   "source": []
  },
  {
   "cell_type": "markdown",
   "id": "7a65b0ca",
   "metadata": {},
   "source": [
    "### Docker\n",
    "![](images/docker.png)"
   ]
  },
  {
   "cell_type": "code",
   "execution_count": null,
   "id": "c10a2708",
   "metadata": {},
   "outputs": [],
   "source": []
  },
  {
   "cell_type": "markdown",
   "id": "c646ca19",
   "metadata": {},
   "source": [
    "### Kubernetes\n",
    "- Features\n",
    "- Why do you need Kubernetes if you have Docker?\n",
    "- Quick re-cap of terms:"
   ]
  },
  {
   "cell_type": "markdown",
   "id": "964a896a",
   "metadata": {},
   "source": [
    "![](images/kuber.png)"
   ]
  },
  {
   "cell_type": "code",
   "execution_count": null,
   "id": "dc36ae9b",
   "metadata": {},
   "outputs": [],
   "source": []
  },
  {
   "cell_type": "markdown",
   "id": "452ff64b",
   "metadata": {},
   "source": [
    "### MLOps Frameworks and Libraries in Python\n",
    "- MLflow\n",
    "- Metaflow\n",
    "- Kubeflow\n",
    "- Kedro\n",
    "- FastAPI\n",
    "- ZenML\n"
   ]
  },
  {
   "cell_type": "markdown",
   "id": "bf765b90",
   "metadata": {},
   "source": [
    "# Example: End-to-End Pipeline Development, Deployment, and MLOps\n",
    "### Problem Setup\n",
    "\n",
    "An insurance company wants to improve its cash flow forecasting by better predicting patient charges, using demographic and basic patient health-risk metrics at the time of hospitalization.\n",
    "\n",
    "Our objective is to build and deploy a web application where the demographic and health information of a patient is entered into a web-based form, which then outputs a predicted charge amount. To achieve this we will do the following:\n",
    "\n",
    "   - Train and develop a machine learning pipeline for deployment (simple linear regression model).\n",
    "   - Build a web app using the Flask framework. It will use the trained ML pipeline to generate predictions on new data points in real-time (front-end code is not the focus of this tutorial).\n",
    "   - Create a Docker image and container.\n",
    "   - Publish the container onto the Azure Container Registry (ACR).\n",
    "   -  Deploy the web app in the container by publishing onto ACR. Once deployed, it will become publicly available and can be accessed via a Web URL.\n"
   ]
  },
  {
   "cell_type": "code",
   "execution_count": null,
   "id": "ee34818d",
   "metadata": {},
   "outputs": [],
   "source": []
  },
  {
   "cell_type": "code",
   "execution_count": null,
   "id": "d3590633",
   "metadata": {},
   "outputs": [],
   "source": []
  },
  {
   "cell_type": "code",
   "execution_count": null,
   "id": "351c715f",
   "metadata": {},
   "outputs": [],
   "source": [
    "Docker Container"
   ]
  },
  {
   "cell_type": "code",
   "execution_count": null,
   "id": "3d46fac0",
   "metadata": {},
   "outputs": [],
   "source": [
    "FROM python:3.7\n",
    "\n",
    "RUN pip install virtualenv\n",
    "ENV VIRTUAL_ENV=/venv\n",
    "RUN virtualenv venv -p python3\n",
    "ENV PATH=\"VIRTUAL_ENV/bin:$PATH\"\n",
    "\n",
    "WORKDIR /app\n",
    "ADD . /app\n",
    "\n",
    "# install dependencies\n",
    "RUN pip install -r requirements.txt\n",
    "\n",
    "# expose port\n",
    "EXPOSE 5000\n",
    "\n",
    "# run application\n",
    "CMD [\"python\", \"app.py\"]"
   ]
  },
  {
   "cell_type": "code",
   "execution_count": null,
   "id": "8c08bc30",
   "metadata": {},
   "outputs": [],
   "source": []
  }
 ],
 "metadata": {
  "kernelspec": {
   "display_name": "Python 3 (ipykernel)",
   "language": "python",
   "name": "python3"
  },
  "language_info": {
   "codemirror_mode": {
    "name": "ipython",
    "version": 3
   },
   "file_extension": ".py",
   "mimetype": "text/x-python",
   "name": "python",
   "nbconvert_exporter": "python",
   "pygments_lexer": "ipython3",
   "version": "3.8.10"
  }
 },
 "nbformat": 4,
 "nbformat_minor": 5
}
