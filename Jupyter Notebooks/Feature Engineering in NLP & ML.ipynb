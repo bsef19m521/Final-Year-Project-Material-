{
 "cells": [
  {
   "cell_type": "markdown",
   "id": "85b45005",
   "metadata": {},
   "source": [
    "# Feature Engineering in NLP:\n",
    "### 1. Bag of Words using `CountVectorizer` from sklearn"
   ]
  },
  {
   "cell_type": "markdown",
   "id": "c56060ad",
   "metadata": {},
   "source": [
    "- What is BoW?\n",
    "- Steps to create BoW representation of a corpus?\n",
    "- Applications/uses of BoW?"
   ]
  },
  {
   "cell_type": "code",
   "execution_count": 1,
   "id": "4f6cbdfb",
   "metadata": {},
   "outputs": [
    {
     "data": {
      "text/plain": [
       "['Matt is a fan of football',\n",
       " 'He also likes to cook occasionally',\n",
       " 'He is a nice guy']"
      ]
     },
     "execution_count": 1,
     "metadata": {},
     "output_type": "execute_result"
    }
   ],
   "source": [
    "corpus = [\"Matt is a fan of football\",\n",
    "          \"He also likes to cook occasionally\",\n",
    "          \"He is a nice guy\"]\n",
    "corpus"
   ]
  },
  {
   "cell_type": "code",
   "execution_count": 2,
   "id": "b02c081c",
   "metadata": {},
   "outputs": [
    {
     "name": "stdout",
     "output_type": "stream",
     "text": [
      "<class 'sklearn.feature_extraction.text.CountVectorizer'>\n"
     ]
    }
   ],
   "source": [
    "# create an object of countvectorizer class\n",
    "from sklearn.feature_extraction.text import CountVectorizer\n",
    "cv = CountVectorizer()\n",
    "print(type(cv))"
   ]
  },
  {
   "cell_type": "code",
   "execution_count": 3,
   "id": "16ad5a5f",
   "metadata": {},
   "outputs": [
    {
     "name": "stdout",
     "output_type": "stream",
     "text": [
      "['__class__', '__delattr__', '__dict__', '__dir__', '__doc__', '__eq__', '__format__', '__ge__', '__getattribute__', '__getstate__', '__gt__', '__hash__', '__init__', '__init_subclass__', '__le__', '__lt__', '__module__', '__ne__', '__new__', '__reduce__', '__reduce_ex__', '__repr__', '__setattr__', '__setstate__', '__sizeof__', '__str__', '__subclasshook__', '__weakref__', '_char_ngrams', '_char_wb_ngrams', '_check_feature_names', '_check_n_features', '_check_stop_words_consistency', '_check_vocabulary', '_count_vocab', '_get_param_names', '_get_tags', '_limit_features', '_more_tags', '_repr_html_', '_repr_html_inner', '_repr_mimebundle_', '_sort_features', '_validate_data', '_validate_params', '_validate_vocabulary', '_warn_for_unused_params', '_white_spaces', '_word_ngrams', 'analyzer', 'binary', 'build_analyzer', 'build_preprocessor', 'build_tokenizer', 'decode', 'decode_error', 'dtype', 'encoding', 'fit', 'fit_transform', 'get_feature_names', 'get_feature_names_out', 'get_params', 'get_stop_words', 'input', 'inverse_transform', 'lowercase', 'max_df', 'max_features', 'min_df', 'ngram_range', 'preprocessor', 'set_params', 'stop_words', 'strip_accents', 'token_pattern', 'tokenizer', 'transform', 'vocabulary']\n"
     ]
    }
   ],
   "source": [
    "# methods and attributes in CountVectorizer object\n",
    "print(dir(cv))"
   ]
  },
  {
   "cell_type": "code",
   "execution_count": 4,
   "id": "a4f4f2c9",
   "metadata": {},
   "outputs": [],
   "source": [
    "# generate vocabulary dictionary and return a Document Turn Matrix\n",
    "bow = cv.fit_transform(corpus)"
   ]
  },
  {
   "cell_type": "code",
   "execution_count": 5,
   "id": "c6c54707",
   "metadata": {},
   "outputs": [
    {
     "name": "stdout",
     "output_type": "stream",
     "text": [
      "{'matt': 8, 'is': 6, 'fan': 2, 'of': 11, 'football': 3, 'he': 5, 'also': 0, 'likes': 7, 'to': 12, 'cook': 1, 'occasionally': 10, 'nice': 9, 'guy': 4}\n"
     ]
    }
   ],
   "source": [
    "# to print vocabulary\n",
    "print(cv.vocabulary_)"
   ]
  },
  {
   "cell_type": "code",
   "execution_count": 6,
   "id": "49b0c352",
   "metadata": {},
   "outputs": [
    {
     "data": {
      "text/plain": [
       "array(['also', 'cook', 'fan', 'football', 'guy', 'he', 'is', 'likes',\n",
       "       'matt', 'nice', 'occasionally', 'of', 'to'], dtype=object)"
      ]
     },
     "execution_count": 6,
     "metadata": {},
     "output_type": "execute_result"
    }
   ],
   "source": [
    "cv.get_feature_names_out()"
   ]
  },
  {
   "cell_type": "markdown",
   "id": "7e14c1e4",
   "metadata": {},
   "source": [
    ">- Note that single character words are not there in vocabulary"
   ]
  },
  {
   "cell_type": "code",
   "execution_count": 7,
   "id": "06fd40f7",
   "metadata": {},
   "outputs": [
    {
     "data": {
      "text/plain": [
       "(3, 13)"
      ]
     },
     "execution_count": 7,
     "metadata": {},
     "output_type": "execute_result"
    }
   ],
   "source": [
    "bow.shape"
   ]
  },
  {
   "cell_type": "code",
   "execution_count": 8,
   "id": "1d784385",
   "metadata": {},
   "outputs": [
    {
     "data": {
      "text/plain": [
       "<3x13 sparse matrix of type '<class 'numpy.int64'>'\n",
       "\twith 15 stored elements in Compressed Sparse Row format>"
      ]
     },
     "execution_count": 8,
     "metadata": {},
     "output_type": "execute_result"
    }
   ],
   "source": [
    "bow"
   ]
  },
  {
   "cell_type": "code",
   "execution_count": 9,
   "id": "8b269900",
   "metadata": {},
   "outputs": [
    {
     "data": {
      "text/plain": [
       "array([[0, 0, 1, 1, 0, 0, 1, 0, 1, 0, 0, 1, 0],\n",
       "       [1, 1, 0, 0, 0, 1, 0, 1, 0, 0, 1, 0, 1],\n",
       "       [0, 0, 0, 0, 1, 1, 1, 0, 0, 1, 0, 0, 0]])"
      ]
     },
     "execution_count": 9,
     "metadata": {},
     "output_type": "execute_result"
    }
   ],
   "source": [
    "# since bow is a sparse matrix, so to change it to dense matrix or array, we can use numpy toarray()\n",
    "bow.toarray()"
   ]
  },
  {
   "cell_type": "code",
   "execution_count": 10,
   "id": "86e5402c",
   "metadata": {},
   "outputs": [
    {
     "data": {
      "text/plain": [
       "matrix([[0, 0, 1, 1, 0, 0, 1, 0, 1, 0, 0, 1, 0],\n",
       "        [1, 1, 0, 0, 0, 1, 0, 1, 0, 0, 1, 0, 1],\n",
       "        [0, 0, 0, 0, 1, 1, 1, 0, 0, 1, 0, 0, 0]])"
      ]
     },
     "execution_count": 10,
     "metadata": {},
     "output_type": "execute_result"
    }
   ],
   "source": [
    "bow.todense()"
   ]
  },
  {
   "cell_type": "markdown",
   "id": "ed2c527b",
   "metadata": {},
   "source": [
    "##### Let save the corpus as DTM of BoW representation"
   ]
  },
  {
   "cell_type": "code",
   "execution_count": 11,
   "id": "7dd5c4e3",
   "metadata": {},
   "outputs": [
    {
     "data": {
      "text/html": [
       "<div>\n",
       "<style scoped>\n",
       "    .dataframe tbody tr th:only-of-type {\n",
       "        vertical-align: middle;\n",
       "    }\n",
       "\n",
       "    .dataframe tbody tr th {\n",
       "        vertical-align: top;\n",
       "    }\n",
       "\n",
       "    .dataframe thead th {\n",
       "        text-align: right;\n",
       "    }\n",
       "</style>\n",
       "<table border=\"1\" class=\"dataframe\">\n",
       "  <thead>\n",
       "    <tr style=\"text-align: right;\">\n",
       "      <th></th>\n",
       "      <th>also</th>\n",
       "      <th>cook</th>\n",
       "      <th>fan</th>\n",
       "      <th>football</th>\n",
       "      <th>guy</th>\n",
       "      <th>he</th>\n",
       "      <th>is</th>\n",
       "      <th>likes</th>\n",
       "      <th>matt</th>\n",
       "      <th>nice</th>\n",
       "      <th>occasionally</th>\n",
       "      <th>of</th>\n",
       "      <th>to</th>\n",
       "    </tr>\n",
       "  </thead>\n",
       "  <tbody>\n",
       "    <tr>\n",
       "      <th>0</th>\n",
       "      <td>0</td>\n",
       "      <td>0</td>\n",
       "      <td>1</td>\n",
       "      <td>1</td>\n",
       "      <td>0</td>\n",
       "      <td>0</td>\n",
       "      <td>1</td>\n",
       "      <td>0</td>\n",
       "      <td>1</td>\n",
       "      <td>0</td>\n",
       "      <td>0</td>\n",
       "      <td>1</td>\n",
       "      <td>0</td>\n",
       "    </tr>\n",
       "    <tr>\n",
       "      <th>1</th>\n",
       "      <td>1</td>\n",
       "      <td>1</td>\n",
       "      <td>0</td>\n",
       "      <td>0</td>\n",
       "      <td>0</td>\n",
       "      <td>1</td>\n",
       "      <td>0</td>\n",
       "      <td>1</td>\n",
       "      <td>0</td>\n",
       "      <td>0</td>\n",
       "      <td>1</td>\n",
       "      <td>0</td>\n",
       "      <td>1</td>\n",
       "    </tr>\n",
       "    <tr>\n",
       "      <th>2</th>\n",
       "      <td>0</td>\n",
       "      <td>0</td>\n",
       "      <td>0</td>\n",
       "      <td>0</td>\n",
       "      <td>1</td>\n",
       "      <td>1</td>\n",
       "      <td>1</td>\n",
       "      <td>0</td>\n",
       "      <td>0</td>\n",
       "      <td>1</td>\n",
       "      <td>0</td>\n",
       "      <td>0</td>\n",
       "      <td>0</td>\n",
       "    </tr>\n",
       "  </tbody>\n",
       "</table>\n",
       "</div>"
      ],
      "text/plain": [
       "   also  cook  fan  football  guy  he  is  likes  matt  nice  occasionally  \\\n",
       "0     0     0    1         1    0   0   1      0     1     0             0   \n",
       "1     1     1    0         0    0   1   0      1     0     0             1   \n",
       "2     0     0    0         0    1   1   1      0     0     1             0   \n",
       "\n",
       "   of  to  \n",
       "0   1   0  \n",
       "1   0   1  \n",
       "2   0   0  "
      ]
     },
     "execution_count": 11,
     "metadata": {},
     "output_type": "execute_result"
    }
   ],
   "source": [
    "import pandas as pd\n",
    "dtm = pd.DataFrame(data=bow.todense(), columns=cv.get_feature_names_out())\n",
    "dtm"
   ]
  },
  {
   "cell_type": "code",
   "execution_count": 12,
   "id": "2fb50ecf",
   "metadata": {},
   "outputs": [
    {
     "data": {
      "text/html": [
       "<div>\n",
       "<style scoped>\n",
       "    .dataframe tbody tr th:only-of-type {\n",
       "        vertical-align: middle;\n",
       "    }\n",
       "\n",
       "    .dataframe tbody tr th {\n",
       "        vertical-align: top;\n",
       "    }\n",
       "\n",
       "    .dataframe thead th {\n",
       "        text-align: right;\n",
       "    }\n",
       "</style>\n",
       "<table border=\"1\" class=\"dataframe\">\n",
       "  <thead>\n",
       "    <tr style=\"text-align: right;\">\n",
       "      <th></th>\n",
       "      <th>0</th>\n",
       "      <th>1</th>\n",
       "      <th>2</th>\n",
       "      <th>3</th>\n",
       "      <th>4</th>\n",
       "      <th>5</th>\n",
       "      <th>6</th>\n",
       "      <th>7</th>\n",
       "      <th>8</th>\n",
       "      <th>9</th>\n",
       "      <th>10</th>\n",
       "      <th>11</th>\n",
       "      <th>12</th>\n",
       "    </tr>\n",
       "  </thead>\n",
       "  <tbody>\n",
       "    <tr>\n",
       "      <th>0</th>\n",
       "      <td>0</td>\n",
       "      <td>0</td>\n",
       "      <td>1</td>\n",
       "      <td>1</td>\n",
       "      <td>0</td>\n",
       "      <td>0</td>\n",
       "      <td>1</td>\n",
       "      <td>0</td>\n",
       "      <td>1</td>\n",
       "      <td>0</td>\n",
       "      <td>0</td>\n",
       "      <td>1</td>\n",
       "      <td>0</td>\n",
       "    </tr>\n",
       "    <tr>\n",
       "      <th>1</th>\n",
       "      <td>1</td>\n",
       "      <td>1</td>\n",
       "      <td>0</td>\n",
       "      <td>0</td>\n",
       "      <td>0</td>\n",
       "      <td>1</td>\n",
       "      <td>0</td>\n",
       "      <td>1</td>\n",
       "      <td>0</td>\n",
       "      <td>0</td>\n",
       "      <td>1</td>\n",
       "      <td>0</td>\n",
       "      <td>1</td>\n",
       "    </tr>\n",
       "    <tr>\n",
       "      <th>2</th>\n",
       "      <td>0</td>\n",
       "      <td>0</td>\n",
       "      <td>0</td>\n",
       "      <td>0</td>\n",
       "      <td>1</td>\n",
       "      <td>1</td>\n",
       "      <td>1</td>\n",
       "      <td>0</td>\n",
       "      <td>0</td>\n",
       "      <td>1</td>\n",
       "      <td>0</td>\n",
       "      <td>0</td>\n",
       "      <td>0</td>\n",
       "    </tr>\n",
       "  </tbody>\n",
       "</table>\n",
       "</div>"
      ],
      "text/plain": [
       "   0   1   2   3   4   5   6   7   8   9   10  11  12\n",
       "0   0   0   1   1   0   0   1   0   1   0   0   1   0\n",
       "1   1   1   0   0   0   1   0   1   0   0   1   0   1\n",
       "2   0   0   0   0   1   1   1   0   0   1   0   0   0"
      ]
     },
     "execution_count": 12,
     "metadata": {},
     "output_type": "execute_result"
    }
   ],
   "source": [
    "import pandas as pd\n",
    "dtm = pd.DataFrame(data=bow.todense())\n",
    "dtm"
   ]
  },
  {
   "cell_type": "code",
   "execution_count": null,
   "id": "0f84eecd",
   "metadata": {},
   "outputs": [],
   "source": []
  },
  {
   "cell_type": "code",
   "execution_count": null,
   "id": "29b9927e",
   "metadata": {},
   "outputs": [],
   "source": []
  },
  {
   "cell_type": "markdown",
   "id": "fb759e36",
   "metadata": {},
   "source": [
    "### 2. Term Frequency - Inverse Document Frequency(TF-IDF)"
   ]
  },
  {
   "cell_type": "code",
   "execution_count": 13,
   "id": "f0fcf2d8",
   "metadata": {},
   "outputs": [
    {
     "data": {
      "text/plain": [
       "['Matt is a fan of football',\n",
       " 'He also likes to cook occasionally',\n",
       " 'He is a nice guy']"
      ]
     },
     "execution_count": 13,
     "metadata": {},
     "output_type": "execute_result"
    }
   ],
   "source": [
    "corpus = [\"Matt is a fan of football\",\n",
    "          \"He also likes to cook occasionally\",\n",
    "          \"He is a nice guy\"]\n",
    "corpus"
   ]
  },
  {
   "cell_type": "code",
   "execution_count": 15,
   "id": "85129dd3",
   "metadata": {},
   "outputs": [
    {
     "name": "stdout",
     "output_type": "stream",
     "text": [
      "<class 'sklearn.feature_extraction.text.TfidfVectorizer'>\n"
     ]
    }
   ],
   "source": [
    "# create an object of TfidfVectorizer class\n",
    "from sklearn.feature_extraction.text import TfidfVectorizer\n",
    "tfidf_vec = TfidfVectorizer()\n",
    "print(type(tfidf_vec))"
   ]
  },
  {
   "cell_type": "code",
   "execution_count": 16,
   "id": "e52250d1",
   "metadata": {},
   "outputs": [
    {
     "name": "stdout",
     "output_type": "stream",
     "text": [
      "['__class__', '__delattr__', '__dict__', '__dir__', '__doc__', '__eq__', '__format__', '__ge__', '__getattribute__', '__getstate__', '__gt__', '__hash__', '__init__', '__init_subclass__', '__le__', '__lt__', '__module__', '__ne__', '__new__', '__reduce__', '__reduce_ex__', '__repr__', '__setattr__', '__setstate__', '__sizeof__', '__str__', '__subclasshook__', '__weakref__', '_char_ngrams', '_char_wb_ngrams', '_check_feature_names', '_check_n_features', '_check_params', '_check_stop_words_consistency', '_check_vocabulary', '_count_vocab', '_get_param_names', '_get_tags', '_limit_features', '_more_tags', '_repr_html_', '_repr_html_inner', '_repr_mimebundle_', '_sort_features', '_validate_data', '_validate_params', '_validate_vocabulary', '_warn_for_unused_params', '_white_spaces', '_word_ngrams', 'analyzer', 'binary', 'build_analyzer', 'build_preprocessor', 'build_tokenizer', 'decode', 'decode_error', 'dtype', 'encoding', 'fit', 'fit_transform', 'get_feature_names', 'get_feature_names_out', 'get_params', 'get_stop_words', 'idf_', 'input', 'inverse_transform', 'lowercase', 'max_df', 'max_features', 'min_df', 'ngram_range', 'norm', 'preprocessor', 'set_params', 'smooth_idf', 'stop_words', 'strip_accents', 'sublinear_tf', 'token_pattern', 'tokenizer', 'transform', 'use_idf', 'vocabulary']\n"
     ]
    }
   ],
   "source": [
    "print(dir(tfidf_vec))"
   ]
  },
  {
   "cell_type": "code",
   "execution_count": 17,
   "id": "16739226",
   "metadata": {},
   "outputs": [],
   "source": [
    "# generate vocabulary dictionary and return a Document Turn Matrix having tfidt values\n",
    "tfidf = tfidf_vec.fit_transform(corpus)\n"
   ]
  },
  {
   "cell_type": "code",
   "execution_count": 18,
   "id": "08f68e48",
   "metadata": {},
   "outputs": [
    {
     "name": "stdout",
     "output_type": "stream",
     "text": [
      "{'matt': 8, 'is': 6, 'fan': 2, 'of': 11, 'football': 3, 'he': 5, 'also': 0, 'likes': 7, 'to': 12, 'cook': 1, 'occasionally': 10, 'nice': 9, 'guy': 4}\n"
     ]
    }
   ],
   "source": [
    "# to print vocabulary\n",
    "print(tfidf_vec.vocabulary_)"
   ]
  },
  {
   "cell_type": "code",
   "execution_count": 19,
   "id": "a3af3099",
   "metadata": {},
   "outputs": [
    {
     "name": "stdout",
     "output_type": "stream",
     "text": [
      "['also' 'cook' 'fan' 'football' 'guy' 'he' 'is' 'likes' 'matt' 'nice'\n",
      " 'occasionally' 'of' 'to']\n"
     ]
    }
   ],
   "source": [
    "print(tfidf_vec.get_feature_names_out())"
   ]
  },
  {
   "cell_type": "code",
   "execution_count": 20,
   "id": "0380b568",
   "metadata": {},
   "outputs": [
    {
     "data": {
      "text/plain": [
       "(3, 13)"
      ]
     },
     "execution_count": 20,
     "metadata": {},
     "output_type": "execute_result"
    }
   ],
   "source": [
    "tfidf.shape"
   ]
  },
  {
   "cell_type": "code",
   "execution_count": 21,
   "id": "727154c1",
   "metadata": {},
   "outputs": [
    {
     "data": {
      "text/plain": [
       "<3x13 sparse matrix of type '<class 'numpy.float64'>'\n",
       "\twith 15 stored elements in Compressed Sparse Row format>"
      ]
     },
     "execution_count": 21,
     "metadata": {},
     "output_type": "execute_result"
    }
   ],
   "source": [
    "tfidf"
   ]
  },
  {
   "cell_type": "code",
   "execution_count": 22,
   "id": "e84dccb9",
   "metadata": {},
   "outputs": [
    {
     "data": {
      "text/plain": [
       "array([[0.        , 0.        , 0.46735098, 0.46735098, 0.        ,\n",
       "        0.        , 0.35543247, 0.        , 0.46735098, 0.        ,\n",
       "        0.        , 0.46735098, 0.        ],\n",
       "       [0.42339448, 0.42339448, 0.        , 0.        , 0.        ,\n",
       "        0.32200242, 0.        , 0.42339448, 0.        , 0.        ,\n",
       "        0.42339448, 0.        , 0.42339448],\n",
       "       [0.        , 0.        , 0.        , 0.        , 0.5628291 ,\n",
       "        0.42804604, 0.42804604, 0.        , 0.        , 0.5628291 ,\n",
       "        0.        , 0.        , 0.        ]])"
      ]
     },
     "execution_count": 22,
     "metadata": {},
     "output_type": "execute_result"
    }
   ],
   "source": [
    "# since bow is a sparse matrix, so to change it to dense matrix or array, we can use numpy toarray()\n",
    "tfidf.toarray()"
   ]
  },
  {
   "cell_type": "code",
   "execution_count": 23,
   "id": "eb5590af",
   "metadata": {},
   "outputs": [
    {
     "data": {
      "text/plain": [
       "matrix([[0.        , 0.        , 0.46735098, 0.46735098, 0.        ,\n",
       "         0.        , 0.35543247, 0.        , 0.46735098, 0.        ,\n",
       "         0.        , 0.46735098, 0.        ],\n",
       "        [0.42339448, 0.42339448, 0.        , 0.        , 0.        ,\n",
       "         0.32200242, 0.        , 0.42339448, 0.        , 0.        ,\n",
       "         0.42339448, 0.        , 0.42339448],\n",
       "        [0.        , 0.        , 0.        , 0.        , 0.5628291 ,\n",
       "         0.42804604, 0.42804604, 0.        , 0.        , 0.5628291 ,\n",
       "         0.        , 0.        , 0.        ]])"
      ]
     },
     "execution_count": 23,
     "metadata": {},
     "output_type": "execute_result"
    }
   ],
   "source": [
    "tfidf.todense()"
   ]
  },
  {
   "cell_type": "markdown",
   "id": "1d83e2ca",
   "metadata": {},
   "source": [
    "##### Let save the corpus as DTM of TF-IDF representation"
   ]
  },
  {
   "cell_type": "code",
   "execution_count": 24,
   "id": "31c63f5d",
   "metadata": {},
   "outputs": [
    {
     "data": {
      "text/html": [
       "<div>\n",
       "<style scoped>\n",
       "    .dataframe tbody tr th:only-of-type {\n",
       "        vertical-align: middle;\n",
       "    }\n",
       "\n",
       "    .dataframe tbody tr th {\n",
       "        vertical-align: top;\n",
       "    }\n",
       "\n",
       "    .dataframe thead th {\n",
       "        text-align: right;\n",
       "    }\n",
       "</style>\n",
       "<table border=\"1\" class=\"dataframe\">\n",
       "  <thead>\n",
       "    <tr style=\"text-align: right;\">\n",
       "      <th></th>\n",
       "      <th>also</th>\n",
       "      <th>cook</th>\n",
       "      <th>fan</th>\n",
       "      <th>football</th>\n",
       "      <th>guy</th>\n",
       "      <th>he</th>\n",
       "      <th>is</th>\n",
       "      <th>likes</th>\n",
       "      <th>matt</th>\n",
       "      <th>nice</th>\n",
       "      <th>occasionally</th>\n",
       "      <th>of</th>\n",
       "      <th>to</th>\n",
       "    </tr>\n",
       "  </thead>\n",
       "  <tbody>\n",
       "    <tr>\n",
       "      <th>0</th>\n",
       "      <td>0.000000</td>\n",
       "      <td>0.000000</td>\n",
       "      <td>0.467351</td>\n",
       "      <td>0.467351</td>\n",
       "      <td>0.000000</td>\n",
       "      <td>0.000000</td>\n",
       "      <td>0.355432</td>\n",
       "      <td>0.000000</td>\n",
       "      <td>0.467351</td>\n",
       "      <td>0.000000</td>\n",
       "      <td>0.000000</td>\n",
       "      <td>0.467351</td>\n",
       "      <td>0.000000</td>\n",
       "    </tr>\n",
       "    <tr>\n",
       "      <th>1</th>\n",
       "      <td>0.423394</td>\n",
       "      <td>0.423394</td>\n",
       "      <td>0.000000</td>\n",
       "      <td>0.000000</td>\n",
       "      <td>0.000000</td>\n",
       "      <td>0.322002</td>\n",
       "      <td>0.000000</td>\n",
       "      <td>0.423394</td>\n",
       "      <td>0.000000</td>\n",
       "      <td>0.000000</td>\n",
       "      <td>0.423394</td>\n",
       "      <td>0.000000</td>\n",
       "      <td>0.423394</td>\n",
       "    </tr>\n",
       "    <tr>\n",
       "      <th>2</th>\n",
       "      <td>0.000000</td>\n",
       "      <td>0.000000</td>\n",
       "      <td>0.000000</td>\n",
       "      <td>0.000000</td>\n",
       "      <td>0.562829</td>\n",
       "      <td>0.428046</td>\n",
       "      <td>0.428046</td>\n",
       "      <td>0.000000</td>\n",
       "      <td>0.000000</td>\n",
       "      <td>0.562829</td>\n",
       "      <td>0.000000</td>\n",
       "      <td>0.000000</td>\n",
       "      <td>0.000000</td>\n",
       "    </tr>\n",
       "  </tbody>\n",
       "</table>\n",
       "</div>"
      ],
      "text/plain": [
       "       also      cook       fan  football       guy        he        is  \\\n",
       "0  0.000000  0.000000  0.467351  0.467351  0.000000  0.000000  0.355432   \n",
       "1  0.423394  0.423394  0.000000  0.000000  0.000000  0.322002  0.000000   \n",
       "2  0.000000  0.000000  0.000000  0.000000  0.562829  0.428046  0.428046   \n",
       "\n",
       "      likes      matt      nice  occasionally        of        to  \n",
       "0  0.000000  0.467351  0.000000      0.000000  0.467351  0.000000  \n",
       "1  0.423394  0.000000  0.000000      0.423394  0.000000  0.423394  \n",
       "2  0.000000  0.000000  0.562829      0.000000  0.000000  0.000000  "
      ]
     },
     "execution_count": 24,
     "metadata": {},
     "output_type": "execute_result"
    }
   ],
   "source": [
    "import pandas as pd\n",
    "dtm = pd.DataFrame(data=tfidf.todense(), columns=tfidf_vec.get_feature_names_out())\n",
    "dtm"
   ]
  },
  {
   "cell_type": "code",
   "execution_count": null,
   "id": "01c791c1",
   "metadata": {},
   "outputs": [],
   "source": []
  },
  {
   "cell_type": "markdown",
   "id": "5e900e1e",
   "metadata": {},
   "source": [
    "## Word embedding Techniques\n",
    "#### Word2Vec using SpaCy `en_core_web_lg` model"
   ]
  },
  {
   "cell_type": "code",
   "execution_count": null,
   "id": "f5bec46a",
   "metadata": {},
   "outputs": [],
   "source": [
    "# import and load the language library\n",
    "import spacy\n",
    "nlp = spacy.load('en_core_web_lg')"
   ]
  },
  {
   "cell_type": "code",
   "execution_count": null,
   "id": "72945833",
   "metadata": {},
   "outputs": [],
   "source": [
    "len(nlp.vocabcab.vectors)"
   ]
  },
  {
   "cell_type": "code",
   "execution_count": null,
   "id": "20522f70",
   "metadata": {},
   "outputs": [],
   "source": [
    "nlp.vocab.vectors.shape"
   ]
  },
  {
   "cell_type": "code",
   "execution_count": null,
   "id": "ed6869f2",
   "metadata": {},
   "outputs": [],
   "source": []
  },
  {
   "cell_type": "markdown",
   "id": "3c2b1a73",
   "metadata": {},
   "source": [
    "#### Vectors representation of words"
   ]
  },
  {
   "cell_type": "code",
   "execution_count": null,
   "id": "cd897bee",
   "metadata": {},
   "outputs": [],
   "source": [
    "nlp(u'king').vector"
   ]
  },
  {
   "cell_type": "code",
   "execution_count": null,
   "id": "d53a0162",
   "metadata": {},
   "outputs": [],
   "source": [
    "nlp(u'man').vector"
   ]
  },
  {
   "cell_type": "code",
   "execution_count": null,
   "id": "02f9a2e2",
   "metadata": {},
   "outputs": [],
   "source": [
    "nlp(u'Ehtisham').vector"
   ]
  },
  {
   "cell_type": "code",
   "execution_count": null,
   "id": "0700d9ca",
   "metadata": {},
   "outputs": [],
   "source": []
  },
  {
   "cell_type": "code",
   "execution_count": null,
   "id": "cfb061c5",
   "metadata": {},
   "outputs": [],
   "source": []
  },
  {
   "cell_type": "code",
   "execution_count": null,
   "id": "fe7da5c6",
   "metadata": {},
   "outputs": [],
   "source": []
  },
  {
   "cell_type": "code",
   "execution_count": null,
   "id": "889fa6c2",
   "metadata": {},
   "outputs": [],
   "source": []
  },
  {
   "cell_type": "code",
   "execution_count": null,
   "id": "c1fcdc91",
   "metadata": {},
   "outputs": [],
   "source": []
  },
  {
   "cell_type": "code",
   "execution_count": null,
   "id": "861c37a7",
   "metadata": {},
   "outputs": [],
   "source": []
  },
  {
   "cell_type": "code",
   "execution_count": null,
   "id": "04e0da3b",
   "metadata": {},
   "outputs": [],
   "source": []
  },
  {
   "cell_type": "code",
   "execution_count": null,
   "id": "4146ab23",
   "metadata": {},
   "outputs": [],
   "source": []
  },
  {
   "cell_type": "code",
   "execution_count": null,
   "id": "4a88ef96",
   "metadata": {},
   "outputs": [],
   "source": []
  },
  {
   "cell_type": "code",
   "execution_count": null,
   "id": "3fa9d269",
   "metadata": {},
   "outputs": [],
   "source": []
  },
  {
   "cell_type": "code",
   "execution_count": null,
   "id": "ed76ddac",
   "metadata": {},
   "outputs": [],
   "source": []
  },
  {
   "cell_type": "code",
   "execution_count": null,
   "id": "77720e0e",
   "metadata": {},
   "outputs": [],
   "source": []
  },
  {
   "cell_type": "code",
   "execution_count": null,
   "id": "16f5a98c",
   "metadata": {},
   "outputs": [],
   "source": []
  },
  {
   "cell_type": "code",
   "execution_count": null,
   "id": "5cd2ad05",
   "metadata": {},
   "outputs": [],
   "source": []
  },
  {
   "cell_type": "code",
   "execution_count": null,
   "id": "a67c700e",
   "metadata": {},
   "outputs": [],
   "source": []
  },
  {
   "cell_type": "markdown",
   "id": "24bc8664",
   "metadata": {},
   "source": [
    "## Feature Engineering in ML"
   ]
  },
  {
   "cell_type": "markdown",
   "id": "2e0a28f7",
   "metadata": {},
   "source": [
    "#### Imputation using `SimpleImputer()`"
   ]
  },
  {
   "cell_type": "code",
   "execution_count": 26,
   "id": "47f11576",
   "metadata": {},
   "outputs": [
    {
     "name": "stdout",
     "output_type": "stream",
     "text": [
      "['__class__', '__delattr__', '__dict__', '__dir__', '__doc__', '__eq__', '__format__', '__ge__', '__getattribute__', '__getstate__', '__gt__', '__hash__', '__init__', '__init_subclass__', '__le__', '__lt__', '__module__', '__ne__', '__new__', '__reduce__', '__reduce_ex__', '__repr__', '__setattr__', '__setstate__', '__sizeof__', '__str__', '__subclasshook__', '__weakref__', '_check_feature_names', '_check_n_features', '_concatenate_indicator', '_concatenate_indicator_feature_names_out', '_dense_fit', '_fit_indicator', '_get_param_names', '_get_tags', '_more_tags', '_repr_html_', '_repr_html_inner', '_repr_mimebundle_', '_sparse_fit', '_transform_indicator', '_validate_data', '_validate_input', 'add_indicator', 'copy', 'fill_value', 'fit', 'fit_transform', 'get_feature_names_out', 'get_params', 'inverse_transform', 'missing_values', 'set_params', 'strategy', 'transform', 'verbose']\n"
     ]
    }
   ],
   "source": [
    "from sklearn.impute import SimpleImputer\n",
    "si = SimpleImputer()\n",
    "print(dir(si))"
   ]
  },
  {
   "cell_type": "code",
   "execution_count": null,
   "id": "a1ab624b",
   "metadata": {},
   "outputs": [],
   "source": [
    "# si.strategy()"
   ]
  },
  {
   "cell_type": "markdown",
   "id": "afa84bd7",
   "metadata": {},
   "source": [
    "#### One Hot/Categorical Encoding using `LabelEncoder`"
   ]
  },
  {
   "cell_type": "code",
   "execution_count": 27,
   "id": "302cf1b8",
   "metadata": {},
   "outputs": [],
   "source": [
    "from sklearn.preprocessing import OrdinalEncoder\n",
    "oe = OrdinalEncoder()"
   ]
  },
  {
   "cell_type": "code",
   "execution_count": 28,
   "id": "d93129b7",
   "metadata": {},
   "outputs": [],
   "source": [
    "from sklearn.preprocessing import LabelEncoder\n",
    "le = LabelEncoder()"
   ]
  },
  {
   "cell_type": "code",
   "execution_count": null,
   "id": "73fb3a07",
   "metadata": {},
   "outputs": [],
   "source": []
  },
  {
   "cell_type": "markdown",
   "id": "06a7c62f",
   "metadata": {},
   "source": [
    "#### Logarithmic Transformation using `FunctionTransformer`"
   ]
  },
  {
   "cell_type": "code",
   "execution_count": null,
   "id": "82f70b48",
   "metadata": {},
   "outputs": [],
   "source": []
  },
  {
   "cell_type": "code",
   "execution_count": 45,
   "id": "e8b08d5f",
   "metadata": {},
   "outputs": [],
   "source": [
    "import pandas as pd\n",
    "import numpy as np\n",
    "from sklearn.model_selection import train_test_split\n",
    "from sklearn.preprocessing import FunctionTransformer\n",
    " \n",
    "# Load dataset\n",
    "data = pd.read_csv('datasets/train.csv')\n",
    " \n",
    "# Separate into train and test sets\n",
    "X_train, X_test, y_train, y_test = train_test_split(\n",
    "    data.drop(['Id', 'SalePrice'], axis=1),\n",
    "    data['SalePrice'],\n",
    "    test_size=0.3,\n",
    "    random_state=0\n",
    "    )\n",
    " \n",
    "# set up the variable transformer\n",
    "tf = FunctionTransformer(np.log)\n",
    " \n",
    "# fit the transformer\n",
    "tf.fit(X_train[['LotArea', 'GrLivArea']])\n",
    " \n",
    "# transform the data\n",
    "train_t = tf.transform(X_train[['LotArea', 'GrLivArea']])\n",
    "test_t = tf.transform(X_test[['LotArea', 'GrLivArea']])"
   ]
  },
  {
   "cell_type": "code",
   "execution_count": 46,
   "id": "3508f482",
   "metadata": {},
   "outputs": [
    {
     "data": {
      "text/plain": [
       "((1022, 79), (1022,), (438, 79), (438,))"
      ]
     },
     "execution_count": 46,
     "metadata": {},
     "output_type": "execute_result"
    }
   ],
   "source": [
    "X_train.shape,y_train.shape,X_test.shape,y_test.shape\n"
   ]
  },
  {
   "cell_type": "code",
   "execution_count": 41,
   "id": "f33514b1",
   "metadata": {},
   "outputs": [
    {
     "data": {
      "text/plain": [
       "(1460, 81)"
      ]
     },
     "execution_count": 41,
     "metadata": {},
     "output_type": "execute_result"
    }
   ],
   "source": [
    "data.shape"
   ]
  },
  {
   "cell_type": "code",
   "execution_count": 30,
   "id": "aa2cff58",
   "metadata": {},
   "outputs": [
    {
     "data": {
      "text/html": [
       "<div>\n",
       "<style scoped>\n",
       "    .dataframe tbody tr th:only-of-type {\n",
       "        vertical-align: middle;\n",
       "    }\n",
       "\n",
       "    .dataframe tbody tr th {\n",
       "        vertical-align: top;\n",
       "    }\n",
       "\n",
       "    .dataframe thead th {\n",
       "        text-align: right;\n",
       "    }\n",
       "</style>\n",
       "<table border=\"1\" class=\"dataframe\">\n",
       "  <thead>\n",
       "    <tr style=\"text-align: right;\">\n",
       "      <th></th>\n",
       "      <th>LotArea</th>\n",
       "      <th>GrLivArea</th>\n",
       "    </tr>\n",
       "  </thead>\n",
       "  <tbody>\n",
       "    <tr>\n",
       "      <th>0</th>\n",
       "      <td>8450</td>\n",
       "      <td>1710</td>\n",
       "    </tr>\n",
       "    <tr>\n",
       "      <th>1</th>\n",
       "      <td>9600</td>\n",
       "      <td>1262</td>\n",
       "    </tr>\n",
       "    <tr>\n",
       "      <th>2</th>\n",
       "      <td>11250</td>\n",
       "      <td>1786</td>\n",
       "    </tr>\n",
       "    <tr>\n",
       "      <th>3</th>\n",
       "      <td>9550</td>\n",
       "      <td>1717</td>\n",
       "    </tr>\n",
       "    <tr>\n",
       "      <th>4</th>\n",
       "      <td>14260</td>\n",
       "      <td>2198</td>\n",
       "    </tr>\n",
       "  </tbody>\n",
       "</table>\n",
       "</div>"
      ],
      "text/plain": [
       "   LotArea  GrLivArea\n",
       "0     8450       1710\n",
       "1     9600       1262\n",
       "2    11250       1786\n",
       "3     9550       1717\n",
       "4    14260       2198"
      ]
     },
     "execution_count": 30,
     "metadata": {},
     "output_type": "execute_result"
    }
   ],
   "source": [
    "data[['LotArea', 'GrLivArea']].head()"
   ]
  },
  {
   "cell_type": "code",
   "execution_count": 32,
   "id": "ae35361f",
   "metadata": {},
   "outputs": [
    {
     "data": {
      "text/html": [
       "<div>\n",
       "<style scoped>\n",
       "    .dataframe tbody tr th:only-of-type {\n",
       "        vertical-align: middle;\n",
       "    }\n",
       "\n",
       "    .dataframe tbody tr th {\n",
       "        vertical-align: top;\n",
       "    }\n",
       "\n",
       "    .dataframe thead th {\n",
       "        text-align: right;\n",
       "    }\n",
       "</style>\n",
       "<table border=\"1\" class=\"dataframe\">\n",
       "  <thead>\n",
       "    <tr style=\"text-align: right;\">\n",
       "      <th></th>\n",
       "      <th>LotArea</th>\n",
       "      <th>GrLivArea</th>\n",
       "    </tr>\n",
       "  </thead>\n",
       "  <tbody>\n",
       "    <tr>\n",
       "      <th>64</th>\n",
       "      <td>9.145802</td>\n",
       "      <td>7.617760</td>\n",
       "    </tr>\n",
       "    <tr>\n",
       "      <th>682</th>\n",
       "      <td>7.967973</td>\n",
       "      <td>7.163172</td>\n",
       "    </tr>\n",
       "    <tr>\n",
       "      <th>960</th>\n",
       "      <td>8.882808</td>\n",
       "      <td>6.754604</td>\n",
       "    </tr>\n",
       "    <tr>\n",
       "      <th>1384</th>\n",
       "      <td>9.111624</td>\n",
       "      <td>7.137278</td>\n",
       "    </tr>\n",
       "    <tr>\n",
       "      <th>1100</th>\n",
       "      <td>9.035987</td>\n",
       "      <td>6.082219</td>\n",
       "    </tr>\n",
       "  </tbody>\n",
       "</table>\n",
       "</div>"
      ],
      "text/plain": [
       "       LotArea  GrLivArea\n",
       "64    9.145802   7.617760\n",
       "682   7.967973   7.163172\n",
       "960   8.882808   6.754604\n",
       "1384  9.111624   7.137278\n",
       "1100  9.035987   6.082219"
      ]
     },
     "execution_count": 32,
     "metadata": {},
     "output_type": "execute_result"
    }
   ],
   "source": [
    "train_t.head()"
   ]
  },
  {
   "cell_type": "code",
   "execution_count": 33,
   "id": "e1c6e6e2",
   "metadata": {},
   "outputs": [
    {
     "data": {
      "text/html": [
       "<div>\n",
       "<style scoped>\n",
       "    .dataframe tbody tr th:only-of-type {\n",
       "        vertical-align: middle;\n",
       "    }\n",
       "\n",
       "    .dataframe tbody tr th {\n",
       "        vertical-align: top;\n",
       "    }\n",
       "\n",
       "    .dataframe thead th {\n",
       "        text-align: right;\n",
       "    }\n",
       "</style>\n",
       "<table border=\"1\" class=\"dataframe\">\n",
       "  <thead>\n",
       "    <tr style=\"text-align: right;\">\n",
       "      <th></th>\n",
       "      <th>LotArea</th>\n",
       "      <th>GrLivArea</th>\n",
       "    </tr>\n",
       "  </thead>\n",
       "  <tbody>\n",
       "    <tr>\n",
       "      <th>529</th>\n",
       "      <td>10.394151</td>\n",
       "      <td>7.830028</td>\n",
       "    </tr>\n",
       "    <tr>\n",
       "      <th>491</th>\n",
       "      <td>9.157994</td>\n",
       "      <td>7.363914</td>\n",
       "    </tr>\n",
       "    <tr>\n",
       "      <th>459</th>\n",
       "      <td>8.855806</td>\n",
       "      <td>7.092574</td>\n",
       "    </tr>\n",
       "    <tr>\n",
       "      <th>279</th>\n",
       "      <td>9.210840</td>\n",
       "      <td>7.611842</td>\n",
       "    </tr>\n",
       "    <tr>\n",
       "      <th>655</th>\n",
       "      <td>7.426549</td>\n",
       "      <td>6.995766</td>\n",
       "    </tr>\n",
       "  </tbody>\n",
       "</table>\n",
       "</div>"
      ],
      "text/plain": [
       "       LotArea  GrLivArea\n",
       "529  10.394151   7.830028\n",
       "491   9.157994   7.363914\n",
       "459   8.855806   7.092574\n",
       "279   9.210840   7.611842\n",
       "655   7.426549   6.995766"
      ]
     },
     "execution_count": 33,
     "metadata": {},
     "output_type": "execute_result"
    }
   ],
   "source": [
    "test_t.head()"
   ]
  },
  {
   "cell_type": "code",
   "execution_count": null,
   "id": "9ffdd643",
   "metadata": {},
   "outputs": [],
   "source": []
  },
  {
   "cell_type": "markdown",
   "id": "008d00c5",
   "metadata": {},
   "source": [
    "#### Discretization using `KBinsDiscretizer`"
   ]
  },
  {
   "cell_type": "code",
   "execution_count": 34,
   "id": "edc30013",
   "metadata": {},
   "outputs": [],
   "source": [
    "import pandas as pd\n",
    "from sklearn.model_selection import train_test_split\n",
    "from sklearn.preprocessing import KBinsDiscretizer\n",
    " \n",
    "# Load dataset\n",
    "data = data = pd.read_csv('datasets/train.csv')\n",
    " \n",
    "# Separate into train and test sets\n",
    "X_train, X_test, y_train, y_test = train_test_split(\n",
    "    data.drop(['Id', 'SalePrice'], axis=1),\n",
    "    data['SalePrice'],\n",
    "    test_size=0.3,\n",
    "    random_state=0\n",
    "    )\n",
    " \n",
    "# set up the discretisation transformer\n",
    "disc = KBinsDiscretizer(n_bins=10, strategy='quantile')\n",
    " \n",
    "# fit the transformer\n",
    "disc.fit(X_train[['LotArea', 'GrLivArea']])\n",
    " \n",
    "# transform the data\n",
    "train_t = disc.transform(X_train[['LotArea', 'GrLivArea']])\n",
    "test_t = disc.transform(X_test[['LotArea', 'GrLivArea']])"
   ]
  },
  {
   "cell_type": "code",
   "execution_count": 35,
   "id": "28e2adbf",
   "metadata": {},
   "outputs": [
    {
     "data": {
      "text/html": [
       "<div>\n",
       "<style scoped>\n",
       "    .dataframe tbody tr th:only-of-type {\n",
       "        vertical-align: middle;\n",
       "    }\n",
       "\n",
       "    .dataframe tbody tr th {\n",
       "        vertical-align: top;\n",
       "    }\n",
       "\n",
       "    .dataframe thead th {\n",
       "        text-align: right;\n",
       "    }\n",
       "</style>\n",
       "<table border=\"1\" class=\"dataframe\">\n",
       "  <thead>\n",
       "    <tr style=\"text-align: right;\">\n",
       "      <th></th>\n",
       "      <th>LotArea</th>\n",
       "      <th>GrLivArea</th>\n",
       "    </tr>\n",
       "  </thead>\n",
       "  <tbody>\n",
       "    <tr>\n",
       "      <th>0</th>\n",
       "      <td>8450</td>\n",
       "      <td>1710</td>\n",
       "    </tr>\n",
       "    <tr>\n",
       "      <th>1</th>\n",
       "      <td>9600</td>\n",
       "      <td>1262</td>\n",
       "    </tr>\n",
       "    <tr>\n",
       "      <th>2</th>\n",
       "      <td>11250</td>\n",
       "      <td>1786</td>\n",
       "    </tr>\n",
       "    <tr>\n",
       "      <th>3</th>\n",
       "      <td>9550</td>\n",
       "      <td>1717</td>\n",
       "    </tr>\n",
       "    <tr>\n",
       "      <th>4</th>\n",
       "      <td>14260</td>\n",
       "      <td>2198</td>\n",
       "    </tr>\n",
       "  </tbody>\n",
       "</table>\n",
       "</div>"
      ],
      "text/plain": [
       "   LotArea  GrLivArea\n",
       "0     8450       1710\n",
       "1     9600       1262\n",
       "2    11250       1786\n",
       "3     9550       1717\n",
       "4    14260       2198"
      ]
     },
     "execution_count": 35,
     "metadata": {},
     "output_type": "execute_result"
    }
   ],
   "source": [
    "data[['LotArea', 'GrLivArea']].head()"
   ]
  },
  {
   "cell_type": "code",
   "execution_count": 40,
   "id": "63570fff",
   "metadata": {},
   "outputs": [
    {
     "data": {
      "text/plain": [
       "<1022x20 sparse matrix of type '<class 'numpy.float64'>'\n",
       "\twith 2044 stored elements in Compressed Sparse Row format>"
      ]
     },
     "execution_count": 40,
     "metadata": {},
     "output_type": "execute_result"
    }
   ],
   "source": [
    "train_t"
   ]
  },
  {
   "cell_type": "code",
   "execution_count": 38,
   "id": "2918ee57",
   "metadata": {},
   "outputs": [
    {
     "data": {
      "text/plain": [
       "array([[0., 0., 0., ..., 0., 1., 0.],\n",
       "       [1., 0., 0., ..., 0., 0., 0.],\n",
       "       [0., 0., 1., ..., 0., 0., 0.],\n",
       "       ...,\n",
       "       [0., 0., 0., ..., 0., 1., 0.],\n",
       "       [1., 0., 0., ..., 0., 0., 0.],\n",
       "       [0., 0., 0., ..., 1., 0., 0.]])"
      ]
     },
     "execution_count": 38,
     "metadata": {},
     "output_type": "execute_result"
    }
   ],
   "source": [
    "train_t.toarray()"
   ]
  },
  {
   "cell_type": "code",
   "execution_count": 39,
   "id": "9df31772",
   "metadata": {},
   "outputs": [
    {
     "data": {
      "text/plain": [
       "array([[0., 0., 0., ..., 0., 0., 1.],\n",
       "       [0., 0., 0., ..., 0., 0., 0.],\n",
       "       [0., 1., 0., ..., 0., 0., 0.],\n",
       "       ...,\n",
       "       [0., 0., 0., ..., 0., 1., 0.],\n",
       "       [0., 0., 0., ..., 0., 0., 0.],\n",
       "       [0., 0., 0., ..., 0., 0., 1.]])"
      ]
     },
     "execution_count": 39,
     "metadata": {},
     "output_type": "execute_result"
    }
   ],
   "source": [
    "test_t.toarray()"
   ]
  },
  {
   "cell_type": "code",
   "execution_count": null,
   "id": "f9e9b9fe",
   "metadata": {},
   "outputs": [],
   "source": [
    "from sklearn.p"
   ]
  }
 ],
 "metadata": {
  "kernelspec": {
   "display_name": "Python 3 (ipykernel)",
   "language": "python",
   "name": "python3"
  },
  "language_info": {
   "codemirror_mode": {
    "name": "ipython",
    "version": 3
   },
   "file_extension": ".py",
   "mimetype": "text/x-python",
   "name": "python",
   "nbconvert_exporter": "python",
   "pygments_lexer": "ipython3",
   "version": "3.8.10"
  }
 },
 "nbformat": 4,
 "nbformat_minor": 5
}
