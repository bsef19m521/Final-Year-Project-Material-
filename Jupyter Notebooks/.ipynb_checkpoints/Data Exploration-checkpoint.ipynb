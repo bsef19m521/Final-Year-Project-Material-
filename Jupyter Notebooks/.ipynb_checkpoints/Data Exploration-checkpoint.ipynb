{
 "cells": [
  {
   "cell_type": "code",
   "execution_count": 2,
   "id": "b0ab8d82",
   "metadata": {},
   "outputs": [],
   "source": [
    "import seaborn as sns\n",
    "import pandas as pd\n",
    "import numpy as np"
   ]
  },
  {
   "cell_type": "code",
   "execution_count": 3,
   "id": "cf6fd588",
   "metadata": {},
   "outputs": [
    {
     "name": "stdout",
     "output_type": "stream",
     "text": [
      "['FacetGrid', 'JointGrid', 'PairGrid', '__builtins__', '__cached__', '__doc__', '__file__', '__loader__', '__name__', '__package__', '__path__', '__spec__', '__version__', '_core', '_decorators', '_docstrings', '_orig_rc_params', '_statistics', 'algorithms', 'axes_style', 'axisgrid', 'barplot', 'blend_palette', 'boxenplot', 'boxplot', 'categorical', 'catplot', 'choose_colorbrewer_palette', 'choose_cubehelix_palette', 'choose_dark_palette', 'choose_diverging_palette', 'choose_light_palette', 'clustermap', 'cm', 'color_palette', 'colors', 'countplot', 'crayon_palette', 'crayons', 'cubehelix_palette', 'dark_palette', 'desaturate', 'despine', 'displot', 'distplot', 'distributions', 'diverging_palette', 'dogplot', 'ecdfplot', 'external', 'factorplot', 'get_data_home', 'get_dataset_names', 'heatmap', 'histplot', 'hls_palette', 'husl_palette', 'jointplot', 'kdeplot', 'light_palette', 'lineplot', 'lmplot', 'load_dataset', 'matrix', 'miscplot', 'move_legend', 'mpl', 'mpl_palette', 'pairplot', 'palettes', 'palplot', 'plotting_context', 'pointplot', 'rcmod', 'regplot', 'regression', 'relational', 'relplot', 'reset_defaults', 'reset_orig', 'residplot', 'rugplot', 'saturate', 'scatterplot', 'set', 'set_color_codes', 'set_context', 'set_hls_values', 'set_palette', 'set_style', 'set_theme', 'stripplot', 'swarmplot', 'utils', 'violinplot', 'widgets', 'xkcd_palette', 'xkcd_rgb']\n"
     ]
    }
   ],
   "source": [
    "print(dir(sns))"
   ]
  },
  {
   "cell_type": "code",
   "execution_count": 4,
   "id": "175a3d75",
   "metadata": {},
   "outputs": [
    {
     "data": {
      "text/plain": [
       "['anagrams',\n",
       " 'anscombe',\n",
       " 'attention',\n",
       " 'brain_networks',\n",
       " 'car_crashes',\n",
       " 'diamonds',\n",
       " 'dots',\n",
       " 'dowjones',\n",
       " 'exercise',\n",
       " 'flights',\n",
       " 'fmri',\n",
       " 'geyser',\n",
       " 'glue',\n",
       " 'healthexp',\n",
       " 'iris',\n",
       " 'mpg',\n",
       " 'penguins',\n",
       " 'planets',\n",
       " 'seaice',\n",
       " 'taxis',\n",
       " 'tips',\n",
       " 'titanic']"
      ]
     },
     "execution_count": 4,
     "metadata": {},
     "output_type": "execute_result"
    }
   ],
   "source": [
    "sns.get_dataset_names()"
   ]
  },
  {
   "cell_type": "code",
   "execution_count": 5,
   "id": "0a3a2221",
   "metadata": {},
   "outputs": [
    {
     "data": {
      "text/html": [
       "<div>\n",
       "<style scoped>\n",
       "    .dataframe tbody tr th:only-of-type {\n",
       "        vertical-align: middle;\n",
       "    }\n",
       "\n",
       "    .dataframe tbody tr th {\n",
       "        vertical-align: top;\n",
       "    }\n",
       "\n",
       "    .dataframe thead th {\n",
       "        text-align: right;\n",
       "    }\n",
       "</style>\n",
       "<table border=\"1\" class=\"dataframe\">\n",
       "  <thead>\n",
       "    <tr style=\"text-align: right;\">\n",
       "      <th></th>\n",
       "      <th>total_bill</th>\n",
       "      <th>tip</th>\n",
       "      <th>sex</th>\n",
       "      <th>smoker</th>\n",
       "      <th>day</th>\n",
       "      <th>time</th>\n",
       "      <th>size</th>\n",
       "    </tr>\n",
       "  </thead>\n",
       "  <tbody>\n",
       "    <tr>\n",
       "      <th>0</th>\n",
       "      <td>16.99</td>\n",
       "      <td>1.01</td>\n",
       "      <td>Female</td>\n",
       "      <td>No</td>\n",
       "      <td>Sun</td>\n",
       "      <td>Dinner</td>\n",
       "      <td>2</td>\n",
       "    </tr>\n",
       "    <tr>\n",
       "      <th>1</th>\n",
       "      <td>10.34</td>\n",
       "      <td>1.66</td>\n",
       "      <td>Male</td>\n",
       "      <td>No</td>\n",
       "      <td>Sun</td>\n",
       "      <td>Dinner</td>\n",
       "      <td>3</td>\n",
       "    </tr>\n",
       "    <tr>\n",
       "      <th>2</th>\n",
       "      <td>21.01</td>\n",
       "      <td>3.50</td>\n",
       "      <td>Male</td>\n",
       "      <td>No</td>\n",
       "      <td>Sun</td>\n",
       "      <td>Dinner</td>\n",
       "      <td>3</td>\n",
       "    </tr>\n",
       "    <tr>\n",
       "      <th>3</th>\n",
       "      <td>23.68</td>\n",
       "      <td>3.31</td>\n",
       "      <td>Male</td>\n",
       "      <td>No</td>\n",
       "      <td>Sun</td>\n",
       "      <td>Dinner</td>\n",
       "      <td>2</td>\n",
       "    </tr>\n",
       "    <tr>\n",
       "      <th>4</th>\n",
       "      <td>24.59</td>\n",
       "      <td>3.61</td>\n",
       "      <td>Female</td>\n",
       "      <td>No</td>\n",
       "      <td>Sun</td>\n",
       "      <td>Dinner</td>\n",
       "      <td>4</td>\n",
       "    </tr>\n",
       "  </tbody>\n",
       "</table>\n",
       "</div>"
      ],
      "text/plain": [
       "   total_bill   tip     sex smoker  day    time  size\n",
       "0       16.99  1.01  Female     No  Sun  Dinner     2\n",
       "1       10.34  1.66    Male     No  Sun  Dinner     3\n",
       "2       21.01  3.50    Male     No  Sun  Dinner     3\n",
       "3       23.68  3.31    Male     No  Sun  Dinner     2\n",
       "4       24.59  3.61  Female     No  Sun  Dinner     4"
      ]
     },
     "execution_count": 5,
     "metadata": {},
     "output_type": "execute_result"
    }
   ],
   "source": [
    "df = sns.load_dataset('tips')\n",
    "df.head()"
   ]
  },
  {
   "cell_type": "code",
   "execution_count": 6,
   "id": "1e24b682",
   "metadata": {},
   "outputs": [
    {
     "data": {
      "text/html": [
       "<div>\n",
       "<style scoped>\n",
       "    .dataframe tbody tr th:only-of-type {\n",
       "        vertical-align: middle;\n",
       "    }\n",
       "\n",
       "    .dataframe tbody tr th {\n",
       "        vertical-align: top;\n",
       "    }\n",
       "\n",
       "    .dataframe thead th {\n",
       "        text-align: right;\n",
       "    }\n",
       "</style>\n",
       "<table border=\"1\" class=\"dataframe\">\n",
       "  <thead>\n",
       "    <tr style=\"text-align: right;\">\n",
       "      <th></th>\n",
       "      <th>total_bill</th>\n",
       "      <th>tip</th>\n",
       "      <th>size</th>\n",
       "    </tr>\n",
       "  </thead>\n",
       "  <tbody>\n",
       "    <tr>\n",
       "      <th>count</th>\n",
       "      <td>244.000000</td>\n",
       "      <td>244.000000</td>\n",
       "      <td>244.000000</td>\n",
       "    </tr>\n",
       "    <tr>\n",
       "      <th>mean</th>\n",
       "      <td>19.785943</td>\n",
       "      <td>2.998279</td>\n",
       "      <td>2.569672</td>\n",
       "    </tr>\n",
       "    <tr>\n",
       "      <th>std</th>\n",
       "      <td>8.902412</td>\n",
       "      <td>1.383638</td>\n",
       "      <td>0.951100</td>\n",
       "    </tr>\n",
       "    <tr>\n",
       "      <th>min</th>\n",
       "      <td>3.070000</td>\n",
       "      <td>1.000000</td>\n",
       "      <td>1.000000</td>\n",
       "    </tr>\n",
       "    <tr>\n",
       "      <th>25%</th>\n",
       "      <td>13.347500</td>\n",
       "      <td>2.000000</td>\n",
       "      <td>2.000000</td>\n",
       "    </tr>\n",
       "    <tr>\n",
       "      <th>50%</th>\n",
       "      <td>17.795000</td>\n",
       "      <td>2.900000</td>\n",
       "      <td>2.000000</td>\n",
       "    </tr>\n",
       "    <tr>\n",
       "      <th>75%</th>\n",
       "      <td>24.127500</td>\n",
       "      <td>3.562500</td>\n",
       "      <td>3.000000</td>\n",
       "    </tr>\n",
       "    <tr>\n",
       "      <th>max</th>\n",
       "      <td>50.810000</td>\n",
       "      <td>10.000000</td>\n",
       "      <td>6.000000</td>\n",
       "    </tr>\n",
       "  </tbody>\n",
       "</table>\n",
       "</div>"
      ],
      "text/plain": [
       "       total_bill         tip        size\n",
       "count  244.000000  244.000000  244.000000\n",
       "mean    19.785943    2.998279    2.569672\n",
       "std      8.902412    1.383638    0.951100\n",
       "min      3.070000    1.000000    1.000000\n",
       "25%     13.347500    2.000000    2.000000\n",
       "50%     17.795000    2.900000    2.000000\n",
       "75%     24.127500    3.562500    3.000000\n",
       "max     50.810000   10.000000    6.000000"
      ]
     },
     "execution_count": 6,
     "metadata": {},
     "output_type": "execute_result"
    }
   ],
   "source": [
    "df.describe()"
   ]
  },
  {
   "cell_type": "code",
   "execution_count": 7,
   "id": "76cb8026",
   "metadata": {},
   "outputs": [
    {
     "name": "stdout",
     "output_type": "stream",
     "text": [
      "<class 'pandas.core.frame.DataFrame'>\n",
      "RangeIndex: 244 entries, 0 to 243\n",
      "Data columns (total 7 columns):\n",
      " #   Column      Non-Null Count  Dtype   \n",
      "---  ------      --------------  -----   \n",
      " 0   total_bill  244 non-null    float64 \n",
      " 1   tip         244 non-null    float64 \n",
      " 2   sex         244 non-null    category\n",
      " 3   smoker      244 non-null    category\n",
      " 4   day         244 non-null    category\n",
      " 5   time        244 non-null    category\n",
      " 6   size        244 non-null    int64   \n",
      "dtypes: category(4), float64(2), int64(1)\n",
      "memory usage: 7.4 KB\n"
     ]
    }
   ],
   "source": [
    "df.info()"
   ]
  },
  {
   "cell_type": "code",
   "execution_count": null,
   "id": "92a0c423",
   "metadata": {},
   "outputs": [],
   "source": []
  },
  {
   "cell_type": "code",
   "execution_count": 8,
   "id": "7605b9f5",
   "metadata": {},
   "outputs": [
    {
     "data": {
      "text/html": [
       "<div>\n",
       "<style scoped>\n",
       "    .dataframe tbody tr th:only-of-type {\n",
       "        vertical-align: middle;\n",
       "    }\n",
       "\n",
       "    .dataframe tbody tr th {\n",
       "        vertical-align: top;\n",
       "    }\n",
       "\n",
       "    .dataframe thead th {\n",
       "        text-align: right;\n",
       "    }\n",
       "</style>\n",
       "<table border=\"1\" class=\"dataframe\">\n",
       "  <thead>\n",
       "    <tr style=\"text-align: right;\">\n",
       "      <th></th>\n",
       "      <th>total_bill</th>\n",
       "      <th>tip</th>\n",
       "      <th>sex</th>\n",
       "      <th>smoker</th>\n",
       "      <th>day</th>\n",
       "      <th>time</th>\n",
       "      <th>size</th>\n",
       "    </tr>\n",
       "  </thead>\n",
       "  <tbody>\n",
       "    <tr>\n",
       "      <th>0</th>\n",
       "      <td>16.99</td>\n",
       "      <td>1.01</td>\n",
       "      <td>Female</td>\n",
       "      <td>No</td>\n",
       "      <td>Sun</td>\n",
       "      <td>Dinner</td>\n",
       "      <td>2</td>\n",
       "    </tr>\n",
       "    <tr>\n",
       "      <th>1</th>\n",
       "      <td>10.34</td>\n",
       "      <td>1.66</td>\n",
       "      <td>Male</td>\n",
       "      <td>No</td>\n",
       "      <td>Sun</td>\n",
       "      <td>Dinner</td>\n",
       "      <td>3</td>\n",
       "    </tr>\n",
       "    <tr>\n",
       "      <th>2</th>\n",
       "      <td>21.01</td>\n",
       "      <td>3.50</td>\n",
       "      <td>Male</td>\n",
       "      <td>No</td>\n",
       "      <td>Sun</td>\n",
       "      <td>Dinner</td>\n",
       "      <td>3</td>\n",
       "    </tr>\n",
       "    <tr>\n",
       "      <th>3</th>\n",
       "      <td>23.68</td>\n",
       "      <td>3.31</td>\n",
       "      <td>Male</td>\n",
       "      <td>No</td>\n",
       "      <td>Sun</td>\n",
       "      <td>Dinner</td>\n",
       "      <td>2</td>\n",
       "    </tr>\n",
       "    <tr>\n",
       "      <th>4</th>\n",
       "      <td>24.59</td>\n",
       "      <td>3.61</td>\n",
       "      <td>Female</td>\n",
       "      <td>No</td>\n",
       "      <td>Sun</td>\n",
       "      <td>Dinner</td>\n",
       "      <td>4</td>\n",
       "    </tr>\n",
       "  </tbody>\n",
       "</table>\n",
       "</div>"
      ],
      "text/plain": [
       "   total_bill   tip     sex smoker  day    time  size\n",
       "0       16.99  1.01  Female     No  Sun  Dinner     2\n",
       "1       10.34  1.66    Male     No  Sun  Dinner     3\n",
       "2       21.01  3.50    Male     No  Sun  Dinner     3\n",
       "3       23.68  3.31    Male     No  Sun  Dinner     2\n",
       "4       24.59  3.61  Female     No  Sun  Dinner     4"
      ]
     },
     "execution_count": 8,
     "metadata": {},
     "output_type": "execute_result"
    }
   ],
   "source": [
    "df.head()"
   ]
  },
  {
   "cell_type": "code",
   "execution_count": 13,
   "id": "b1279aa4",
   "metadata": {},
   "outputs": [],
   "source": [
    "df.to_csv('tips',index=False)"
   ]
  },
  {
   "cell_type": "code",
   "execution_count": 14,
   "id": "c37f0520",
   "metadata": {},
   "outputs": [
    {
     "name": "stdout",
     "output_type": "stream",
     "text": [
      "'Data Exploration.ipynb'  'Data Visualization.ipynb'   images   tips\r\n"
     ]
    }
   ],
   "source": [
    "!ls "
   ]
  },
  {
   "cell_type": "code",
   "execution_count": 15,
   "id": "a9a3e630",
   "metadata": {},
   "outputs": [
    {
     "name": "stdout",
     "output_type": "stream",
     "text": [
      "total_bill,tip,sex,smoker,day,time,size\r\n",
      "16.99,1.01,Female,No,Sun,Dinner,2\r\n",
      "10.34,1.66,Male,No,Sun,Dinner,3\r\n",
      "21.01,3.5,Male,No,Sun,Dinner,3\r\n",
      "23.68,3.31,Male,No,Sun,Dinner,2\r\n",
      "24.59,3.61,Female,No,Sun,Dinner,4\r\n",
      "25.29,4.71,Male,No,Sun,Dinner,4\r\n",
      "8.77,2.0,Male,No,Sun,Dinner,2\r\n",
      "26.88,3.12,Male,No,Sun,Dinner,4\r\n",
      "15.04,1.96,Male,No,Sun,Dinner,2\r\n",
      "14.78,3.23,Male,No,Sun,Dinner,2\r\n",
      "10.27,1.71,Male,No,Sun,Dinner,2\r\n",
      "35.26,5.0,Female,No,Sun,Dinner,4\r\n",
      "15.42,1.57,Male,No,Sun,Dinner,2\r\n",
      "18.43,3.0,Male,No,Sun,Dinner,4\r\n",
      "14.83,3.02,Female,No,Sun,Dinner,2\r\n",
      "21.58,3.92,Male,No,Sun,Dinner,2\r\n",
      "10.33,1.67,Female,No,Sun,Dinner,3\r\n",
      "16.29,3.71,Male,No,Sun,Dinner,3\r\n",
      "16.97,3.5,Female,No,Sun,Dinner,3\r\n",
      "20.65,3.35,Male,No,Sat,Dinner,3\r\n",
      "17.92,4.08,Male,No,Sat,Dinner,2\r\n",
      "20.29,2.75,Female,No,Sat,Dinner,2\r\n",
      "15.77,2.23,Female,No,Sat,Dinner,2\r\n",
      "39.42,7.58,Male,No,Sat,Dinner,4\r\n",
      "19.82,3.18,Male,No,Sat,Dinner,2\r\n",
      "17.81,2.34,Male,No,Sat,Dinner,4\r\n",
      "13.37,2.0,Male,No,Sat,Dinner,2\r\n",
      "12.69,2.0,Male,No,Sat,Dinner,2\r\n",
      "21.7,4.3,Male,No,Sat,Dinner,2\r\n",
      "19.65,3.0,Female,No,Sat,Dinner,2\r\n",
      "9.55,1.45,Male,No,Sat,Dinner,2\r\n",
      "18.35,2.5,Male,No,Sat,Dinner,4\r\n",
      "15.06,3.0,Female,No,Sat,Dinner,2\r\n",
      "20.69,2.45,Female,No,Sat,Dinner,4\r\n",
      "17.78,3.27,Male,No,Sat,Dinner,2\r\n",
      "24.06,3.6,Male,No,Sat,Dinner,3\r\n",
      "16.31,2.0,Male,No,Sat,Dinner,3\r\n",
      "16.93,3.07,Female,No,Sat,Dinner,3\r\n",
      "18.69,2.31,Male,No,Sat,Dinner,3\r\n",
      "31.27,5.0,Male,No,Sat,Dinner,3\r\n",
      "16.04,2.24,Male,No,Sat,Dinner,3\r\n",
      "17.46,2.54,Male,No,Sun,Dinner,2\r\n",
      "13.94,3.06,Male,No,Sun,Dinner,2\r\n",
      "9.68,1.32,Male,No,Sun,Dinner,2\r\n",
      "30.4,5.6,Male,No,Sun,Dinner,4\r\n",
      "18.29,3.0,Male,No,Sun,Dinner,2\r\n",
      "22.23,5.0,Male,No,Sun,Dinner,2\r\n",
      "32.4,6.0,Male,No,Sun,Dinner,4\r\n",
      "28.55,2.05,Male,No,Sun,Dinner,3\r\n",
      "18.04,3.0,Male,No,Sun,Dinner,2\r\n",
      "12.54,2.5,Male,No,Sun,Dinner,2\r\n",
      "10.29,2.6,Female,No,Sun,Dinner,2\r\n",
      "34.81,5.2,Female,No,Sun,Dinner,4\r\n",
      "9.94,1.56,Male,No,Sun,Dinner,2\r\n",
      "25.56,4.34,Male,No,Sun,Dinner,4\r\n",
      "19.49,3.51,Male,No,Sun,Dinner,2\r\n",
      "38.01,3.0,Male,Yes,Sat,Dinner,4\r\n",
      "26.41,1.5,Female,No,Sat,Dinner,2\r\n",
      "11.24,1.76,Male,Yes,Sat,Dinner,2\r\n",
      "48.27,6.73,Male,No,Sat,Dinner,4\r\n",
      "20.29,3.21,Male,Yes,Sat,Dinner,2\r\n",
      "13.81,2.0,Male,Yes,Sat,Dinner,2\r\n",
      "11.02,1.98,Male,Yes,Sat,Dinner,2\r\n",
      "18.29,3.76,Male,Yes,Sat,Dinner,4\r\n",
      "17.59,2.64,Male,No,Sat,Dinner,3\r\n",
      "20.08,3.15,Male,No,Sat,Dinner,3\r\n",
      "16.45,2.47,Female,No,Sat,Dinner,2\r\n",
      "3.07,1.0,Female,Yes,Sat,Dinner,1\r\n",
      "20.23,2.01,Male,No,Sat,Dinner,2\r\n",
      "15.01,2.09,Male,Yes,Sat,Dinner,2\r\n",
      "12.02,1.97,Male,No,Sat,Dinner,2\r\n",
      "17.07,3.0,Female,No,Sat,Dinner,3\r\n",
      "26.86,3.14,Female,Yes,Sat,Dinner,2\r\n",
      "25.28,5.0,Female,Yes,Sat,Dinner,2\r\n",
      "14.73,2.2,Female,No,Sat,Dinner,2\r\n",
      "10.51,1.25,Male,No,Sat,Dinner,2\r\n",
      "17.92,3.08,Male,Yes,Sat,Dinner,2\r\n",
      "27.2,4.0,Male,No,Thur,Lunch,4\r\n",
      "22.76,3.0,Male,No,Thur,Lunch,2\r\n",
      "17.29,2.71,Male,No,Thur,Lunch,2\r\n",
      "19.44,3.0,Male,Yes,Thur,Lunch,2\r\n",
      "16.66,3.4,Male,No,Thur,Lunch,2\r\n",
      "10.07,1.83,Female,No,Thur,Lunch,1\r\n",
      "32.68,5.0,Male,Yes,Thur,Lunch,2\r\n",
      "15.98,2.03,Male,No,Thur,Lunch,2\r\n",
      "34.83,5.17,Female,No,Thur,Lunch,4\r\n",
      "13.03,2.0,Male,No,Thur,Lunch,2\r\n",
      "18.28,4.0,Male,No,Thur,Lunch,2\r\n",
      "24.71,5.85,Male,No,Thur,Lunch,2\r\n",
      "21.16,3.0,Male,No,Thur,Lunch,2\r\n",
      "28.97,3.0,Male,Yes,Fri,Dinner,2\r\n",
      "22.49,3.5,Male,No,Fri,Dinner,2\r\n",
      "5.75,1.0,Female,Yes,Fri,Dinner,2\r\n",
      "16.32,4.3,Female,Yes,Fri,Dinner,2\r\n",
      "22.75,3.25,Female,No,Fri,Dinner,2\r\n",
      "40.17,4.73,Male,Yes,Fri,Dinner,4\r\n",
      "27.28,4.0,Male,Yes,Fri,Dinner,2\r\n",
      "12.03,1.5,Male,Yes,Fri,Dinner,2\r\n",
      "21.01,3.0,Male,Yes,Fri,Dinner,2\r\n",
      "12.46,1.5,Male,No,Fri,Dinner,2\r\n",
      "11.35,2.5,Female,Yes,Fri,Dinner,2\r\n",
      "15.38,3.0,Female,Yes,Fri,Dinner,2\r\n",
      "44.3,2.5,Female,Yes,Sat,Dinner,3\r\n",
      "22.42,3.48,Female,Yes,Sat,Dinner,2\r\n",
      "20.92,4.08,Female,No,Sat,Dinner,2\r\n",
      "15.36,1.64,Male,Yes,Sat,Dinner,2\r\n",
      "20.49,4.06,Male,Yes,Sat,Dinner,2\r\n",
      "25.21,4.29,Male,Yes,Sat,Dinner,2\r\n",
      "18.24,3.76,Male,No,Sat,Dinner,2\r\n",
      "14.31,4.0,Female,Yes,Sat,Dinner,2\r\n",
      "14.0,3.0,Male,No,Sat,Dinner,2\r\n",
      "7.25,1.0,Female,No,Sat,Dinner,1\r\n",
      "38.07,4.0,Male,No,Sun,Dinner,3\r\n",
      "23.95,2.55,Male,No,Sun,Dinner,2\r\n",
      "25.71,4.0,Female,No,Sun,Dinner,3\r\n",
      "17.31,3.5,Female,No,Sun,Dinner,2\r\n",
      "29.93,5.07,Male,No,Sun,Dinner,4\r\n",
      "10.65,1.5,Female,No,Thur,Lunch,2\r\n",
      "12.43,1.8,Female,No,Thur,Lunch,2\r\n",
      "24.08,2.92,Female,No,Thur,Lunch,4\r\n",
      "11.69,2.31,Male,No,Thur,Lunch,2\r\n",
      "13.42,1.68,Female,No,Thur,Lunch,2\r\n",
      "14.26,2.5,Male,No,Thur,Lunch,2\r\n",
      "15.95,2.0,Male,No,Thur,Lunch,2\r\n",
      "12.48,2.52,Female,No,Thur,Lunch,2\r\n",
      "29.8,4.2,Female,No,Thur,Lunch,6\r\n",
      "8.52,1.48,Male,No,Thur,Lunch,2\r\n",
      "14.52,2.0,Female,No,Thur,Lunch,2\r\n",
      "11.38,2.0,Female,No,Thur,Lunch,2\r\n",
      "22.82,2.18,Male,No,Thur,Lunch,3\r\n",
      "19.08,1.5,Male,No,Thur,Lunch,2\r\n",
      "20.27,2.83,Female,No,Thur,Lunch,2\r\n",
      "11.17,1.5,Female,No,Thur,Lunch,2\r\n",
      "12.26,2.0,Female,No,Thur,Lunch,2\r\n",
      "18.26,3.25,Female,No,Thur,Lunch,2\r\n",
      "8.51,1.25,Female,No,Thur,Lunch,2\r\n",
      "10.33,2.0,Female,No,Thur,Lunch,2\r\n",
      "14.15,2.0,Female,No,Thur,Lunch,2\r\n",
      "16.0,2.0,Male,Yes,Thur,Lunch,2\r\n",
      "13.16,2.75,Female,No,Thur,Lunch,2\r\n",
      "17.47,3.5,Female,No,Thur,Lunch,2\r\n",
      "34.3,6.7,Male,No,Thur,Lunch,6\r\n",
      "41.19,5.0,Male,No,Thur,Lunch,5\r\n",
      "27.05,5.0,Female,No,Thur,Lunch,6\r\n",
      "16.43,2.3,Female,No,Thur,Lunch,2\r\n",
      "8.35,1.5,Female,No,Thur,Lunch,2\r\n",
      "18.64,1.36,Female,No,Thur,Lunch,3\r\n",
      "11.87,1.63,Female,No,Thur,Lunch,2\r\n",
      "9.78,1.73,Male,No,Thur,Lunch,2\r\n",
      "7.51,2.0,Male,No,Thur,Lunch,2\r\n",
      "14.07,2.5,Male,No,Sun,Dinner,2\r\n",
      "13.13,2.0,Male,No,Sun,Dinner,2\r\n",
      "17.26,2.74,Male,No,Sun,Dinner,3\r\n",
      "24.55,2.0,Male,No,Sun,Dinner,4\r\n",
      "19.77,2.0,Male,No,Sun,Dinner,4\r\n",
      "29.85,5.14,Female,No,Sun,Dinner,5\r\n",
      "48.17,5.0,Male,No,Sun,Dinner,6\r\n",
      "25.0,3.75,Female,No,Sun,Dinner,4\r\n",
      "13.39,2.61,Female,No,Sun,Dinner,2\r\n",
      "16.49,2.0,Male,No,Sun,Dinner,4\r\n",
      "21.5,3.5,Male,No,Sun,Dinner,4\r\n",
      "12.66,2.5,Male,No,Sun,Dinner,2\r\n",
      "16.21,2.0,Female,No,Sun,Dinner,3\r\n",
      "13.81,2.0,Male,No,Sun,Dinner,2\r\n",
      "17.51,3.0,Female,Yes,Sun,Dinner,2\r\n",
      "24.52,3.48,Male,No,Sun,Dinner,3\r\n",
      "20.76,2.24,Male,No,Sun,Dinner,2\r\n",
      "31.71,4.5,Male,No,Sun,Dinner,4\r\n",
      "10.59,1.61,Female,Yes,Sat,Dinner,2\r\n",
      "10.63,2.0,Female,Yes,Sat,Dinner,2\r\n",
      "50.81,10.0,Male,Yes,Sat,Dinner,3\r\n",
      "15.81,3.16,Male,Yes,Sat,Dinner,2\r\n",
      "7.25,5.15,Male,Yes,Sun,Dinner,2\r\n",
      "31.85,3.18,Male,Yes,Sun,Dinner,2\r\n",
      "16.82,4.0,Male,Yes,Sun,Dinner,2\r\n",
      "32.9,3.11,Male,Yes,Sun,Dinner,2\r\n",
      "17.89,2.0,Male,Yes,Sun,Dinner,2\r\n",
      "14.48,2.0,Male,Yes,Sun,Dinner,2\r\n",
      "9.6,4.0,Female,Yes,Sun,Dinner,2\r\n",
      "34.63,3.55,Male,Yes,Sun,Dinner,2\r\n",
      "34.65,3.68,Male,Yes,Sun,Dinner,4\r\n",
      "23.33,5.65,Male,Yes,Sun,Dinner,2\r\n",
      "45.35,3.5,Male,Yes,Sun,Dinner,3\r\n",
      "23.17,6.5,Male,Yes,Sun,Dinner,4\r\n",
      "40.55,3.0,Male,Yes,Sun,Dinner,2\r\n",
      "20.69,5.0,Male,No,Sun,Dinner,5\r\n",
      "20.9,3.5,Female,Yes,Sun,Dinner,3\r\n",
      "30.46,2.0,Male,Yes,Sun,Dinner,5\r\n",
      "18.15,3.5,Female,Yes,Sun,Dinner,3\r\n",
      "23.1,4.0,Male,Yes,Sun,Dinner,3\r\n",
      "15.69,1.5,Male,Yes,Sun,Dinner,2\r\n",
      "19.81,4.19,Female,Yes,Thur,Lunch,2\r\n",
      "28.44,2.56,Male,Yes,Thur,Lunch,2\r\n",
      "15.48,2.02,Male,Yes,Thur,Lunch,2\r\n",
      "16.58,4.0,Male,Yes,Thur,Lunch,2\r\n",
      "7.56,1.44,Male,No,Thur,Lunch,2\r\n",
      "10.34,2.0,Male,Yes,Thur,Lunch,2\r\n",
      "43.11,5.0,Female,Yes,Thur,Lunch,4\r\n",
      "13.0,2.0,Female,Yes,Thur,Lunch,2\r\n",
      "13.51,2.0,Male,Yes,Thur,Lunch,2\r\n",
      "18.71,4.0,Male,Yes,Thur,Lunch,3\r\n",
      "12.74,2.01,Female,Yes,Thur,Lunch,2\r\n",
      "13.0,2.0,Female,Yes,Thur,Lunch,2\r\n",
      "16.4,2.5,Female,Yes,Thur,Lunch,2\r\n",
      "20.53,4.0,Male,Yes,Thur,Lunch,4\r\n",
      "16.47,3.23,Female,Yes,Thur,Lunch,3\r\n",
      "26.59,3.41,Male,Yes,Sat,Dinner,3\r\n",
      "38.73,3.0,Male,Yes,Sat,Dinner,4\r\n",
      "24.27,2.03,Male,Yes,Sat,Dinner,2\r\n",
      "12.76,2.23,Female,Yes,Sat,Dinner,2\r\n",
      "30.06,2.0,Male,Yes,Sat,Dinner,3\r\n",
      "25.89,5.16,Male,Yes,Sat,Dinner,4\r\n",
      "48.33,9.0,Male,No,Sat,Dinner,4\r\n",
      "13.27,2.5,Female,Yes,Sat,Dinner,2\r\n",
      "28.17,6.5,Female,Yes,Sat,Dinner,3\r\n",
      "12.9,1.1,Female,Yes,Sat,Dinner,2\r\n",
      "28.15,3.0,Male,Yes,Sat,Dinner,5\r\n",
      "11.59,1.5,Male,Yes,Sat,Dinner,2\r\n",
      "7.74,1.44,Male,Yes,Sat,Dinner,2\r\n",
      "30.14,3.09,Female,Yes,Sat,Dinner,4\r\n",
      "12.16,2.2,Male,Yes,Fri,Lunch,2\r\n",
      "13.42,3.48,Female,Yes,Fri,Lunch,2\r\n",
      "8.58,1.92,Male,Yes,Fri,Lunch,1\r\n",
      "15.98,3.0,Female,No,Fri,Lunch,3\r\n",
      "13.42,1.58,Male,Yes,Fri,Lunch,2\r\n",
      "16.27,2.5,Female,Yes,Fri,Lunch,2\r\n",
      "10.09,2.0,Female,Yes,Fri,Lunch,2\r\n",
      "20.45,3.0,Male,No,Sat,Dinner,4\r\n",
      "13.28,2.72,Male,No,Sat,Dinner,2\r\n",
      "22.12,2.88,Female,Yes,Sat,Dinner,2\r\n",
      "24.01,2.0,Male,Yes,Sat,Dinner,4\r\n",
      "15.69,3.0,Male,Yes,Sat,Dinner,3\r\n",
      "11.61,3.39,Male,No,Sat,Dinner,2\r\n",
      "10.77,1.47,Male,No,Sat,Dinner,2\r\n",
      "15.53,3.0,Male,Yes,Sat,Dinner,2\r\n",
      "10.07,1.25,Male,No,Sat,Dinner,2\r\n",
      "12.6,1.0,Male,Yes,Sat,Dinner,2\r\n",
      "32.83,1.17,Male,Yes,Sat,Dinner,2\r\n",
      "35.83,4.67,Female,No,Sat,Dinner,3\r\n",
      "29.03,5.92,Male,No,Sat,Dinner,3\r\n",
      "27.18,2.0,Female,Yes,Sat,Dinner,2\r\n",
      "22.67,2.0,Male,Yes,Sat,Dinner,2\r\n",
      "17.82,1.75,Male,No,Sat,Dinner,2\r\n",
      "18.78,3.0,Female,No,Thur,Dinner,2\r\n"
     ]
    }
   ],
   "source": [
    "!cat tips"
   ]
  },
  {
   "cell_type": "code",
   "execution_count": 9,
   "id": "f3bd53d6",
   "metadata": {},
   "outputs": [
    {
     "data": {
      "text/plain": [
       "No     151\n",
       "Yes     93\n",
       "Name: smoker, dtype: int64"
      ]
     },
     "execution_count": 9,
     "metadata": {},
     "output_type": "execute_result"
    }
   ],
   "source": [
    "df.smoker.value_counts()"
   ]
  },
  {
   "cell_type": "code",
   "execution_count": null,
   "id": "c63f02c2",
   "metadata": {},
   "outputs": [],
   "source": []
  },
  {
   "cell_type": "code",
   "execution_count": 10,
   "id": "cb521a0b",
   "metadata": {},
   "outputs": [
    {
     "data": {
      "text/plain": [
       "Male      157\n",
       "Female     87\n",
       "Name: sex, dtype: int64"
      ]
     },
     "execution_count": 10,
     "metadata": {},
     "output_type": "execute_result"
    }
   ],
   "source": [
    "df.sex.value_counts()"
   ]
  },
  {
   "cell_type": "code",
   "execution_count": 11,
   "id": "c3bb4adb",
   "metadata": {},
   "outputs": [
    {
     "data": {
      "text/plain": [
       "Dinner    176\n",
       "Lunch      68\n",
       "Name: time, dtype: int64"
      ]
     },
     "execution_count": 11,
     "metadata": {},
     "output_type": "execute_result"
    }
   ],
   "source": [
    "df.time.value_counts()"
   ]
  },
  {
   "cell_type": "code",
   "execution_count": 12,
   "id": "2fb29dc4",
   "metadata": {},
   "outputs": [
    {
     "data": {
      "text/plain": [
       "total_bill    0\n",
       "tip           0\n",
       "sex           0\n",
       "smoker        0\n",
       "day           0\n",
       "time          0\n",
       "size          0\n",
       "dtype: int64"
      ]
     },
     "execution_count": 12,
     "metadata": {},
     "output_type": "execute_result"
    }
   ],
   "source": [
    "df.isna().sum()"
   ]
  },
  {
   "cell_type": "code",
   "execution_count": 16,
   "id": "e61e7fd5",
   "metadata": {},
   "outputs": [
    {
     "data": {
      "text/html": [
       "<div>\n",
       "<style scoped>\n",
       "    .dataframe tbody tr th:only-of-type {\n",
       "        vertical-align: middle;\n",
       "    }\n",
       "\n",
       "    .dataframe tbody tr th {\n",
       "        vertical-align: top;\n",
       "    }\n",
       "\n",
       "    .dataframe thead th {\n",
       "        text-align: right;\n",
       "    }\n",
       "</style>\n",
       "<table border=\"1\" class=\"dataframe\">\n",
       "  <thead>\n",
       "    <tr style=\"text-align: right;\">\n",
       "      <th></th>\n",
       "      <th>total_bill</th>\n",
       "      <th>tip</th>\n",
       "      <th>size</th>\n",
       "    </tr>\n",
       "  </thead>\n",
       "  <tbody>\n",
       "    <tr>\n",
       "      <th>total_bill</th>\n",
       "      <td>1.000000</td>\n",
       "      <td>0.675734</td>\n",
       "      <td>0.598315</td>\n",
       "    </tr>\n",
       "    <tr>\n",
       "      <th>tip</th>\n",
       "      <td>0.675734</td>\n",
       "      <td>1.000000</td>\n",
       "      <td>0.489299</td>\n",
       "    </tr>\n",
       "    <tr>\n",
       "      <th>size</th>\n",
       "      <td>0.598315</td>\n",
       "      <td>0.489299</td>\n",
       "      <td>1.000000</td>\n",
       "    </tr>\n",
       "  </tbody>\n",
       "</table>\n",
       "</div>"
      ],
      "text/plain": [
       "            total_bill       tip      size\n",
       "total_bill    1.000000  0.675734  0.598315\n",
       "tip           0.675734  1.000000  0.489299\n",
       "size          0.598315  0.489299  1.000000"
      ]
     },
     "execution_count": 16,
     "metadata": {},
     "output_type": "execute_result"
    }
   ],
   "source": [
    "df.corr()"
   ]
  },
  {
   "cell_type": "code",
   "execution_count": 17,
   "id": "fd550e9f",
   "metadata": {},
   "outputs": [
    {
     "data": {
      "text/plain": [
       "No     151\n",
       "Yes     93\n",
       "Name: smoker, dtype: int64"
      ]
     },
     "execution_count": 17,
     "metadata": {},
     "output_type": "execute_result"
    }
   ],
   "source": [
    "df.smoker.value_counts()"
   ]
  },
  {
   "cell_type": "code",
   "execution_count": 19,
   "id": "c76ad605",
   "metadata": {},
   "outputs": [
    {
     "data": {
      "text/plain": [
       "<seaborn.axisgrid.FacetGrid at 0x7f7620222e20>"
      ]
     },
     "execution_count": 19,
     "metadata": {},
     "output_type": "execute_result"
    },
    {
     "data": {
      "image/png": "[encoded data removed]",
      "text/plain": [
       "<Figure size 360x360 with 1 Axes>"
      ]
     },
     "metadata": {
      "needs_background": "light"
     },
     "output_type": "display_data"
    }
   ],
   "source": [
    "sns.displot(df.smoker)"
   ]
  },
  {
   "cell_type": "code",
   "execution_count": 21,
   "id": "833d937f",
   "metadata": {},
   "outputs": [
    {
     "data": {
      "text/plain": [
       "Sat     87\n",
       "Sun     76\n",
       "Thur    62\n",
       "Fri     19\n",
       "Name: day, dtype: int64"
      ]
     },
     "execution_count": 21,
     "metadata": {},
     "output_type": "execute_result"
    }
   ],
   "source": [
    "df.day.value_counts()"
   ]
  },
  {
   "cell_type": "code",
   "execution_count": 22,
   "id": "88ae5ba4",
   "metadata": {},
   "outputs": [
    {
     "data": {
      "text/plain": [
       "<seaborn.axisgrid.FacetGrid at 0x7f7618915910>"
      ]
     },
     "execution_count": 22,
     "metadata": {},
     "output_type": "execute_result"
    },
    {
     "data": {
      "image/png": "[encoded data removed]",
      "text/plain": [
       "<Figure size 360x360 with 1 Axes>"
      ]
     },
     "metadata": {
      "needs_background": "light"
     },
     "output_type": "display_data"
    }
   ],
   "source": [
    "sns.displot(df.day)"
   ]
  },
  {
   "cell_type": "code",
   "execution_count": 23,
   "id": "7dc5cfcc",
   "metadata": {},
   "outputs": [],
   "source": [
    "list1 = ['Excellent','Good','Fair','Bad']"
   ]
  },
  {
   "cell_type": "code",
   "execution_count": 30,
   "id": "1a6de93b",
   "metadata": {},
   "outputs": [
    {
     "name": "stdout",
     "output_type": "stream",
     "text": [
      "12\n",
      "10\n",
      "6\n",
      "13\n",
      "10\n",
      "10\n",
      "19\n",
      "15\n",
      "2\n",
      "1\n",
      "18\n",
      "17\n",
      "10\n",
      "11\n",
      "17\n",
      "4\n",
      "19\n",
      "4\n",
      "2\n"
     ]
    }
   ],
   "source": [
    "# dir(np)\n",
    "for i in range(1,20):\n",
    "    print(np.random.randint(1,20))"
   ]
  },
  {
   "cell_type": "code",
   "execution_count": null,
   "id": "2ca75059",
   "metadata": {},
   "outputs": [],
   "source": []
  }
 ],
 "metadata": {
  "kernelspec": {
   "display_name": "Python 3 (ipykernel)",
   "language": "python",
   "name": "python3"
  },
  "language_info": {
   "codemirror_mode": {
    "name": "ipython",
    "version": 3
   },
   "file_extension": ".py",
   "mimetype": "text/x-python",
   "name": "python",
   "nbconvert_exporter": "python",
   "pygments_lexer": "ipython3",
   "version": "3.8.10"
  }
 },
 "nbformat": 4,
 "nbformat_minor": 5
}
