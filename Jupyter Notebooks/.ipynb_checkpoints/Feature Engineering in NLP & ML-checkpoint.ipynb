{
 "cells": [
  {
   "cell_type": "markdown",
   "id": "85b45005",
   "metadata": {},
   "source": [
    "# Feature Engineering in NLP:\n",
    "### 1. Bag of Words using `CountVectorizer` from sklearn"
   ]
  },
  {
   "cell_type": "markdown",
   "id": "c56060ad",
   "metadata": {},
   "source": [
    "- What is BoW?\n",
    "- Steps to create BoW representation of a corpus?\n",
    "- Applications/uses of BoW?"
   ]
  },
  {
   "cell_type": "code",
   "execution_count": 1,
   "id": "4f6cbdfb",
   "metadata": {},
   "outputs": [
    {
     "data": {
      "text/plain": [
       "['Matt is a fan of football',\n",
       " 'He also likes to cook occasionally',\n",
       " 'He is a nice guy']"
      ]
     },
     "execution_count": 1,
     "metadata": {},
     "output_type": "execute_result"
    }
   ],
   "source": [
    "corpus = [\"Matt is a fan of football\",\n",
    "          \"He also likes to cook occasionally\",\n",
    "          \"He is a nice guy\"]\n",
    "corpus"
   ]
  },
  {
   "cell_type": "code",
   "execution_count": 2,
   "id": "b02c081c",
   "metadata": {},
   "outputs": [
    {
     "name": "stdout",
     "output_type": "stream",
     "text": [
      "<class 'sklearn.feature_extraction.text.CountVectorizer'>\n"
     ]
    }
   ],
   "source": [
    "# create an object of countvectorizer class\n",
    "from sklearn.feature_extraction.text import CountVectorizer\n",
    "cv = CountVectorizer()\n",
    "print(type(cv))"
   ]
  },
  {
   "cell_type": "code",
   "execution_count": 3,
   "id": "16ad5a5f",
   "metadata": {},
   "outputs": [
    {
     "name": "stdout",
     "output_type": "stream",
     "text": [
      "['__class__', '__delattr__', '__dict__', '__dir__', '__doc__', '__eq__', '__format__', '__ge__', '__getattribute__', '__getstate__', '__gt__', '__hash__', '__init__', '__init_subclass__', '__le__', '__lt__', '__module__', '__ne__', '__new__', '__reduce__', '__reduce_ex__', '__repr__', '__setattr__', '__setstate__', '__sizeof__', '__str__', '__subclasshook__', '__weakref__', '_char_ngrams', '_char_wb_ngrams', '_check_feature_names', '_check_n_features', '_check_stop_words_consistency', '_check_vocabulary', '_count_vocab', '_get_param_names', '_get_tags', '_limit_features', '_more_tags', '_repr_html_', '_repr_html_inner', '_repr_mimebundle_', '_sort_features', '_validate_data', '_validate_params', '_validate_vocabulary', '_warn_for_unused_params', '_white_spaces', '_word_ngrams', 'analyzer', 'binary', 'build_analyzer', 'build_preprocessor', 'build_tokenizer', 'decode', 'decode_error', 'dtype', 'encoding', 'fit', 'fit_transform', 'get_feature_names', 'get_feature_names_out', 'get_params', 'get_stop_words', 'input', 'inverse_transform', 'lowercase', 'max_df', 'max_features', 'min_df', 'ngram_range', 'preprocessor', 'set_params', 'stop_words', 'strip_accents', 'token_pattern', 'tokenizer', 'transform', 'vocabulary']\n"
     ]
    }
   ],
   "source": [
    "# methods and attributes in CountVectorizer object\n",
    "print(dir(cv))"
   ]
  },
  {
   "cell_type": "code",
   "execution_count": 4,
   "id": "a4f4f2c9",
   "metadata": {},
   "outputs": [],
   "source": [
    "# generate vocabulary dictionary and return a Document Turn Matrix\n",
    "bow = cv.fit_transform(corpus)"
   ]
  },
  {
   "cell_type": "code",
   "execution_count": 5,
   "id": "c6c54707",
   "metadata": {},
   "outputs": [
    {
     "name": "stdout",
     "output_type": "stream",
     "text": [
      "{'matt': 8, 'is': 6, 'fan': 2, 'of': 11, 'football': 3, 'he': 5, 'also': 0, 'likes': 7, 'to': 12, 'cook': 1, 'occasionally': 10, 'nice': 9, 'guy': 4}\n"
     ]
    }
   ],
   "source": [
    "# to print vocabulary\n",
    "print(cv.vocabulary_)"
   ]
  },
  {
   "cell_type": "code",
   "execution_count": 6,
   "id": "49b0c352",
   "metadata": {},
   "outputs": [
    {
     "data": {
      "text/plain": [
       "array(['also', 'cook', 'fan', 'football', 'guy', 'he', 'is', 'likes',\n",
       "       'matt', 'nice', 'occasionally', 'of', 'to'], dtype=object)"
      ]
     },
     "execution_count": 6,
     "metadata": {},
     "output_type": "execute_result"
    }
   ],
   "source": [
    "cv.get_feature_names_out()"
   ]
  },
  {
   "cell_type": "markdown",
   "id": "7e14c1e4",
   "metadata": {},
   "source": [
    ">- Note that single character words are not there in vocabulary"
   ]
  },
  {
   "cell_type": "code",
   "execution_count": 7,
   "id": "06fd40f7",
   "metadata": {},
   "outputs": [
    {
     "data": {
      "text/plain": [
       "(3, 13)"
      ]
     },
     "execution_count": 7,
     "metadata": {},
     "output_type": "execute_result"
    }
   ],
   "source": [
    "bow.shape"
   ]
  },
  {
   "cell_type": "code",
   "execution_count": 8,
   "id": "1d784385",
   "metadata": {},
   "outputs": [
    {
     "data": {
      "text/plain": [
       "<3x13 sparse matrix of type '<class 'numpy.int64'>'\n",
       "\twith 15 stored elements in Compressed Sparse Row format>"
      ]
     },
     "execution_count": 8,
     "metadata": {},
     "output_type": "execute_result"
    }
   ],
   "source": [
    "bow"
   ]
  },
  {
   "cell_type": "code",
   "execution_count": 9,
   "id": "8b269900",
   "metadata": {},
   "outputs": [
    {
     "data": {
      "text/plain": [
       "array([[0, 0, 1, 1, 0, 0, 1, 0, 1, 0, 0, 1, 0],\n",
       "       [1, 1, 0, 0, 0, 1, 0, 1, 0, 0, 1, 0, 1],\n",
       "       [0, 0, 0, 0, 1, 1, 1, 0, 0, 1, 0, 0, 0]])"
      ]
     },
     "execution_count": 9,
     "metadata": {},
     "output_type": "execute_result"
    }
   ],
   "source": [
    "# since bow is a sparse matrix, so to change it to dense matrix or array, we can use numpy toarray()\n",
    "bow.toarray()"
   ]
  },
  {
   "cell_type": "code",
   "execution_count": 10,
   "id": "86e5402c",
   "metadata": {},
   "outputs": [
    {
     "data": {
      "text/plain": [
       "matrix([[0, 0, 1, 1, 0, 0, 1, 0, 1, 0, 0, 1, 0],\n",
       "        [1, 1, 0, 0, 0, 1, 0, 1, 0, 0, 1, 0, 1],\n",
       "        [0, 0, 0, 0, 1, 1, 1, 0, 0, 1, 0, 0, 0]])"
      ]
     },
     "execution_count": 10,
     "metadata": {},
     "output_type": "execute_result"
    }
   ],
   "source": [
    "bow.todense()"
   ]
  },
  {
   "cell_type": "markdown",
   "id": "ed2c527b",
   "metadata": {},
   "source": [
    "##### Let save the corpus as DTM of BoW representation"
   ]
  },
  {
   "cell_type": "code",
   "execution_count": 11,
   "id": "7dd5c4e3",
   "metadata": {},
   "outputs": [
    {
     "data": {
      "text/html": [
       "<div>\n",
       "<style scoped>\n",
       "    .dataframe tbody tr th:only-of-type {\n",
       "        vertical-align: middle;\n",
       "    }\n",
       "\n",
       "    .dataframe tbody tr th {\n",
       "        vertical-align: top;\n",
       "    }\n",
       "\n",
       "    .dataframe thead th {\n",
       "        text-align: right;\n",
       "    }\n",
       "</style>\n",
       "<table border=\"1\" class=\"dataframe\">\n",
       "  <thead>\n",
       "    <tr style=\"text-align: right;\">\n",
       "      <th></th>\n",
       "      <th>also</th>\n",
       "      <th>cook</th>\n",
       "      <th>fan</th>\n",
       "      <th>football</th>\n",
       "      <th>guy</th>\n",
       "      <th>he</th>\n",
       "      <th>is</th>\n",
       "      <th>likes</th>\n",
       "      <th>matt</th>\n",
       "      <th>nice</th>\n",
       "      <th>occasionally</th>\n",
       "      <th>of</th>\n",
       "      <th>to</th>\n",
       "    </tr>\n",
       "  </thead>\n",
       "  <tbody>\n",
       "    <tr>\n",
       "      <th>0</th>\n",
       "      <td>0</td>\n",
       "      <td>0</td>\n",
       "      <td>1</td>\n",
       "      <td>1</td>\n",
       "      <td>0</td>\n",
       "      <td>0</td>\n",
       "      <td>1</td>\n",
       "      <td>0</td>\n",
       "      <td>1</td>\n",
       "      <td>0</td>\n",
       "      <td>0</td>\n",
       "      <td>1</td>\n",
       "      <td>0</td>\n",
       "    </tr>\n",
       "    <tr>\n",
       "      <th>1</th>\n",
       "      <td>1</td>\n",
       "      <td>1</td>\n",
       "      <td>0</td>\n",
       "      <td>0</td>\n",
       "      <td>0</td>\n",
       "      <td>1</td>\n",
       "      <td>0</td>\n",
       "      <td>1</td>\n",
       "      <td>0</td>\n",
       "      <td>0</td>\n",
       "      <td>1</td>\n",
       "      <td>0</td>\n",
       "      <td>1</td>\n",
       "    </tr>\n",
       "    <tr>\n",
       "      <th>2</th>\n",
       "      <td>0</td>\n",
       "      <td>0</td>\n",
       "      <td>0</td>\n",
       "      <td>0</td>\n",
       "      <td>1</td>\n",
       "      <td>1</td>\n",
       "      <td>1</td>\n",
       "      <td>0</td>\n",
       "      <td>0</td>\n",
       "      <td>1</td>\n",
       "      <td>0</td>\n",
       "      <td>0</td>\n",
       "      <td>0</td>\n",
       "    </tr>\n",
       "  </tbody>\n",
       "</table>\n",
       "</div>"
      ],
      "text/plain": [
       "   also  cook  fan  football  guy  he  is  likes  matt  nice  occasionally  \\\n",
       "0     0     0    1         1    0   0   1      0     1     0             0   \n",
       "1     1     1    0         0    0   1   0      1     0     0             1   \n",
       "2     0     0    0         0    1   1   1      0     0     1             0   \n",
       "\n",
       "   of  to  \n",
       "0   1   0  \n",
       "1   0   1  \n",
       "2   0   0  "
      ]
     },
     "execution_count": 11,
     "metadata": {},
     "output_type": "execute_result"
    }
   ],
   "source": [
    "import pandas as pd\n",
    "dtm = pd.DataFrame(data=bow.todense(), columns=cv.get_feature_names_out())\n",
    "dtm"
   ]
  },
  {
   "cell_type": "code",
   "execution_count": 12,
   "id": "2fb50ecf",
   "metadata": {},
   "outputs": [
    {
     "data": {
      "text/html": [
       "<div>\n",
       "<style scoped>\n",
       "    .dataframe tbody tr th:only-of-type {\n",
       "        vertical-align: middle;\n",
       "    }\n",
       "\n",
       "    .dataframe tbody tr th {\n",
       "        vertical-align: top;\n",
       "    }\n",
       "\n",
       "    .dataframe thead th {\n",
       "        text-align: right;\n",
       "    }\n",
       "</style>\n",
       "<table border=\"1\" class=\"dataframe\">\n",
       "  <thead>\n",
       "    <tr style=\"text-align: right;\">\n",
       "      <th></th>\n",
       "      <th>0</th>\n",
       "      <th>1</th>\n",
       "      <th>2</th>\n",
       "      <th>3</th>\n",
       "      <th>4</th>\n",
       "      <th>5</th>\n",
       "      <th>6</th>\n",
       "      <th>7</th>\n",
       "      <th>8</th>\n",
       "      <th>9</th>\n",
       "      <th>10</th>\n",
       "      <th>11</th>\n",
       "      <th>12</th>\n",
       "    </tr>\n",
       "  </thead>\n",
       "  <tbody>\n",
       "    <tr>\n",
       "      <th>0</th>\n",
       "      <td>0</td>\n",
       "      <td>0</td>\n",
       "      <td>1</td>\n",
       "      <td>1</td>\n",
       "      <td>0</td>\n",
       "      <td>0</td>\n",
       "      <td>1</td>\n",
       "      <td>0</td>\n",
       "      <td>1</td>\n",
       "      <td>0</td>\n",
       "      <td>0</td>\n",
       "      <td>1</td>\n",
       "      <td>0</td>\n",
       "    </tr>\n",
       "    <tr>\n",
       "      <th>1</th>\n",
       "      <td>1</td>\n",
       "      <td>1</td>\n",
       "      <td>0</td>\n",
       "      <td>0</td>\n",
       "      <td>0</td>\n",
       "      <td>1</td>\n",
       "      <td>0</td>\n",
       "      <td>1</td>\n",
       "      <td>0</td>\n",
       "      <td>0</td>\n",
       "      <td>1</td>\n",
       "      <td>0</td>\n",
       "      <td>1</td>\n",
       "    </tr>\n",
       "    <tr>\n",
       "      <th>2</th>\n",
       "      <td>0</td>\n",
       "      <td>0</td>\n",
       "      <td>0</td>\n",
       "      <td>0</td>\n",
       "      <td>1</td>\n",
       "      <td>1</td>\n",
       "      <td>1</td>\n",
       "      <td>0</td>\n",
       "      <td>0</td>\n",
       "      <td>1</td>\n",
       "      <td>0</td>\n",
       "      <td>0</td>\n",
       "      <td>0</td>\n",
       "    </tr>\n",
       "  </tbody>\n",
       "</table>\n",
       "</div>"
      ],
      "text/plain": [
       "   0   1   2   3   4   5   6   7   8   9   10  11  12\n",
       "0   0   0   1   1   0   0   1   0   1   0   0   1   0\n",
       "1   1   1   0   0   0   1   0   1   0   0   1   0   1\n",
       "2   0   0   0   0   1   1   1   0   0   1   0   0   0"
      ]
     },
     "execution_count": 12,
     "metadata": {},
     "output_type": "execute_result"
    }
   ],
   "source": [
    "import pandas as pd\n",
    "dtm = pd.DataFrame(data=bow.todense())\n",
    "dtm"
   ]
  },
  {
   "cell_type": "code",
   "execution_count": null,
   "id": "0f84eecd",
   "metadata": {},
   "outputs": [],
   "source": []
  },
  {
   "cell_type": "code",
   "execution_count": null,
   "id": "29b9927e",
   "metadata": {},
   "outputs": [],
   "source": []
  },
  {
   "cell_type": "markdown",
   "id": "fb759e36",
   "metadata": {},
   "source": [
    "### 2. Term Frequency - Inverse Document Frequency(TF-IDF)"
   ]
  },
  {
   "cell_type": "code",
   "execution_count": 13,
   "id": "f0fcf2d8",
   "metadata": {},
   "outputs": [
    {
     "data": {
      "text/plain": [
       "['Matt is a fan of football',\n",
       " 'He also likes to cook occasionally',\n",
       " 'He is a nice guy']"
      ]
     },
     "execution_count": 13,
     "metadata": {},
     "output_type": "execute_result"
    }
   ],
   "source": [
    "corpus = [\"Matt is a fan of football\",\n",
    "          \"He also likes to cook occasionally\",\n",
    "          \"He is a nice guy\"]\n",
    "corpus"
   ]
  },
  {
   "cell_type": "code",
   "execution_count": 15,
   "id": "85129dd3",
   "metadata": {},
   "outputs": [
    {
     "name": "stdout",
     "output_type": "stream",
     "text": [
      "<class 'sklearn.feature_extraction.text.TfidfVectorizer'>\n"
     ]
    }
   ],
   "source": [
    "# create an object of TfidfVectorizer class\n",
    "from sklearn.feature_extraction.text import TfidfVectorizer\n",
    "tfidf_vec = TfidfVectorizer()\n",
    "print(type(tfidf_vec))"
   ]
  },
  {
   "cell_type": "code",
   "execution_count": 16,
   "id": "e52250d1",
   "metadata": {},
   "outputs": [
    {
     "name": "stdout",
     "output_type": "stream",
     "text": [
      "['__class__', '__delattr__', '__dict__', '__dir__', '__doc__', '__eq__', '__format__', '__ge__', '__getattribute__', '__getstate__', '__gt__', '__hash__', '__init__', '__init_subclass__', '__le__', '__lt__', '__module__', '__ne__', '__new__', '__reduce__', '__reduce_ex__', '__repr__', '__setattr__', '__setstate__', '__sizeof__', '__str__', '__subclasshook__', '__weakref__', '_char_ngrams', '_char_wb_ngrams', '_check_feature_names', '_check_n_features', '_check_params', '_check_stop_words_consistency', '_check_vocabulary', '_count_vocab', '_get_param_names', '_get_tags', '_limit_features', '_more_tags', '_repr_html_', '_repr_html_inner', '_repr_mimebundle_', '_sort_features', '_validate_data', '_validate_params', '_validate_vocabulary', '_warn_for_unused_params', '_white_spaces', '_word_ngrams', 'analyzer', 'binary', 'build_analyzer', 'build_preprocessor', 'build_tokenizer', 'decode', 'decode_error', 'dtype', 'encoding', 'fit', 'fit_transform', 'get_feature_names', 'get_feature_names_out', 'get_params', 'get_stop_words', 'idf_', 'input', 'inverse_transform', 'lowercase', 'max_df', 'max_features', 'min_df', 'ngram_range', 'norm', 'preprocessor', 'set_params', 'smooth_idf', 'stop_words', 'strip_accents', 'sublinear_tf', 'token_pattern', 'tokenizer', 'transform', 'use_idf', 'vocabulary']\n"
     ]
    }
   ],
   "source": [
    "print(dir(tfidf_vec))"
   ]
  },
  {
   "cell_type": "code",
   "execution_count": 17,
   "id": "16739226",
   "metadata": {},
   "outputs": [],
   "source": [
    "# generate vocabulary dictionary and return a Document Turn Matrix having tfidt values\n",
    "tfidf = tfidf_vec.fit_transform(corpus)\n"
   ]
  },
  {
   "cell_type": "code",
   "execution_count": 18,
   "id": "08f68e48",
   "metadata": {},
   "outputs": [
    {
     "name": "stdout",
     "output_type": "stream",
     "text": [
      "{'matt': 8, 'is': 6, 'fan': 2, 'of': 11, 'football': 3, 'he': 5, 'also': 0, 'likes': 7, 'to': 12, 'cook': 1, 'occasionally': 10, 'nice': 9, 'guy': 4}\n"
     ]
    }
   ],
   "source": [
    "# to print vocabulary\n",
    "print(tfidf_vec.vocabulary_)"
   ]
  },
  {
   "cell_type": "code",
   "execution_count": 19,
   "id": "a3af3099",
   "metadata": {},
   "outputs": [
    {
     "name": "stdout",
     "output_type": "stream",
     "text": [
      "['also' 'cook' 'fan' 'football' 'guy' 'he' 'is' 'likes' 'matt' 'nice'\n",
      " 'occasionally' 'of' 'to']\n"
     ]
    }
   ],
   "source": [
    "print(tfidf_vec.get_feature_names_out())"
   ]
  },
  {
   "cell_type": "code",
   "execution_count": 20,
   "id": "0380b568",
   "metadata": {},
   "outputs": [
    {
     "data": {
      "text/plain": [
       "(3, 13)"
      ]
     },
     "execution_count": 20,
     "metadata": {},
     "output_type": "execute_result"
    }
   ],
   "source": [
    "tfidf.shape"
   ]
  },
  {
   "cell_type": "code",
   "execution_count": 21,
   "id": "727154c1",
   "metadata": {},
   "outputs": [
    {
     "data": {
      "text/plain": [
       "<3x13 sparse matrix of type '<class 'numpy.float64'>'\n",
       "\twith 15 stored elements in Compressed Sparse Row format>"
      ]
     },
     "execution_count": 21,
     "metadata": {},
     "output_type": "execute_result"
    }
   ],
   "source": [
    "tfidf"
   ]
  },
  {
   "cell_type": "code",
   "execution_count": 22,
   "id": "e84dccb9",
   "metadata": {},
   "outputs": [
    {
     "data": {
      "text/plain": [
       "array([[0.        , 0.        , 0.46735098, 0.46735098, 0.        ,\n",
       "        0.        , 0.35543247, 0.        , 0.46735098, 0.        ,\n",
       "        0.        , 0.46735098, 0.        ],\n",
       "       [0.42339448, 0.42339448, 0.        , 0.        , 0.        ,\n",
       "        0.32200242, 0.        , 0.42339448, 0.        , 0.        ,\n",
       "        0.42339448, 0.        , 0.42339448],\n",
       "       [0.        , 0.        , 0.        , 0.        , 0.5628291 ,\n",
       "        0.42804604, 0.42804604, 0.        , 0.        , 0.5628291 ,\n",
       "        0.        , 0.        , 0.        ]])"
      ]
     },
     "execution_count": 22,
     "metadata": {},
     "output_type": "execute_result"
    }
   ],
   "source": [
    "# since bow is a sparse matrix, so to change it to dense matrix or array, we can use numpy toarray()\n",
    "tfidf.toarray()"
   ]
  },
  {
   "cell_type": "code",
   "execution_count": 23,
   "id": "eb5590af",
   "metadata": {},
   "outputs": [
    {
     "data": {
      "text/plain": [
       "matrix([[0.        , 0.        , 0.46735098, 0.46735098, 0.        ,\n",
       "         0.        , 0.35543247, 0.        , 0.46735098, 0.        ,\n",
       "         0.        , 0.46735098, 0.        ],\n",
       "        [0.42339448, 0.42339448, 0.        , 0.        , 0.        ,\n",
       "         0.32200242, 0.        , 0.42339448, 0.        , 0.        ,\n",
       "         0.42339448, 0.        , 0.42339448],\n",
       "        [0.        , 0.        , 0.        , 0.        , 0.5628291 ,\n",
       "         0.42804604, 0.42804604, 0.        , 0.        , 0.5628291 ,\n",
       "         0.        , 0.        , 0.        ]])"
      ]
     },
     "execution_count": 23,
     "metadata": {},
     "output_type": "execute_result"
    }
   ],
   "source": [
    "tfidf.todense()"
   ]
  },
  {
   "cell_type": "markdown",
   "id": "1d83e2ca",
   "metadata": {},
   "source": [
    "##### Let save the corpus as DTM of TF-IDF representation"
   ]
  },
  {
   "cell_type": "code",
   "execution_count": 24,
   "id": "31c63f5d",
   "metadata": {},
   "outputs": [
    {
     "data": {
      "text/html": [
       "<div>\n",
       "<style scoped>\n",
       "    .dataframe tbody tr th:only-of-type {\n",
       "        vertical-align: middle;\n",
       "    }\n",
       "\n",
       "    .dataframe tbody tr th {\n",
       "        vertical-align: top;\n",
       "    }\n",
       "\n",
       "    .dataframe thead th {\n",
       "        text-align: right;\n",
       "    }\n",
       "</style>\n",
       "<table border=\"1\" class=\"dataframe\">\n",
       "  <thead>\n",
       "    <tr style=\"text-align: right;\">\n",
       "      <th></th>\n",
       "      <th>also</th>\n",
       "      <th>cook</th>\n",
       "      <th>fan</th>\n",
       "      <th>football</th>\n",
       "      <th>guy</th>\n",
       "      <th>he</th>\n",
       "      <th>is</th>\n",
       "      <th>likes</th>\n",
       "      <th>matt</th>\n",
       "      <th>nice</th>\n",
       "      <th>occasionally</th>\n",
       "      <th>of</th>\n",
       "      <th>to</th>\n",
       "    </tr>\n",
       "  </thead>\n",
       "  <tbody>\n",
       "    <tr>\n",
       "      <th>0</th>\n",
       "      <td>0.000000</td>\n",
       "      <td>0.000000</td>\n",
       "      <td>0.467351</td>\n",
       "      <td>0.467351</td>\n",
       "      <td>0.000000</td>\n",
       "      <td>0.000000</td>\n",
       "      <td>0.355432</td>\n",
       "      <td>0.000000</td>\n",
       "      <td>0.467351</td>\n",
       "      <td>0.000000</td>\n",
       "      <td>0.000000</td>\n",
       "      <td>0.467351</td>\n",
       "      <td>0.000000</td>\n",
       "    </tr>\n",
       "    <tr>\n",
       "      <th>1</th>\n",
       "      <td>0.423394</td>\n",
       "      <td>0.423394</td>\n",
       "      <td>0.000000</td>\n",
       "      <td>0.000000</td>\n",
       "      <td>0.000000</td>\n",
       "      <td>0.322002</td>\n",
       "      <td>0.000000</td>\n",
       "      <td>0.423394</td>\n",
       "      <td>0.000000</td>\n",
       "      <td>0.000000</td>\n",
       "      <td>0.423394</td>\n",
       "      <td>0.000000</td>\n",
       "      <td>0.423394</td>\n",
       "    </tr>\n",
       "    <tr>\n",
       "      <th>2</th>\n",
       "      <td>0.000000</td>\n",
       "      <td>0.000000</td>\n",
       "      <td>0.000000</td>\n",
       "      <td>0.000000</td>\n",
       "      <td>0.562829</td>\n",
       "      <td>0.428046</td>\n",
       "      <td>0.428046</td>\n",
       "      <td>0.000000</td>\n",
       "      <td>0.000000</td>\n",
       "      <td>0.562829</td>\n",
       "      <td>0.000000</td>\n",
       "      <td>0.000000</td>\n",
       "      <td>0.000000</td>\n",
       "    </tr>\n",
       "  </tbody>\n",
       "</table>\n",
       "</div>"
      ],
      "text/plain": [
       "       also      cook       fan  football       guy        he        is  \\\n",
       "0  0.000000  0.000000  0.467351  0.467351  0.000000  0.000000  0.355432   \n",
       "1  0.423394  0.423394  0.000000  0.000000  0.000000  0.322002  0.000000   \n",
       "2  0.000000  0.000000  0.000000  0.000000  0.562829  0.428046  0.428046   \n",
       "\n",
       "      likes      matt      nice  occasionally        of        to  \n",
       "0  0.000000  0.467351  0.000000      0.000000  0.467351  0.000000  \n",
       "1  0.423394  0.000000  0.000000      0.423394  0.000000  0.423394  \n",
       "2  0.000000  0.000000  0.562829      0.000000  0.000000  0.000000  "
      ]
     },
     "execution_count": 24,
     "metadata": {},
     "output_type": "execute_result"
    }
   ],
   "source": [
    "import pandas as pd\n",
    "dtm = pd.DataFrame(data=tfidf.todense(), columns=tfidf_vec.get_feature_names_out())\n",
    "dtm"
   ]
  },
  {
   "cell_type": "code",
   "execution_count": null,
   "id": "01c791c1",
   "metadata": {},
   "outputs": [],
   "source": []
  },
  {
   "cell_type": "markdown",
   "id": "5e900e1e",
   "metadata": {},
   "source": [
    "## Word embedding Techniques\n",
    "#### Word2Vec using SpaCy `en_core_web_lg` model"
   ]
  },
  {
   "cell_type": "code",
   "execution_count": 4,
   "id": "f5bec46a",
   "metadata": {},
   "outputs": [],
   "source": [
    "# import and load the language library\n",
    "import spacy\n",
    "nlp = spacy.load('en_core_web_lg')"
   ]
  },
  {
   "cell_type": "code",
   "execution_count": 13,
   "id": "72945833",
   "metadata": {},
   "outputs": [
    {
     "data": {
      "text/plain": [
       "514157"
      ]
     },
     "execution_count": 13,
     "metadata": {},
     "output_type": "execute_result"
    }
   ],
   "source": [
    "len(nlp.vocab.vectors)"
   ]
  },
  {
   "cell_type": "code",
   "execution_count": null,
   "id": "20522f70",
   "metadata": {},
   "outputs": [],
   "source": [
    "nlp.vocab.vectors.shape"
   ]
  },
  {
   "cell_type": "code",
   "execution_count": null,
   "id": "ed6869f2",
   "metadata": {},
   "outputs": [],
   "source": []
  },
  {
   "cell_type": "markdown",
   "id": "3c2b1a73",
   "metadata": {},
   "source": [
    "#### Vectors representation of words"
   ]
  },
  {
   "cell_type": "code",
   "execution_count": 5,
   "id": "cd897bee",
   "metadata": {},
   "outputs": [
    {
     "data": {
      "text/plain": [
       "array([-1.1296e-01, -4.1865e+00, -1.8453e+00,  3.0781e-01,  2.4956e+00,\n",
       "        9.6267e-01, -1.8161e+00,  4.4655e+00, -2.8210e+00,  9.7090e-01,\n",
       "        1.3542e+01,  4.3195e-01, -5.3098e+00,  4.7098e+00,  2.9030e+00,\n",
       "        1.5588e+00,  6.0064e+00, -3.0345e+00,  1.0626e+00, -7.7197e-01,\n",
       "       -5.4771e+00, -9.7380e-01, -4.4345e+00,  5.8367e+00,  2.4302e+00,\n",
       "       -3.9408e+00, -9.1862e-01, -4.9124e+00,  1.4591e+00, -7.2772e-01,\n",
       "        3.4957e+00, -4.0077e+00, -1.8354e+00, -4.1052e+00,  4.9211e+00,\n",
       "       -9.7053e-01,  1.9223e+00,  5.2605e+00,  1.6086e+00,  7.1328e-01,\n",
       "       -1.2146e+00, -1.9869e+00,  8.0265e-01,  2.9298e+00,  7.2985e-01,\n",
       "       -6.2892e-01, -1.7082e+00,  1.9893e+00,  4.7529e-01,  3.2264e+00,\n",
       "       -3.9215e+00,  4.6556e+00,  1.3475e+00, -1.0979e+00, -3.0365e+00,\n",
       "        1.5815e+00,  2.2835e+00, -4.0616e+00,  2.5730e+00,  4.0618e+00,\n",
       "        9.5438e-01, -6.2563e+00,  5.6463e+00, -3.8933e+00,  4.4076e+00,\n",
       "        2.0517e+00, -6.6906e+00, -6.9448e+00,  6.0371e+00,  9.3081e-01,\n",
       "        1.5180e+00,  2.3974e+00, -3.8043e+00, -4.3941e+00, -3.6979e+00,\n",
       "        2.9489e+00, -8.9735e+00,  9.5273e+00, -6.4149e-01,  2.2565e+00,\n",
       "       -7.2062e+00, -1.0078e+00, -4.4381e+00,  2.0424e+00, -6.6736e-01,\n",
       "        4.3500e+00, -1.6199e+00,  3.1975e+00, -1.2065e+00, -6.5684e-01,\n",
       "        7.5759e-01, -1.6033e+00,  2.5450e+00, -5.4999e+00, -1.8909e+00,\n",
       "       -1.2985e-02,  2.6703e+00,  5.4623e-01, -2.4504e+00, -4.4326e-01,\n",
       "       -1.7250e+00,  9.1585e-01,  7.5243e+00, -5.8451e-01,  3.4550e+00,\n",
       "        3.4817e+00, -4.1599e+00, -5.5125e-01,  2.7681e-02, -3.1687e+00,\n",
       "       -4.8459e+00,  7.9108e+00, -1.7062e+00, -2.6731e+00,  9.7841e+00,\n",
       "        3.8851e+00, -3.7930e+00, -5.2979e-01,  6.6191e-01, -9.7232e-01,\n",
       "       -9.4692e-01, -4.4918e+00,  1.0932e+00, -4.3751e+00,  1.3182e-02,\n",
       "       -1.0243e+01,  4.7973e+00, -8.7426e+00,  2.5479e+00,  2.3454e+00,\n",
       "       -6.4140e+00,  7.3875e-01,  5.8565e+00, -2.5964e-01,  1.6558e+00,\n",
       "       -3.1353e+00, -6.6752e+00,  1.0550e+00,  1.7017e+00, -3.8360e+00,\n",
       "       -1.1980e+01, -1.3750e+00, -1.9261e+00,  3.1267e+00,  3.2874e+00,\n",
       "       -2.8928e+00, -1.0893e+01,  4.2848e+00, -4.0890e-02, -5.9565e-01,\n",
       "       -3.3473e-02,  1.6832e+00,  2.1454e-01,  7.2849e+00,  2.8116e+00,\n",
       "        2.5708e+00, -3.9823e-01, -1.7257e+00, -6.1063e+00, -4.2618e+00,\n",
       "       -3.3886e+00, -9.2663e+00,  1.7600e-01, -3.3873e-02, -3.7070e+00,\n",
       "       -9.1995e+00, -7.1594e+00, -6.0189e-01, -7.2560e-01,  1.5342e+00,\n",
       "        5.1083e+00,  2.4373e+00, -3.8012e+00, -2.1752e-01,  2.9503e+00,\n",
       "       -2.5551e+00,  4.9827e-01,  8.6823e-01, -4.3449e+00, -4.3821e+00,\n",
       "        3.4993e+00, -1.9518e+00,  2.2036e+00, -6.6526e-01,  7.1015e+00,\n",
       "        3.6784e+00,  2.6251e-01,  1.5379e+00, -8.1950e-01,  1.1065e+00,\n",
       "        3.3167e+00, -5.9392e+00, -4.0191e+00,  2.6496e+00,  2.3168e+00,\n",
       "       -8.5681e-02, -3.5059e+00,  1.5915e+00, -3.1831e-01,  6.9366e+00,\n",
       "        3.8439e+00,  9.4076e-01, -7.5424e+00,  2.7847e+00, -2.2814e+00,\n",
       "       -4.2487e+00, -2.6604e-01,  3.7954e+00, -3.6526e+00,  4.3823e+00,\n",
       "       -2.6506e+00,  3.5298e+00,  2.2597e+00,  6.3055e+00, -7.0194e-01,\n",
       "        4.1565e+00,  8.2306e+00,  5.7675e-01,  4.3596e-01, -8.8400e+00,\n",
       "       -3.0249e+00,  4.0032e+00,  2.4232e+00,  6.9885e+00, -2.5906e-01,\n",
       "       -4.2059e+00,  1.2643e+00,  1.0110e+01,  9.7016e-01,  2.2963e+00,\n",
       "       -1.2802e+00, -1.4447e+00, -3.4386e+00,  5.6555e+00,  3.3911e+00,\n",
       "        6.9418e+00, -6.8705e+00, -8.1536e-01, -7.2334e+00,  3.0509e+00,\n",
       "        8.7676e-01,  6.4216e+00, -3.1655e+00, -1.5308e+00, -1.1056e+00,\n",
       "       -5.0426e+00,  4.6801e+00,  4.6812e+00,  4.0401e+00, -3.7289e-01,\n",
       "        6.7437e-01, -8.6660e+00, -9.9656e+00,  2.4979e+00, -1.4783e-01,\n",
       "       -5.6301e+00,  4.5542e+00,  4.8165e+00, -2.2055e-01,  4.5169e+00,\n",
       "        1.7496e+00,  2.9019e-01, -1.1683e+00, -4.3981e-01,  2.3469e+00,\n",
       "       -4.3521e-02,  6.3715e-01,  5.8259e-01, -8.5701e+00,  4.6419e+00,\n",
       "        2.3809e+00, -1.9273e-01, -6.9772e+00,  7.6172e-01, -6.3895e-01,\n",
       "       -3.3769e+00,  6.1265e+00, -1.9695e+00, -2.3404e+00,  6.6789e+00,\n",
       "       -3.5265e+00, -3.3883e+00,  6.1372e+00,  4.5550e+00,  6.0957e+00,\n",
       "       -2.2007e-01,  6.2087e-01,  2.5527e+00, -4.5590e+00, -2.8429e+00,\n",
       "        2.0645e+00, -1.6221e+00, -2.8171e+00, -2.9680e+00,  1.3651e+00,\n",
       "        3.6137e+00, -3.2096e-01, -1.9346e+00, -4.8738e+00,  2.5565e+00],\n",
       "      dtype=float32)"
      ]
     },
     "execution_count": 5,
     "metadata": {},
     "output_type": "execute_result"
    }
   ],
   "source": [
    "nlp(u'king').vector"
   ]
  },
  {
   "cell_type": "code",
   "execution_count": 6,
   "id": "d53a0162",
   "metadata": {},
   "outputs": [
    {
     "data": {
      "text/plain": [
       "array([ -1.2867  ,  -0.7992  ,  -2.092   ,  -0.77679 ,  -2.5057  ,\n",
       "         2.7123  ,   0.59127 ,   3.2927  ,  -1.5826  ,   6.4515  ,\n",
       "         1.3452  ,  -1.9711  ,   0.93059 ,   2.8943  ,   4.2116  ,\n",
       "         1.6     ,   2.6821  ,  -8.4476  ,   2.3301  ,   6.0751  ,\n",
       "        -0.39937 ,   7.3433  ,  -2.2546  ,  -5.9357  ,   3.6748  ,\n",
       "        -4.9191  ,  -3.1941  ,  -4.2882  ,   3.4951  ,  -3.1585  ,\n",
       "         0.69749 ,   0.48132 ,  -0.6059  ,   0.22147 ,  -2.9045  ,\n",
       "         0.27525 ,  -6.0088  ,   5.0995  ,  -3.367   ,   2.6089  ,\n",
       "        -5.6207  ,  -2.6762  ,   6.0931  ,   3.1168  ,   3.2641  ,\n",
       "        -4.0576  ,  -4.435   ,   1.4214  ,   0.59049 ,   8.941   ,\n",
       "         2.0718  ,   5.3188  ,   2.8866  ,   0.0945  ,  -0.25755 ,\n",
       "         0.93984 ,   7.9412  ,  -2.2701  ,  -0.65029 ,   1.4952  ,\n",
       "        -2.5503  ,  -3.7978  ,  -5.853   ,  -1.7847  ,   1.4484  ,\n",
       "        -3.9781  ,  -1.3968  , -10.793   ,  -4.5546  ,  -0.12542 ,\n",
       "         4.4986  ,   1.7492  ,   0.50073 ,  -1.1922  ,   2.0405  ,\n",
       "        -2.1606  ,  -1.5879  ,  10.005   ,   1.5086  ,  -2.7168  ,\n",
       "        -1.2617  ,  -2.1364  ,   1.2624  ,  -4.1934  ,   0.87337 ,\n",
       "         2.2741  ,  -1.8725  ,   4.7847  ,  -0.19699 ,   0.49063 ,\n",
       "         1.676   ,  -7.2461  ,   8.69    ,  -6.7596  ,   1.4258  ,\n",
       "        -1.3082  ,   0.49451 ,   1.0113  ,   4.8767  ,  -8.7557  ,\n",
       "         5.7198  ,  -3.9122  ,   2.9248  ,  -3.0411  ,  -4.9627  ,\n",
       "        -4.62    ,  -3.115   ,   0.41967 ,   0.28133 ,   0.12302 ,\n",
       "        -4.0926  ,   1.08    ,   0.29599 ,   2.3666  ,   6.8539  ,\n",
       "         2.5459  ,  -1.9408  ,  -2.887   ,   0.30666 ,   2.3324  ,\n",
       "        -0.069124,  -3.6478  ,  -8.6565  ,   3.3408  ,  -1.6408  ,\n",
       "        -4.1846  ,   9.567   ,   0.91341 ,   5.7761  ,   4.2719  ,\n",
       "         2.5493  ,  -3.2469  ,   7.7067  ,  -3.1646  ,   0.11333 ,\n",
       "         4.4113  ,  -1.8485  ,   0.41425 ,   2.8236  ,   5.334   ,\n",
       "       -11.2     ,  -4.0501  ,   3.2927  ,   2.133   ,  -1.3271  ,\n",
       "        -5.1098  ,  -8.8281  ,   1.9037  ,  -2.9818  ,  -0.65455 ,\n",
       "         5.1407  ,  -1.3194  ,   0.39336 ,  -0.028404,  -1.1846  ,\n",
       "         3.8982  ,   4.3978  ,  -1.2017  ,  -7.2908  ,  -3.216   ,\n",
       "         1.4994  ,  -8.3424  ,  -2.7203  ,   5.5298  ,  -3.8797  ,\n",
       "        -1.7302  ,   1.7454  ,   1.1949  ,   1.6159  ,   0.80036 ,\n",
       "         1.5803  ,   6.8892  ,   2.2089  ,   4.0075  ,   4.5673  ,\n",
       "        -2.8403  ,  -1.5487  ,   2.1561  ,  -3.5629  ,  -6.9477  ,\n",
       "         3.1076  ,  -4.0521  ,   5.3745  ,   0.56936 ,  -0.87056 ,\n",
       "         0.46465 ,   2.8535  ,   0.41045 ,   2.2412  ,  -1.7558  ,\n",
       "         0.7084  ,   3.3363  ,  -0.1505  ,   2.0362  ,  -0.53224 ,\n",
       "        -3.1957  ,  -0.13258 ,   9.3884  ,  -3.4061  ,   1.4806  ,\n",
       "         8.1324  ,  -0.59143 ,  -4.9386  ,   1.9289  ,  -5.3873  ,\n",
       "        -0.85809 ,  -2.5     ,  -8.0451  ,  -4.7292  ,  -7.2426  ,\n",
       "        -1.4862  ,   0.98244 ,  -4.1294  ,   2.9509  ,  -2.347   ,\n",
       "         2.4539  ,   0.94502 ,   5.6181  ,  -2.6881  ,  -2.3321  ,\n",
       "         3.1072  ,  -4.4747  ,   6.6671  ,   7.2443  ,  -1.4954  ,\n",
       "        -1.5245  ,  -1.8482  ,   2.0941  ,   5.8111  ,  -5.1892  ,\n",
       "        -2.4437  ,  -3.8453  ,  -1.4752  ,  -2.7762  ,  -3.46    ,\n",
       "         2.761   ,  -8.0596  ,   4.1683  ,  -3.9315  ,   1.3891  ,\n",
       "         1.072   ,  -0.285   ,   6.1694  ,  -3.0699  ,   1.1224  ,\n",
       "        -6.0554  ,   1.9909  ,   0.44939 ,   3.9851  ,   2.0694  ,\n",
       "         1.086   ,  -4.5804  ,  -3.5417  ,   1.7268  ,  -2.1781  ,\n",
       "         8.1669  ,   3.8169  ,   6.0367  ,  -2.2298  ,   2.9053  ,\n",
       "         3.1637  ,   0.33807 ,  -1.534   ,  -0.76545 ,  -0.4528  ,\n",
       "        -1.8763  ,   2.8293  ,  -1.591   ,  -4.7978  ,   2.5972  ,\n",
       "         4.0572  ,  -1.3079  ,  -7.5431  ,   1.551   ,  -0.17833 ,\n",
       "        -3.5017  ,   2.5796  ,   0.80785 ,  -6.4167  ,  12.792   ,\n",
       "        -6.1626  ,  -4.375   ,   2.9925  ,   2.4804  ,   8.1384  ,\n",
       "        -1.7968  ,  -2.4738  ,   0.2149  ,  -2.8114  ,  -1.0245  ,\n",
       "         3.9408  ,  -1.972   ,   0.072622,  -2.5904  ,  -1.439   ,\n",
       "        -3.3312  ,   4.8377  ,   8.8206  ,   0.18837 ,   2.7038  ],\n",
       "      dtype=float32)"
      ]
     },
     "execution_count": 6,
     "metadata": {},
     "output_type": "execute_result"
    }
   ],
   "source": [
    "nlp(u'man').vector"
   ]
  },
  {
   "cell_type": "code",
   "execution_count": 7,
   "id": "02f9a2e2",
   "metadata": {},
   "outputs": [
    {
     "data": {
      "text/plain": [
       "array([0., 0., 0., 0., 0., 0., 0., 0., 0., 0., 0., 0., 0., 0., 0., 0., 0.,\n",
       "       0., 0., 0., 0., 0., 0., 0., 0., 0., 0., 0., 0., 0., 0., 0., 0., 0.,\n",
       "       0., 0., 0., 0., 0., 0., 0., 0., 0., 0., 0., 0., 0., 0., 0., 0., 0.,\n",
       "       0., 0., 0., 0., 0., 0., 0., 0., 0., 0., 0., 0., 0., 0., 0., 0., 0.,\n",
       "       0., 0., 0., 0., 0., 0., 0., 0., 0., 0., 0., 0., 0., 0., 0., 0., 0.,\n",
       "       0., 0., 0., 0., 0., 0., 0., 0., 0., 0., 0., 0., 0., 0., 0., 0., 0.,\n",
       "       0., 0., 0., 0., 0., 0., 0., 0., 0., 0., 0., 0., 0., 0., 0., 0., 0.,\n",
       "       0., 0., 0., 0., 0., 0., 0., 0., 0., 0., 0., 0., 0., 0., 0., 0., 0.,\n",
       "       0., 0., 0., 0., 0., 0., 0., 0., 0., 0., 0., 0., 0., 0., 0., 0., 0.,\n",
       "       0., 0., 0., 0., 0., 0., 0., 0., 0., 0., 0., 0., 0., 0., 0., 0., 0.,\n",
       "       0., 0., 0., 0., 0., 0., 0., 0., 0., 0., 0., 0., 0., 0., 0., 0., 0.,\n",
       "       0., 0., 0., 0., 0., 0., 0., 0., 0., 0., 0., 0., 0., 0., 0., 0., 0.,\n",
       "       0., 0., 0., 0., 0., 0., 0., 0., 0., 0., 0., 0., 0., 0., 0., 0., 0.,\n",
       "       0., 0., 0., 0., 0., 0., 0., 0., 0., 0., 0., 0., 0., 0., 0., 0., 0.,\n",
       "       0., 0., 0., 0., 0., 0., 0., 0., 0., 0., 0., 0., 0., 0., 0., 0., 0.,\n",
       "       0., 0., 0., 0., 0., 0., 0., 0., 0., 0., 0., 0., 0., 0., 0., 0., 0.,\n",
       "       0., 0., 0., 0., 0., 0., 0., 0., 0., 0., 0., 0., 0., 0., 0., 0., 0.,\n",
       "       0., 0., 0., 0., 0., 0., 0., 0., 0., 0., 0.], dtype=float32)"
      ]
     },
     "execution_count": 7,
     "metadata": {},
     "output_type": "execute_result"
    }
   ],
   "source": [
    "nlp(u'Ehtisham').vector"
   ]
  },
  {
   "cell_type": "code",
   "execution_count": null,
   "id": "0700d9ca",
   "metadata": {},
   "outputs": [],
   "source": []
  },
  {
   "cell_type": "code",
   "execution_count": null,
   "id": "cfb061c5",
   "metadata": {},
   "outputs": [],
   "source": []
  },
  {
   "cell_type": "code",
   "execution_count": null,
   "id": "fe7da5c6",
   "metadata": {},
   "outputs": [],
   "source": []
  },
  {
   "cell_type": "code",
   "execution_count": null,
   "id": "889fa6c2",
   "metadata": {},
   "outputs": [],
   "source": []
  },
  {
   "cell_type": "code",
   "execution_count": null,
   "id": "c1fcdc91",
   "metadata": {},
   "outputs": [],
   "source": []
  },
  {
   "cell_type": "code",
   "execution_count": null,
   "id": "861c37a7",
   "metadata": {},
   "outputs": [],
   "source": []
  },
  {
   "cell_type": "code",
   "execution_count": null,
   "id": "04e0da3b",
   "metadata": {},
   "outputs": [],
   "source": []
  },
  {
   "cell_type": "code",
   "execution_count": null,
   "id": "4146ab23",
   "metadata": {},
   "outputs": [],
   "source": []
  },
  {
   "cell_type": "code",
   "execution_count": null,
   "id": "4a88ef96",
   "metadata": {},
   "outputs": [],
   "source": []
  },
  {
   "cell_type": "code",
   "execution_count": null,
   "id": "3fa9d269",
   "metadata": {},
   "outputs": [],
   "source": []
  },
  {
   "cell_type": "code",
   "execution_count": null,
   "id": "ed76ddac",
   "metadata": {},
   "outputs": [],
   "source": []
  },
  {
   "cell_type": "code",
   "execution_count": null,
   "id": "77720e0e",
   "metadata": {},
   "outputs": [],
   "source": []
  },
  {
   "cell_type": "code",
   "execution_count": null,
   "id": "16f5a98c",
   "metadata": {},
   "outputs": [],
   "source": []
  },
  {
   "cell_type": "code",
   "execution_count": null,
   "id": "5cd2ad05",
   "metadata": {},
   "outputs": [],
   "source": []
  },
  {
   "cell_type": "code",
   "execution_count": null,
   "id": "a67c700e",
   "metadata": {},
   "outputs": [],
   "source": []
  },
  {
   "cell_type": "markdown",
   "id": "24bc8664",
   "metadata": {},
   "source": [
    "## Feature Engineering in ML"
   ]
  },
  {
   "cell_type": "markdown",
   "id": "2e0a28f7",
   "metadata": {},
   "source": [
    "#### Imputation using `SimpleImputer()`"
   ]
  },
  {
   "cell_type": "code",
   "execution_count": 26,
   "id": "47f11576",
   "metadata": {},
   "outputs": [
    {
     "name": "stdout",
     "output_type": "stream",
     "text": [
      "['__class__', '__delattr__', '__dict__', '__dir__', '__doc__', '__eq__', '__format__', '__ge__', '__getattribute__', '__getstate__', '__gt__', '__hash__', '__init__', '__init_subclass__', '__le__', '__lt__', '__module__', '__ne__', '__new__', '__reduce__', '__reduce_ex__', '__repr__', '__setattr__', '__setstate__', '__sizeof__', '__str__', '__subclasshook__', '__weakref__', '_check_feature_names', '_check_n_features', '_concatenate_indicator', '_concatenate_indicator_feature_names_out', '_dense_fit', '_fit_indicator', '_get_param_names', '_get_tags', '_more_tags', '_repr_html_', '_repr_html_inner', '_repr_mimebundle_', '_sparse_fit', '_transform_indicator', '_validate_data', '_validate_input', 'add_indicator', 'copy', 'fill_value', 'fit', 'fit_transform', 'get_feature_names_out', 'get_params', 'inverse_transform', 'missing_values', 'set_params', 'strategy', 'transform', 'verbose']\n"
     ]
    }
   ],
   "source": [
    "from sklearn.impute import SimpleImputer\n",
    "si = SimpleImputer()\n",
    "print(dir(si))"
   ]
  },
  {
   "cell_type": "code",
   "execution_count": null,
   "id": "a1ab624b",
   "metadata": {},
   "outputs": [],
   "source": [
    "# si.strategy()"
   ]
  },
  {
   "cell_type": "markdown",
   "id": "afa84bd7",
   "metadata": {},
   "source": [
    "#### One Hot/Categorical Encoding using `LabelEncoder`"
   ]
  },
  {
   "cell_type": "code",
   "execution_count": 27,
   "id": "302cf1b8",
   "metadata": {},
   "outputs": [],
   "source": [
    "from sklearn.preprocessing import OrdinalEncoder\n",
    "oe = OrdinalEncoder()"
   ]
  },
  {
   "cell_type": "code",
   "execution_count": 28,
   "id": "d93129b7",
   "metadata": {},
   "outputs": [],
   "source": [
    "from sklearn.preprocessing import LabelEncoder\n",
    "le = LabelEncoder()"
   ]
  },
  {
   "cell_type": "code",
   "execution_count": null,
   "id": "73fb3a07",
   "metadata": {},
   "outputs": [],
   "source": []
  },
  {
   "cell_type": "markdown",
   "id": "06a7c62f",
   "metadata": {},
   "source": [
    "#### Logarithmic Transformation using `FunctionTransformer`"
   ]
  },
  {
   "cell_type": "code",
   "execution_count": null,
   "id": "82f70b48",
   "metadata": {},
   "outputs": [],
   "source": []
  },
  {
   "cell_type": "code",
   "execution_count": 45,
   "id": "e8b08d5f",
   "metadata": {},
   "outputs": [],
   "source": [
    "import pandas as pd\n",
    "import numpy as np\n",
    "from sklearn.model_selection import train_test_split\n",
    "from sklearn.preprocessing import FunctionTransformer\n",
    " \n",
    "# Load dataset\n",
    "data = pd.read_csv('datasets/train.csv')\n",
    " \n",
    "# Separate into train and test sets\n",
    "X_train, X_test, y_train, y_test = train_test_split(\n",
    "    data.drop(['Id', 'SalePrice'], axis=1),\n",
    "    data['SalePrice'],\n",
    "    test_size=0.3,\n",
    "    random_state=0\n",
    "    )\n",
    " \n",
    "# set up the variable transformer\n",
    "tf = FunctionTransformer(np.log)\n",
    " \n",
    "# fit the transformer\n",
    "tf.fit(X_train[['LotArea', 'GrLivArea']])\n",
    " \n",
    "# transform the data\n",
    "train_t = tf.transform(X_train[['LotArea', 'GrLivArea']])\n",
    "test_t = tf.transform(X_test[['LotArea', 'GrLivArea']])"
   ]
  },
  {
   "cell_type": "code",
   "execution_count": 46,
   "id": "3508f482",
   "metadata": {},
   "outputs": [
    {
     "data": {
      "text/plain": [
       "((1022, 79), (1022,), (438, 79), (438,))"
      ]
     },
     "execution_count": 46,
     "metadata": {},
     "output_type": "execute_result"
    }
   ],
   "source": [
    "X_train.shape,y_train.shape,X_test.shape,y_test.shape\n"
   ]
  },
  {
   "cell_type": "code",
   "execution_count": 41,
   "id": "f33514b1",
   "metadata": {},
   "outputs": [
    {
     "data": {
      "text/plain": [
       "(1460, 81)"
      ]
     },
     "execution_count": 41,
     "metadata": {},
     "output_type": "execute_result"
    }
   ],
   "source": [
    "data.shape"
   ]
  },
  {
   "cell_type": "code",
   "execution_count": 30,
   "id": "aa2cff58",
   "metadata": {},
   "outputs": [
    {
     "data": {
      "text/html": [
       "<div>\n",
       "<style scoped>\n",
       "    .dataframe tbody tr th:only-of-type {\n",
       "        vertical-align: middle;\n",
       "    }\n",
       "\n",
       "    .dataframe tbody tr th {\n",
       "        vertical-align: top;\n",
       "    }\n",
       "\n",
       "    .dataframe thead th {\n",
       "        text-align: right;\n",
       "    }\n",
       "</style>\n",
       "<table border=\"1\" class=\"dataframe\">\n",
       "  <thead>\n",
       "    <tr style=\"text-align: right;\">\n",
       "      <th></th>\n",
       "      <th>LotArea</th>\n",
       "      <th>GrLivArea</th>\n",
       "    </tr>\n",
       "  </thead>\n",
       "  <tbody>\n",
       "    <tr>\n",
       "      <th>0</th>\n",
       "      <td>8450</td>\n",
       "      <td>1710</td>\n",
       "    </tr>\n",
       "    <tr>\n",
       "      <th>1</th>\n",
       "      <td>9600</td>\n",
       "      <td>1262</td>\n",
       "    </tr>\n",
       "    <tr>\n",
       "      <th>2</th>\n",
       "      <td>11250</td>\n",
       "      <td>1786</td>\n",
       "    </tr>\n",
       "    <tr>\n",
       "      <th>3</th>\n",
       "      <td>9550</td>\n",
       "      <td>1717</td>\n",
       "    </tr>\n",
       "    <tr>\n",
       "      <th>4</th>\n",
       "      <td>14260</td>\n",
       "      <td>2198</td>\n",
       "    </tr>\n",
       "  </tbody>\n",
       "</table>\n",
       "</div>"
      ],
      "text/plain": [
       "   LotArea  GrLivArea\n",
       "0     8450       1710\n",
       "1     9600       1262\n",
       "2    11250       1786\n",
       "3     9550       1717\n",
       "4    14260       2198"
      ]
     },
     "execution_count": 30,
     "metadata": {},
     "output_type": "execute_result"
    }
   ],
   "source": [
    "data[['LotArea', 'GrLivArea']].head()"
   ]
  },
  {
   "cell_type": "code",
   "execution_count": 32,
   "id": "ae35361f",
   "metadata": {},
   "outputs": [
    {
     "data": {
      "text/html": [
       "<div>\n",
       "<style scoped>\n",
       "    .dataframe tbody tr th:only-of-type {\n",
       "        vertical-align: middle;\n",
       "    }\n",
       "\n",
       "    .dataframe tbody tr th {\n",
       "        vertical-align: top;\n",
       "    }\n",
       "\n",
       "    .dataframe thead th {\n",
       "        text-align: right;\n",
       "    }\n",
       "</style>\n",
       "<table border=\"1\" class=\"dataframe\">\n",
       "  <thead>\n",
       "    <tr style=\"text-align: right;\">\n",
       "      <th></th>\n",
       "      <th>LotArea</th>\n",
       "      <th>GrLivArea</th>\n",
       "    </tr>\n",
       "  </thead>\n",
       "  <tbody>\n",
       "    <tr>\n",
       "      <th>64</th>\n",
       "      <td>9.145802</td>\n",
       "      <td>7.617760</td>\n",
       "    </tr>\n",
       "    <tr>\n",
       "      <th>682</th>\n",
       "      <td>7.967973</td>\n",
       "      <td>7.163172</td>\n",
       "    </tr>\n",
       "    <tr>\n",
       "      <th>960</th>\n",
       "      <td>8.882808</td>\n",
       "      <td>6.754604</td>\n",
       "    </tr>\n",
       "    <tr>\n",
       "      <th>1384</th>\n",
       "      <td>9.111624</td>\n",
       "      <td>7.137278</td>\n",
       "    </tr>\n",
       "    <tr>\n",
       "      <th>1100</th>\n",
       "      <td>9.035987</td>\n",
       "      <td>6.082219</td>\n",
       "    </tr>\n",
       "  </tbody>\n",
       "</table>\n",
       "</div>"
      ],
      "text/plain": [
       "       LotArea  GrLivArea\n",
       "64    9.145802   7.617760\n",
       "682   7.967973   7.163172\n",
       "960   8.882808   6.754604\n",
       "1384  9.111624   7.137278\n",
       "1100  9.035987   6.082219"
      ]
     },
     "execution_count": 32,
     "metadata": {},
     "output_type": "execute_result"
    }
   ],
   "source": [
    "train_t.head()"
   ]
  },
  {
   "cell_type": "code",
   "execution_count": 33,
   "id": "e1c6e6e2",
   "metadata": {},
   "outputs": [
    {
     "data": {
      "text/html": [
       "<div>\n",
       "<style scoped>\n",
       "    .dataframe tbody tr th:only-of-type {\n",
       "        vertical-align: middle;\n",
       "    }\n",
       "\n",
       "    .dataframe tbody tr th {\n",
       "        vertical-align: top;\n",
       "    }\n",
       "\n",
       "    .dataframe thead th {\n",
       "        text-align: right;\n",
       "    }\n",
       "</style>\n",
       "<table border=\"1\" class=\"dataframe\">\n",
       "  <thead>\n",
       "    <tr style=\"text-align: right;\">\n",
       "      <th></th>\n",
       "      <th>LotArea</th>\n",
       "      <th>GrLivArea</th>\n",
       "    </tr>\n",
       "  </thead>\n",
       "  <tbody>\n",
       "    <tr>\n",
       "      <th>529</th>\n",
       "      <td>10.394151</td>\n",
       "      <td>7.830028</td>\n",
       "    </tr>\n",
       "    <tr>\n",
       "      <th>491</th>\n",
       "      <td>9.157994</td>\n",
       "      <td>7.363914</td>\n",
       "    </tr>\n",
       "    <tr>\n",
       "      <th>459</th>\n",
       "      <td>8.855806</td>\n",
       "      <td>7.092574</td>\n",
       "    </tr>\n",
       "    <tr>\n",
       "      <th>279</th>\n",
       "      <td>9.210840</td>\n",
       "      <td>7.611842</td>\n",
       "    </tr>\n",
       "    <tr>\n",
       "      <th>655</th>\n",
       "      <td>7.426549</td>\n",
       "      <td>6.995766</td>\n",
       "    </tr>\n",
       "  </tbody>\n",
       "</table>\n",
       "</div>"
      ],
      "text/plain": [
       "       LotArea  GrLivArea\n",
       "529  10.394151   7.830028\n",
       "491   9.157994   7.363914\n",
       "459   8.855806   7.092574\n",
       "279   9.210840   7.611842\n",
       "655   7.426549   6.995766"
      ]
     },
     "execution_count": 33,
     "metadata": {},
     "output_type": "execute_result"
    }
   ],
   "source": [
    "test_t.head()"
   ]
  },
  {
   "cell_type": "code",
   "execution_count": null,
   "id": "9ffdd643",
   "metadata": {},
   "outputs": [],
   "source": []
  },
  {
   "cell_type": "markdown",
   "id": "008d00c5",
   "metadata": {},
   "source": [
    "#### Discretization using `KBinsDiscretizer`"
   ]
  },
  {
   "cell_type": "code",
   "execution_count": 34,
   "id": "edc30013",
   "metadata": {},
   "outputs": [],
   "source": [
    "import pandas as pd\n",
    "from sklearn.model_selection import train_test_split\n",
    "from sklearn.preprocessing import KBinsDiscretizer\n",
    " \n",
    "# Load dataset\n",
    "data = data = pd.read_csv('datasets/train.csv')\n",
    " \n",
    "# Separate into train and test sets\n",
    "X_train, X_test, y_train, y_test = train_test_split(\n",
    "    data.drop(['Id', 'SalePrice'], axis=1),\n",
    "    data['SalePrice'],\n",
    "    test_size=0.3,\n",
    "    random_state=0\n",
    "    )\n",
    " \n",
    "# set up the discretisation transformer\n",
    "disc = KBinsDiscretizer(n_bins=10, strategy='quantile')\n",
    " \n",
    "# fit the transformer\n",
    "disc.fit(X_train[['LotArea', 'GrLivArea']])\n",
    " \n",
    "# transform the data\n",
    "train_t = disc.transform(X_train[['LotArea', 'GrLivArea']])\n",
    "test_t = disc.transform(X_test[['LotArea', 'GrLivArea']])"
   ]
  },
  {
   "cell_type": "code",
   "execution_count": 35,
   "id": "28e2adbf",
   "metadata": {},
   "outputs": [
    {
     "data": {
      "text/html": [
       "<div>\n",
       "<style scoped>\n",
       "    .dataframe tbody tr th:only-of-type {\n",
       "        vertical-align: middle;\n",
       "    }\n",
       "\n",
       "    .dataframe tbody tr th {\n",
       "        vertical-align: top;\n",
       "    }\n",
       "\n",
       "    .dataframe thead th {\n",
       "        text-align: right;\n",
       "    }\n",
       "</style>\n",
       "<table border=\"1\" class=\"dataframe\">\n",
       "  <thead>\n",
       "    <tr style=\"text-align: right;\">\n",
       "      <th></th>\n",
       "      <th>LotArea</th>\n",
       "      <th>GrLivArea</th>\n",
       "    </tr>\n",
       "  </thead>\n",
       "  <tbody>\n",
       "    <tr>\n",
       "      <th>0</th>\n",
       "      <td>8450</td>\n",
       "      <td>1710</td>\n",
       "    </tr>\n",
       "    <tr>\n",
       "      <th>1</th>\n",
       "      <td>9600</td>\n",
       "      <td>1262</td>\n",
       "    </tr>\n",
       "    <tr>\n",
       "      <th>2</th>\n",
       "      <td>11250</td>\n",
       "      <td>1786</td>\n",
       "    </tr>\n",
       "    <tr>\n",
       "      <th>3</th>\n",
       "      <td>9550</td>\n",
       "      <td>1717</td>\n",
       "    </tr>\n",
       "    <tr>\n",
       "      <th>4</th>\n",
       "      <td>14260</td>\n",
       "      <td>2198</td>\n",
       "    </tr>\n",
       "  </tbody>\n",
       "</table>\n",
       "</div>"
      ],
      "text/plain": [
       "   LotArea  GrLivArea\n",
       "0     8450       1710\n",
       "1     9600       1262\n",
       "2    11250       1786\n",
       "3     9550       1717\n",
       "4    14260       2198"
      ]
     },
     "execution_count": 35,
     "metadata": {},
     "output_type": "execute_result"
    }
   ],
   "source": [
    "data[['LotArea', 'GrLivArea']].head()"
   ]
  },
  {
   "cell_type": "code",
   "execution_count": 40,
   "id": "63570fff",
   "metadata": {},
   "outputs": [
    {
     "data": {
      "text/plain": [
       "<1022x20 sparse matrix of type '<class 'numpy.float64'>'\n",
       "\twith 2044 stored elements in Compressed Sparse Row format>"
      ]
     },
     "execution_count": 40,
     "metadata": {},
     "output_type": "execute_result"
    }
   ],
   "source": [
    "train_t"
   ]
  },
  {
   "cell_type": "code",
   "execution_count": 38,
   "id": "2918ee57",
   "metadata": {},
   "outputs": [
    {
     "data": {
      "text/plain": [
       "array([[0., 0., 0., ..., 0., 1., 0.],\n",
       "       [1., 0., 0., ..., 0., 0., 0.],\n",
       "       [0., 0., 1., ..., 0., 0., 0.],\n",
       "       ...,\n",
       "       [0., 0., 0., ..., 0., 1., 0.],\n",
       "       [1., 0., 0., ..., 0., 0., 0.],\n",
       "       [0., 0., 0., ..., 1., 0., 0.]])"
      ]
     },
     "execution_count": 38,
     "metadata": {},
     "output_type": "execute_result"
    }
   ],
   "source": [
    "train_t.toarray()"
   ]
  },
  {
   "cell_type": "code",
   "execution_count": 39,
   "id": "9df31772",
   "metadata": {},
   "outputs": [
    {
     "data": {
      "text/plain": [
       "array([[0., 0., 0., ..., 0., 0., 1.],\n",
       "       [0., 0., 0., ..., 0., 0., 0.],\n",
       "       [0., 1., 0., ..., 0., 0., 0.],\n",
       "       ...,\n",
       "       [0., 0., 0., ..., 0., 1., 0.],\n",
       "       [0., 0., 0., ..., 0., 0., 0.],\n",
       "       [0., 0., 0., ..., 0., 0., 1.]])"
      ]
     },
     "execution_count": 39,
     "metadata": {},
     "output_type": "execute_result"
    }
   ],
   "source": [
    "test_t.toarray()"
   ]
  },
  {
   "cell_type": "code",
   "execution_count": null,
   "id": "f9e9b9fe",
   "metadata": {},
   "outputs": [],
   "source": [
    "from sklearn.p"
   ]
  }
 ],
 "metadata": {
  "kernelspec": {
   "display_name": "Python 3 (ipykernel)",
   "language": "python",
   "name": "python3"
  },
  "language_info": {
   "codemirror_mode": {
    "name": "ipython",
    "version": 3
   },
   "file_extension": ".py",
   "mimetype": "text/x-python",
   "name": "python",
   "nbconvert_exporter": "python",
   "pygments_lexer": "ipython3",
   "version": "3.8.10"
  }
 },
 "nbformat": 4,
 "nbformat_minor": 5
}
