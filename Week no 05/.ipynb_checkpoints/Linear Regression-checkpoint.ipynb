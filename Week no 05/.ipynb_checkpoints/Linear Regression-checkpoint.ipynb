{
 "cells": [
  {
   "cell_type": "markdown",
   "id": "b2605a74",
   "metadata": {},
   "source": [
    "### Need of Feature Scaling "
   ]
  },
  {
   "cell_type": "markdown",
   "id": "4e812d61",
   "metadata": {},
   "source": [
    "#### Check your Concepts:\n",
    "- What is Data Normalization, and why do we need it?\n",
    "- Do we need to normalize the output/target variable as well?\n",
    "- What is Standardization? When is Standardization preferred?\n",
    "- Why will the model become biased if we do not scale the variable?\n",
    "- Why Standardization seems to be better as per the real-life scenarios?"
   ]
  },
  {
   "cell_type": "code",
   "execution_count": null,
   "id": "0b49740a",
   "metadata": {},
   "outputs": [],
   "source": []
  },
  {
   "cell_type": "code",
   "execution_count": null,
   "id": "31fae480",
   "metadata": {},
   "outputs": [],
   "source": []
  },
  {
   "cell_type": "code",
   "execution_count": null,
   "id": "a4e10697",
   "metadata": {},
   "outputs": [],
   "source": []
  },
  {
   "cell_type": "code",
   "execution_count": null,
   "id": "62bdb578",
   "metadata": {},
   "outputs": [],
   "source": []
  },
  {
   "cell_type": "markdown",
   "id": "b683fef5",
   "metadata": {},
   "source": [
    "### Regularization(A fix to overfitting in ML)\n"
   ]
  },
  {
   "cell_type": "markdown",
   "id": "957fe27e",
   "metadata": {},
   "source": [
    "#### Check Your Concepts\n",
    "- What is underfitting or overfitting?\n",
    "- How will you decide whether your model is underfitting or overfitting?\n",
    "- How will you cure the problem of underfitting?\n",
    "- How will you cure the problem of overfitting?\n",
    "- What are the regularization techniques used in ML?\n",
    "- What's the difference between L1 and L2 regularization Techniques?"
   ]
  },
  {
   "cell_type": "markdown",
   "id": "fc6f6f07",
   "metadata": {},
   "source": [
    "### Bias-Variance Tradeoff"
   ]
  },
  {
   "cell_type": "markdown",
   "id": "7b7d79ff",
   "metadata": {},
   "source": [
    "#### Check Your Concepts\n",
    "- What is Bias in Machine Learning?\n",
    "- What is the Bias-Variance tradeoff?\n",
    "- How can you identify a High Bias model? How can you fix it? \n",
    "- Provide an intuitive explanation of the Bias-Variance Tradeoff?\n",
    "- Name some types of Data Biases in Machine Learning?\n",
    "- What to do if you have High Variance Problem?\n",
    "- What to do if you have High Bias Problem?\n",
    "- What is the Bias Error?\n",
    "- What is the Variance Error?\n",
    "- When you sample, what potential Sampling Biases could you be inflicting?\n",
    "- How to identify a High Variance model? How do you fix it?  "
   ]
  },
  {
   "cell_type": "code",
   "execution_count": null,
   "id": "bfc195ec",
   "metadata": {},
   "outputs": [],
   "source": []
  },
  {
   "cell_type": "code",
   "execution_count": null,
   "id": "a48eb298",
   "metadata": {},
   "outputs": [],
   "source": []
  },
  {
   "cell_type": "code",
   "execution_count": null,
   "id": "7764e6f3",
   "metadata": {},
   "outputs": [],
   "source": []
  },
  {
   "cell_type": "code",
   "execution_count": null,
   "id": "12ef5f91",
   "metadata": {},
   "outputs": [],
   "source": []
  },
  {
   "cell_type": "code",
   "execution_count": null,
   "id": "a799befd",
   "metadata": {},
   "outputs": [],
   "source": []
  },
  {
   "cell_type": "code",
   "execution_count": null,
   "id": "3901ca82",
   "metadata": {},
   "outputs": [],
   "source": []
  },
  {
   "cell_type": "code",
   "execution_count": null,
   "id": "9eb5846e",
   "metadata": {},
   "outputs": [],
   "source": []
  },
  {
   "cell_type": "markdown",
   "id": "60a6eb7f",
   "metadata": {},
   "source": [
    "### Evaluation Metrics of Regression Models\n"
   ]
  },
  {
   "cell_type": "markdown",
   "id": "36da749a",
   "metadata": {},
   "source": [
    "#### Check Your Concepts\n",
    "- What are the standards methods used for evaluating our machine learning model's performance?\n",
    "- What is MAPE, and why is it more helpful?\n",
    "- What is the range of R^2 values? What can be its limitations?\n",
    "- What people prefer R^2 rather tha adjusted R^2?"
   ]
  },
  {
   "cell_type": "code",
   "execution_count": null,
   "id": "45de565b",
   "metadata": {},
   "outputs": [],
   "source": []
  },
  {
   "cell_type": "code",
   "execution_count": null,
   "id": "9d577bbc",
   "metadata": {},
   "outputs": [],
   "source": []
  },
  {
   "cell_type": "markdown",
   "id": "8b91821c",
   "metadata": {},
   "source": [
    "## Revision Questions\n",
    "1.\tWhy do we have to perform EDA before fitting a model to the data?\n",
    "2.\tWhat is a parameter?\n",
    "3.\tWhat is correlation?\n",
    "4.\tWhat does negative correlation mean?\n",
    "5.\tHow can you find correlation between variables in Python?\n",
    "6.\tWhat is causation? Explain difference between correlation and causation with an example.\n",
    "7.\tDefine Linear Regression.\n",
    "8.\tWhat is univariate linear regression?\n",
    "9.\tWhat is multivariate linear regression?\n",
    "10.\tWhat are weights and bias?\n",
    "11.\tWhat are inputs and targets?\n",
    "12.\tWhat is loss/cost function?\n",
    "13.\tWhat is residual? \n",
    "14.\tWhat is RMSE value? When and why do we use it?\n",
    "15.\tWhat is an Optimizer? What are different types of optimizers? Explain each with an example.\n",
    "16.\tWhat library is available in Python to perform Linear Regression?\n",
    "17.\tWhat is <code>sklearn.linear_model </code>?\n",
    "18.\tWhat does <code>model.fit()</code> do? What arguments must be given?\n",
    "19.\tWhat does <code>model.predict()</code> do? What arguments must be given?\n",
    "20.\tHow do we calculate RMSE values?\n",
    "21.\tWhat is <code>model.coef_</code>?\n",
    "22.\tWhat is <code>model.intercept_</code>?\n",
    "23.\tWhat is SGDRegressor? How is it different from Linear Regression?\n",
    "24.\tDefine Machine Learning. What are the main components in Machine Learning?\n",
    "25.\tHow does loss value help in determining whether the model is good or not?\n",
    "26.\tWhat are continuous and categorical variables?\n",
    "27.\tHow do we handle categorical variables in Machine Learning? What are the common techniques?\n",
    "28.\tWhat is feature scaling? How does it help in Machine Learning?\n",
    "29.\tHow do we perform scaling in Python?\n",
    "30.\tWhat is <code>sklearn.preprocessing</code>?\n",
    "31.\tWhat is a Test set?\n",
    "32.\tHow do we split data for model fitting (training and testing) in Python?\n",
    "33.\tHow do you approach a Machine Learning problem?"
   ]
  },
  {
   "cell_type": "code",
   "execution_count": null,
   "id": "daeb5856",
   "metadata": {},
   "outputs": [],
   "source": []
  },
  {
   "cell_type": "code",
   "execution_count": null,
   "id": "8c8822a6",
   "metadata": {},
   "outputs": [],
   "source": []
  },
  {
   "cell_type": "code",
   "execution_count": null,
   "id": "8dd9fe03",
   "metadata": {},
   "outputs": [],
   "source": []
  },
  {
   "cell_type": "code",
   "execution_count": null,
   "id": "19db6133",
   "metadata": {},
   "outputs": [],
   "source": []
  },
  {
   "cell_type": "code",
   "execution_count": null,
   "id": "0c2c6c7f",
   "metadata": {},
   "outputs": [],
   "source": []
  }
 ],
 "metadata": {
  "kernelspec": {
   "display_name": "Python 3 (ipykernel)",
   "language": "python",
   "name": "python3"
  },
  "language_info": {
   "codemirror_mode": {
    "name": "ipython",
    "version": 3
   },
   "file_extension": ".py",
   "mimetype": "text/x-python",
   "name": "python",
   "nbconvert_exporter": "python",
   "pygments_lexer": "ipython3",
   "version": "3.8.10"
  }
 },
 "nbformat": 4,
 "nbformat_minor": 5
}
