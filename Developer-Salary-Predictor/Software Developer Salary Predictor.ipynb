{
 "cells": [
  {
   "cell_type": "markdown",
   "id": "18392a8b",
   "metadata": {},
   "source": [
    "# Problem Statement:\n",
    "### Phase I: Analysis\n",
    "- In first phase, perform analysis to get basic understanding and insights of the data-set. Analysis includes the answers of the following questions\n",
    "- Analysis and Visualize the Educational background of all the respondents(Professional Developers & Learning to code)\n",
    "- Learning to code is different for every Respondents like online courses, college degrees etc. Analysis learning to code of all respondents by resource and age.\n",
    "- Describe top ten online resources used by respondents to “Learn to code”.\n",
    "- Analysis the best online platforms for “Learn to code”.\n",
    "- Describe the average coding experience of all the respondents for top ten countries.\n",
    "- Analysis and visualize the developer types of all the respondents.\n",
    "- Describe top ten countries by respondents.\n",
    "- Analysis and describe the percentage value of age for all the respondents.\n",
    "- Analysis and describe the top technologies, databases tools, could platforms, web frameworks, libraries, deployment tools, development environments and operating systems used by all the respondents.\n",
    "- Analysis and visualize the top technologies, databases tools, could platforms, web frameworks, libraries, deployment tools, development environments and operating systems wanted by all the respondents after five years.\n",
    "- Analysis and visualize the top paying technologies, databases tools, could platforms, web frameworks, libraries, deployment tools and development environments used by all the respondents.\n",
    "- Analysis and visualize the change in salaries between 2021 and 2022 of top paying technologies, databases tools, could platforms, web frameworks, libraries, deployment tools and development environments used by all the respondents.\n",
    "- Display the employment status of each respondent and also by geography, and working environment.\n",
    "- Analysis and Visualize the salary by developer type as well as by geography and by experience.\n",
    "\n",
    "### Phase II: Model Building\n",
    "- In this phase, build a model and evaluate their performance to predict the salary of a person on the basis of his/her education, experience and country.\n",
    "\n",
    "### Phase III: Model Development\n",
    "- Build a web App using flask library to display the prediction of the salary for a person and describe the analysis of a country using top technologies by salary, top developers types by salary etc"
   ]
  },
  {
   "cell_type": "code",
   "execution_count": null,
   "id": "a20b446b",
   "metadata": {},
   "outputs": [],
   "source": []
  },
  {
   "cell_type": "markdown",
   "id": "eaa9f473",
   "metadata": {},
   "source": [
    "### Loading Dataset and Feature Selection"
   ]
  },
  {
   "cell_type": "code",
   "execution_count": 21,
   "id": "984b99a9",
   "metadata": {},
   "outputs": [],
   "source": [
    "# import all necessary libraries\n",
    "import numpy as np # for numerical computing and LA\n",
    "import pandas as pd # data analysis and data manipulation\n",
    "import seaborn as sns # for customize plots and charts\n",
    "import matplotlib.pyplot as plt # for simple and basic graphs\n",
    "import opendatasets as od\n",
    "pd.set_option('display.max_columns', 100)\n",
    "pd.set_option('display.max_rows', 100)\n",
    "import warnings\n",
    "warnings.filterwarnings('ignore')"
   ]
  },
  {
   "cell_type": "code",
   "execution_count": 22,
   "id": "6ca87399",
   "metadata": {},
   "outputs": [],
   "source": [
    "# create a list of required columns\n",
    "list_columns = ['MainBranch','Employment','RemoteWork','EdLevel',\n",
    "                'LearnCode','LearnCodeOnline',\n",
    "                'LearnCodeCoursesCert','YearsCode','YearsCodePro',\n",
    "                'DevType','Country','Age','LanguageHaveWorkedWith',\n",
    "               'LanguageWantToWorkWith', 'DatabaseHaveWorkedWith',\n",
    "               'DatabaseWantToWorkWith', 'PlatformHaveWorkedWith',\n",
    "               'PlatformWantToWorkWith', 'WebframeHaveWorkedWith',\n",
    "               'WebframeWantToWorkWith', 'MiscTechHaveWorkedWith',\n",
    "               'MiscTechWantToWorkWith', 'ToolsTechHaveWorkedWith',\n",
    "               'ToolsTechWantToWorkWith', 'NEWCollabToolsHaveWorkedWith',\n",
    "               'NEWCollabToolsWantToWorkWith','OpSysPersonal use',\n",
    "                'VersionControlSystem','WorkExp','ConvertedCompYearly']\n",
    "# len(list_columns)"
   ]
  },
  {
   "cell_type": "code",
   "execution_count": 39,
   "id": "7273343a",
   "metadata": {},
   "outputs": [],
   "source": [
    "df = pd.read_csv('datasets/survey_results.csv')\n",
    "# df.head()"
   ]
  },
  {
   "cell_type": "code",
   "execution_count": null,
   "id": "34ab054b",
   "metadata": {},
   "outputs": [],
   "source": []
  },
  {
   "cell_type": "markdown",
   "id": "40af9f48",
   "metadata": {},
   "source": [
    "### Basic Understanding of Data"
   ]
  },
  {
   "cell_type": "code",
   "execution_count": null,
   "id": "30cb4fda",
   "metadata": {},
   "outputs": [],
   "source": []
  },
  {
   "cell_type": "markdown",
   "id": "20600c87",
   "metadata": {},
   "source": [
    "### Data Preparation/Transformation"
   ]
  },
  {
   "cell_type": "code",
   "execution_count": 35,
   "id": "3839d1a4",
   "metadata": {},
   "outputs": [],
   "source": [
    "# Here remove or fill missing values in the column"
   ]
  },
  {
   "cell_type": "code",
   "execution_count": null,
   "id": "96972d3d",
   "metadata": {},
   "outputs": [],
   "source": []
  },
  {
   "cell_type": "markdown",
   "id": "eb952666",
   "metadata": {},
   "source": [
    "### Data Cleansing"
   ]
  },
  {
   "cell_type": "code",
   "execution_count": 36,
   "id": "c5e65b2e",
   "metadata": {},
   "outputs": [],
   "source": [
    "# Here convert every column into accurate dtype and "
   ]
  },
  {
   "cell_type": "code",
   "execution_count": null,
   "id": "994cab15",
   "metadata": {},
   "outputs": [],
   "source": []
  },
  {
   "cell_type": "markdown",
   "id": "c2cd0b2e",
   "metadata": {},
   "source": [
    "### Exploratory Data Analysis\n",
    "- Exploratory Data Analysis refers to the critical process of performing initial investigations on data so as to discover patterns,to spot anomalies,to test hypothesis and to check assumptions with the help of summary statistics and graphical representations.\n",
    "![](image.png)"
   ]
  },
  {
   "cell_type": "code",
   "execution_count": null,
   "id": "adff3525",
   "metadata": {},
   "outputs": [],
   "source": []
  },
  {
   "cell_type": "markdown",
   "id": "8fc55768",
   "metadata": {},
   "source": [
    "### Feature Engineering\n",
    "![](image1.png)"
   ]
  },
  {
   "cell_type": "code",
   "execution_count": null,
   "id": "dbffc064",
   "metadata": {},
   "outputs": [],
   "source": []
  },
  {
   "cell_type": "markdown",
   "id": "243098d5",
   "metadata": {},
   "source": [
    "### Train_test_split the dataset\n",
    "![](image2.png)\n",
    "\n",
    "![](eda5.png)"
   ]
  },
  {
   "cell_type": "code",
   "execution_count": null,
   "id": "c0487983",
   "metadata": {},
   "outputs": [],
   "source": []
  },
  {
   "cell_type": "code",
   "execution_count": null,
   "id": "f4d75e5e",
   "metadata": {},
   "outputs": [],
   "source": []
  },
  {
   "cell_type": "markdown",
   "id": "0f151c49",
   "metadata": {},
   "source": [
    "### ML Model Building"
   ]
  },
  {
   "cell_type": "code",
   "execution_count": null,
   "id": "5d6dba4d",
   "metadata": {},
   "outputs": [],
   "source": [
    "# Using LinearRegression"
   ]
  },
  {
   "cell_type": "code",
   "execution_count": null,
   "id": "21a37743",
   "metadata": {},
   "outputs": [],
   "source": [
    "# Using DecisionTreeRegressor"
   ]
  },
  {
   "cell_type": "code",
   "execution_count": 38,
   "id": "84a5f14d",
   "metadata": {},
   "outputs": [],
   "source": [
    "# Using RandomForestRegressor"
   ]
  },
  {
   "cell_type": "code",
   "execution_count": null,
   "id": "d59071eb",
   "metadata": {},
   "outputs": [],
   "source": []
  },
  {
   "cell_type": "markdown",
   "id": "335184a8",
   "metadata": {},
   "source": [
    "### Model Assumptions"
   ]
  },
  {
   "cell_type": "code",
   "execution_count": 42,
   "id": "80472f9a",
   "metadata": {},
   "outputs": [],
   "source": [
    "# plot a scatter plot for the prediction y_test,y_pred"
   ]
  },
  {
   "cell_type": "code",
   "execution_count": null,
   "id": "16bf4d54",
   "metadata": {},
   "outputs": [],
   "source": [
    "# Find the residuals by calculating y_test-y_pred and plot kde for this"
   ]
  },
  {
   "cell_type": "code",
   "execution_count": null,
   "id": "41af8f5e",
   "metadata": {},
   "outputs": [],
   "source": [
    "# plot a scatter plot for residuals and y_pred"
   ]
  },
  {
   "cell_type": "code",
   "execution_count": null,
   "id": "3247c388",
   "metadata": {},
   "outputs": [],
   "source": []
  },
  {
   "cell_type": "markdown",
   "id": "09c466a4",
   "metadata": {},
   "source": [
    "### Machine Learning Model Evaluation\n",
    "![](image3.png)"
   ]
  },
  {
   "cell_type": "code",
   "execution_count": null,
   "id": "2e820bad",
   "metadata": {},
   "outputs": [],
   "source": []
  },
  {
   "cell_type": "markdown",
   "id": "9bf186c8",
   "metadata": {},
   "source": [
    "### Hyperparameter Tuning with GridSearchCV\n",
    "- GridSearchCV is the process of performing hyperparameter tuning in order to determine the optimal values for a given model. GridSearchCV is a function that comes in Scikit-learn’s(or SK-learn) model_selection package.\n",
    "\n",
    "![](s2.png)"
   ]
  },
  {
   "cell_type": "code",
   "execution_count": null,
   "id": "a79755fa",
   "metadata": {},
   "outputs": [],
   "source": []
  },
  {
   "cell_type": "code",
   "execution_count": null,
   "id": "075895d1",
   "metadata": {},
   "outputs": [],
   "source": []
  },
  {
   "cell_type": "markdown",
   "id": "af19e312",
   "metadata": {},
   "source": [
    "### New Data Prediction"
   ]
  },
  {
   "cell_type": "code",
   "execution_count": 40,
   "id": "3d1d8916",
   "metadata": {},
   "outputs": [],
   "source": [
    "# check Model prediction for new data"
   ]
  },
  {
   "cell_type": "code",
   "execution_count": null,
   "id": "9f7d69c3",
   "metadata": {},
   "outputs": [],
   "source": []
  },
  {
   "cell_type": "markdown",
   "id": "cf84c51f",
   "metadata": {},
   "source": [
    "### Pickling the model file for deployment"
   ]
  },
  {
   "cell_type": "code",
   "execution_count": null,
   "id": "63a8732f",
   "metadata": {},
   "outputs": [],
   "source": []
  },
  {
   "cell_type": "code",
   "execution_count": null,
   "id": "e6e7f9ac",
   "metadata": {},
   "outputs": [],
   "source": []
  },
  {
   "cell_type": "code",
   "execution_count": null,
   "id": "78d17c15",
   "metadata": {},
   "outputs": [],
   "source": []
  },
  {
   "cell_type": "code",
   "execution_count": null,
   "id": "48eda0ff",
   "metadata": {},
   "outputs": [],
   "source": []
  },
  {
   "cell_type": "code",
   "execution_count": null,
   "id": "51771b4b",
   "metadata": {},
   "outputs": [],
   "source": []
  },
  {
   "cell_type": "code",
   "execution_count": null,
   "id": "c9eb6d24",
   "metadata": {},
   "outputs": [],
   "source": []
  }
 ],
 "metadata": {
  "kernelspec": {
   "display_name": "Python 3 (ipykernel)",
   "language": "python",
   "name": "python3"
  },
  "language_info": {
   "codemirror_mode": {
    "name": "ipython",
    "version": 3
   },
   "file_extension": ".py",
   "mimetype": "text/x-python",
   "name": "python",
   "nbconvert_exporter": "python",
   "pygments_lexer": "ipython3",
   "version": "3.8.10"
  },
  "vscode": {
   "interpreter": {
    "hash": "916dbcbb3f70747c44a77c7bcd40155683ae19c65e1c03b4aa3499c5328201f1"
   }
  }
 },
 "nbformat": 4,
 "nbformat_minor": 5
}
