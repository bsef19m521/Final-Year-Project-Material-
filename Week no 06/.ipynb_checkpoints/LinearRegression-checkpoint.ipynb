{
 "cells": [
  {
   "cell_type": "markdown",
   "id": "ccf0bf87",
   "metadata": {},
   "source": [
    "# In Depth Analysis of Linear Regression\n",
    "- **ML Overview**\n",
    "    - Example, Algorithms vs Model\n",
    "- **Supervised Learning**\n",
    "    - Definition, Examples\n",
    "- **Supervised Learning Setup**\n",
    "    - Nomenclature, Formulation(`Regression` & `Classification`),  Example,  Learning,  Hypothesis Class.\n",
    "    - Performance Evaluation\n",
    "        - Loss Function, 0/1 Loss Function, Squared Loss, Root Mean squared error, Absolute Loss\n",
    "    - Generalization: The Train-Test Split, Generalization loss.\n",
    "- **Single Feature**\n",
    "- **Multiple Feature**\n",
    "- **Model Formulation and Setup**\n",
    "- **Loss Function**\n",
    "   - How to solve?\n",
    "   - Reformulation\n",
    "   - Consequently\n",
    "- **Solve Optimization Problem (Analytical Solution employing Calculus)**\n",
    "- **Model Evaluation Techniques**\n",
    "- **Polynomial Regression**\n",
    "- **How to Handle Overfitting?**\n",
    "- **Regularization (Ridge Regression and Lasso Regression)**\n",
    "- **Gradient Descent Algorithm**\n",
    "   - Formulation\n",
    "   - Algorithm\n",
    "   - Types \n",
    "- **Linear Regression Implementation in Python**\n",
    "- **Linear Regression Implementation using sklearn**\n",
    "- **Interview Questions**"
   ]
  },
  {
   "cell_type": "code",
   "execution_count": null,
   "id": "41ec507c",
   "metadata": {},
   "outputs": [],
   "source": []
  },
  {
   "cell_type": "code",
   "execution_count": null,
   "id": "d2ec7924",
   "metadata": {},
   "outputs": [],
   "source": []
  },
  {
   "cell_type": "code",
   "execution_count": null,
   "id": "7ca51743",
   "metadata": {},
   "outputs": [],
   "source": []
  },
  {
   "cell_type": "code",
   "execution_count": null,
   "id": "10448d1c",
   "metadata": {},
   "outputs": [],
   "source": []
  },
  {
   "cell_type": "code",
   "execution_count": null,
   "id": "13766107",
   "metadata": {},
   "outputs": [],
   "source": []
  },
  {
   "cell_type": "markdown",
   "id": "16887c94",
   "metadata": {},
   "source": [
    "### Interview questions of Linear regression in machine learning\n",
    "Here are some common interview questions on linear regression in machine learning:\n",
    "- What is linear regression and how does it work?\n",
    "- What is the difference between simple linear regression and multiple linear regression?\n",
    "- How do you evaluate the performance of a linear regression model?\n",
    "- What is the ordinary least squares (OLS) method and how is it used in linear regression?\n",
    "- How can you prevent overfitting in linear regression?\n",
    "- Can you give an example of how linear regression can be used in a real-world problem?\n",
    "- How do you decide which variables to include in a linear regression model?\n",
    "- How do you handle collinearity in a linear regression model?\n",
    "- What are some common assumptions made in linear regression?\n",
    "- Can you discuss the limitations of linear regression?"
   ]
  },
  {
   "cell_type": "code",
   "execution_count": null,
   "id": "7d556d76",
   "metadata": {},
   "outputs": [],
   "source": []
  }
 ],
 "metadata": {
  "kernelspec": {
   "display_name": "Python 3 (ipykernel)",
   "language": "python",
   "name": "python3"
  },
  "language_info": {
   "codemirror_mode": {
    "name": "ipython",
    "version": 3
   },
   "file_extension": ".py",
   "mimetype": "text/x-python",
   "name": "python",
   "nbconvert_exporter": "python",
   "pygments_lexer": "ipython3",
   "version": "3.8.10"
  }
 },
 "nbformat": 4,
 "nbformat_minor": 5
}
