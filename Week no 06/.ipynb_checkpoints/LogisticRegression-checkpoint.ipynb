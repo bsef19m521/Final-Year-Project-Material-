{
 "cells": [
  {
   "cell_type": "markdown",
   "id": "ccb2060f",
   "metadata": {},
   "source": [
    "# In Depth Analysis of Logistic Regression\n",
    "- **ML Overview**\n",
    "    - Example, Algorithms vs Model\n",
    "- **Supervised Learning**\n",
    "    - Definition, Examples\n",
    "- **Supervised Learning Setup**\n",
    "    - Nomenclature, Formulation(`Regression` & `Classification`),  Example,  Learning,  Hypothesis Class.\n",
    "    - Performance Evaluation\n",
    "        - Loss Function, 0/1 Loss Function, Squared Loss, Root Mean squared error, Absolute Loss\n",
    "    - Generalization: The Train-Test Split, Generalization loss.\n",
    "- **Logistic Regression**\n",
    "    - Binary or Binomial Classification\n",
    "    - Multi-class(Multinomial) Classification\n",
    "    - Overview of LR\n",
    "    - Model\n",
    "    - Logistic (Sigmoid) Function\n",
    "    - Example\n",
    "- **Decision Boundaries**\n",
    "    - Decision Boundary and Example\n",
    "    - Hyper-Plane\n",
    "    - Non-linear Decision Boundary and Example\n",
    "- **Loss/Cost Function**\n",
    "    - Model Training(Learning of Parameters)\n",
    "- **Logistic Regression Gradient Descent**\n",
    "    - Gradient Descent:\n",
    "    - Gradient Descent Computation\n",
    "- **Model Evaluation Techniques**\n",
    "   - Classification Accuracy (0/1 Loss)\n",
    "   - TP, TN, FP and FN\n",
    "   - Confusion Matrix\n",
    "   - Sensitivity, Specificity, Precision Trade-offs, ROC, AUC\n",
    "   - F1-Score and Matthew’s Correlation Coefficient\n",
    "   - Multi-class Classification, Evaluation, Micro, Macro Averaging\n",
    "- **Multi-class Logistic Regression**\n",
    "    - Build a one-vs-all `(OvA)` one-vs-rest `(OvR)` classifier\n",
    "    - Build an all-vs-all classifier (commonly known as one-vs-one classifier)\n",
    "    - Graphical Representation of the Model\n",
    "- **Logistic Regression Implementation in Python**\n",
    "- **Logistic Regression Implementation using sklearn**\n",
    "- **Interview Questions**"
   ]
  },
  {
   "cell_type": "code",
   "execution_count": null,
   "id": "109a402e",
   "metadata": {},
   "outputs": [],
   "source": []
  },
  {
   "cell_type": "markdown",
   "id": "247f82be",
   "metadata": {},
   "source": [
    "### Hyper-Parameters of a Logistic Regression Model\n",
    "To tune the hyper-parameters of a logistic regression model in Python, you can use the `GridSearchCV` or `RandomizedSearchCV` classes from the scikit-learn library. These classes provide a convenient way to perform a grid search or random search for the hyper-parameters of a machine learning model, and evaluate the model's performance on a validation dataset."
   ]
  },
  {
   "cell_type": "code",
   "execution_count": null,
   "id": "80c27b4f",
   "metadata": {},
   "outputs": [],
   "source": [
    "from sklearn.model_selection import GridSearchCV\n",
    "from sklearn.linear_model import LogisticRegression\n",
    "\n",
    "# Define the range of hyper-parameters to search\n",
    "param_grid = {\n",
    "    'penalty': ['l1', 'l2'],\n",
    "    'C': [0.1, 1, 10],\n",
    "    'solver': ['liblinear']\n",
    "}\n",
    "\n",
    "# Create a logistic regression model\n",
    "lr = LogisticRegression()\n",
    "\n",
    "# Use GridSearchCV to perform a grid search for the best hyper-parameters\n",
    "grid_search = GridSearchCV(lr, param_grid, cv=5)\n",
    "grid_search.fit(X_train, y_train)\n",
    "\n",
    "# Print the best hyper-parameters found by the grid search\n",
    "print(grid_search.best_params_)\n",
    "\n",
    "# Evaluate the performance of the logistic regression model on the test set\n",
    "test_score = grid_search.score(X_test, y_test)\n",
    "print(f'Test accuracy: {test_score:.3f}')"
   ]
  },
  {
   "cell_type": "markdown",
   "id": "131da63e",
   "metadata": {},
   "source": [
    "> In this example, the `GridSearchCV` class is used to perform a grid search over the values of the hyper-parameters defined in the param_grid dictionary. The fit method is used to train the logistic regression model on the training data, and the best_params_ attribute is used to print the best hyper-parameters found by the grid search. The model's performance is then evaluated on the test set using the score method.\n",
    "\n",
    "> You can use the `RandomizedSearchCV` class in a similar way to perform a random search for the best hyper-parameters of a logistic regression model. The main difference is that instead of specifying a grid of values for each hyper-parameter, you can specify a distribution from which the hyper-parameter values will be sampled randomly. This can be useful if you want to explore a larger range of hyper-parameter values, but don't want to specify every possible value."
   ]
  },
  {
   "cell_type": "markdown",
   "id": "cbf24ab9",
   "metadata": {},
   "source": [
    "[Hyper-parameter tuning](https://www.datacamp.com/tutorial/parameter-optimization-machine-learning-models)"
   ]
  },
  {
   "cell_type": "code",
   "execution_count": null,
   "id": "50af6e34",
   "metadata": {},
   "outputs": [],
   "source": []
  },
  {
   "cell_type": "markdown",
   "id": "0f7635ef",
   "metadata": {},
   "source": [
    "### Interview Questions\n",
    "Here are some potential interview questions about logistic regression:\n",
    "\n",
    "- Can you explain what logistic regression is and how it is used in machine learning?\n",
    "- What is the logistic function and how does it relate to logistic regression?\n",
    "- How is logistic regression different from linear regression?\n",
    "- How do you train a logistic regression model, and what optimization algorithms are commonly used for this task?\n",
    "- Can you describe some common applications of logistic regression in real-world problems?\n",
    "- How do you evaluate the performance of a logistic regression model, and what metrics are commonly used for this purpose?\n",
    "- Can you discuss some potential limitations of logistic regression and how these limitations can be overcome?\n",
    "- Have you ever encountered a problem where logistic regression was not suitable and, if so, how did you handle it? what other algorithms did you consider and why did you choose the one you did?\n",
    "- Can you provide an example of a logistic regression model that you have worked on, and what were the results of using this model?\n",
    "- How do you think logistic regression compares to other popular classification algorithms, such as decision trees and support vector machines, in terms of performance and suitability for different types of data and problems?"
   ]
  },
  {
   "cell_type": "code",
   "execution_count": null,
   "id": "ce54eeac",
   "metadata": {},
   "outputs": [],
   "source": []
  }
 ],
 "metadata": {
  "kernelspec": {
   "display_name": "Python 3 (ipykernel)",
   "language": "python",
   "name": "python3"
  },
  "language_info": {
   "codemirror_mode": {
    "name": "ipython",
    "version": 3
   },
   "file_extension": ".py",
   "mimetype": "text/x-python",
   "name": "python",
   "nbconvert_exporter": "python",
   "pygments_lexer": "ipython3",
   "version": "3.8.10"
  }
 },
 "nbformat": 4,
 "nbformat_minor": 5
}
