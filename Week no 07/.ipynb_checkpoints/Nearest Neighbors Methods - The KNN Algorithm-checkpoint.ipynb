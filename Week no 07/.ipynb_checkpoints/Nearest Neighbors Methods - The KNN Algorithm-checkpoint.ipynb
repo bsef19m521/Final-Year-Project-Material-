{
 "cells": [
  {
   "cell_type": "markdown",
   "id": "3b525179",
   "metadata": {},
   "source": [
    "<h1 align=\"center\">Nearest Neighbors Methods - The KNN Algorithm</h1>\n",
    "\n",
    "### KNN Algorithm\n",
    "- Basic Idea\n",
    "- Formal Definition\n",
    "- KNN Decision Boundary\n",
    "- A supervised, non-parametric algorithm\n",
    "- Used for classification and regression\n",
    "- An Instance-based learning algorithm\n",
    "- A lazy learning algorithm\n",
    "- Characteristics of kNN\n",
    "- Practical issues\n",
    "\n",
    "### Similarity/Distance Metrics \n",
    "- Constraints/Properties on Distance Metrics\n",
    "- Euclidean Distance\n",
    "- Manhatten Distance\n",
    "- Minkowski distance\n",
    "- Chebyshev Distance\n",
    "- Norm of a vector and Its Properties\n",
    "- Cosine Distance \n",
    "- Practical Issues in computing distance\n",
    "\n",
    "### The KNN algorithm and Implementation\n",
    "- KNN regression and classification with examples\n",
    "- Space and Time complexity\n",
    "- Choosing the value of K - The Theory.\n",
    "- Tuning the hyperparameter K - The method\n",
    "- KNN: The good, the bad and the ugly\n",
    "    \n",
    "### Algorithm Convergence\n",
    "- Error Convergence\n",
    "- Learning Problem\n",
    "- Bayes Optimal Classifier\n",
    "- 1-NN Error as n → ∞\n",
    "\n",
    "\n",
    "### KNN Enhancements\n",
    "- Parzen Windows and Kernels (Fast KNN) \n",
    "- Performance of KNN Algorithm\n",
    "- K-D Trees\n",
    "- Locality-sensitive Hashing\n",
    "- Inverted Lists\n",
    "\n",
    "### The Curse of Dimensionality\n",
    "- KNN Assumption\n",
    "- Demonstration\n",
    "- How does KNN work at all?\n",
    "\n",
    "### Dimensionality Reduction(Optional)\n",
    "- Why? and Benefits.\n",
    "- Difference between Feature Selection and Feature Extraction\n",
    "- Feature Selection methods\n",
    "- Feature Extraction\n",
    "- Principal Component Analysis\n",
    "    - Geometric Intuition\n",
    "    - Mathematical Formulation\n",
    "    - How do we choose K?\n",
    "    - Practical Consideration and Limitations\n",
    "\n",
    "### Model Evaluation Techniques\n",
    "- Classification Accuracy (0/1 Loss)\n",
    "- TP, TN, FP and FN\n",
    "- Confusion Matrix\n",
    "- Sensitivity, Specificity, Precision Trade-offs, ROC, AUC\n",
    "- F1-Score and Matthew’s Correlation Coefficient\n",
    "- Multi-class Classification, Evaluation, Micro, Macro Averaging\n",
    "\n",
    "**KNN: Python Implementation**    \n",
    "**KNN: Scikit-learn implementation**    \n",
    "**Interview Questions.**   "
   ]
  },
  {
   "cell_type": "code",
   "execution_count": 10,
   "id": "a5df2cd7",
   "metadata": {},
   "outputs": [],
   "source": [
    "from sklearn import datasets"
   ]
  },
  {
   "cell_type": "code",
   "execution_count": 11,
   "id": "a9117b32",
   "metadata": {},
   "outputs": [
    {
     "data": {
      "text/plain": [
       "(array([[ 1.43133521,  0.4581223 , -0.52261121,  0.8949732 ],\n",
       "        [-2.26174791,  2.1324141 ,  2.58112086,  2.07657196],\n",
       "        [ 1.738749  ,  0.65654537, -0.57338258,  1.20943957],\n",
       "        [ 1.83055302, -2.07611084, -2.30426962, -2.10870995],\n",
       "        [-2.10644188,  2.22155249,  2.54864646,  2.22186889],\n",
       "        [-1.15457267, -0.36909829,  0.42183066, -0.72138174],\n",
       "        [ 2.03375425, -1.90785568, -2.31503222, -1.85550979],\n",
       "        [-1.36490582,  1.2769848 ,  1.55157272,  1.24109285],\n",
       "        [ 1.19556371,  0.9733858 , -0.07350471,  1.46949183],\n",
       "        [-0.25240459, -0.09789681,  0.0816433 , -0.17873265],\n",
       "        [ 1.41278647,  0.09785298, -0.73358805,  0.45033734],\n",
       "        [-0.02032018, -0.38733806, -0.22661629, -0.47813191],\n",
       "        [-1.0856633 , -0.63699839,  0.21848273, -1.03265615],\n",
       "        [-0.05994159, -1.72009781, -1.02338273, -2.116204  ],\n",
       "        [-1.298597  , -1.37072285, -0.11278699, -1.97920779],\n",
       "        [ 0.17082349, -0.19445357, -0.21546922, -0.19765449],\n",
       "        [-0.86261364,  0.91409929,  1.04637285,  0.91519431],\n",
       "        [ 1.16824422, -0.94658698, -1.23804493, -0.88334675],\n",
       "        [-2.44376591, -0.99766711,  0.75983944, -1.79138454],\n",
       "        [ 1.10370108, -0.70867031, -1.05557584, -0.60769359],\n",
       "        [ 1.46327906, -1.65925808, -1.84176005, -1.68524753],\n",
       "        [ 0.19452493,  1.31616607,  0.69954222,  1.6540572 ],\n",
       "        [-0.49816777,  0.30742001,  0.46879728,  0.25907846],\n",
       "        [-0.51360013,  0.1534688 ,  0.38285912,  0.06731826],\n",
       "        [-0.76531332, -0.92217029, -0.13674196, -1.3061738 ],\n",
       "        [-1.17178757,  1.34931155,  1.4875236 ,  1.37469615],\n",
       "        [ 0.74069442, -1.76320821, -1.49968339, -1.98145244],\n",
       "        [ 2.52153932, -0.62394832, -1.80007149, -0.17222127],\n",
       "        [ 2.92281584, -0.35142438, -1.85803868,  0.25477978],\n",
       "        [ 0.47412028, -0.15147713, -0.35945487, -0.07412686],\n",
       "        [ 0.59261191, -0.8646023 , -0.86426474, -0.9179133 ],\n",
       "        [-1.03404236,  0.90784023,  1.13883736,  0.8674116 ],\n",
       "        [ 1.90562172,  0.32146578, -0.8730517 ,  0.83899786],\n",
       "        [ 2.24793629, -1.13389862, -1.95973953, -0.85949673],\n",
       "        [ 1.54206444, -1.58134545, -1.83814275, -1.57158419],\n",
       "        [-1.70018037,  1.81143348,  2.0683713 ,  1.81576336],\n",
       "        [-0.47027624,  1.46272581,  1.16310222,  1.67753389],\n",
       "        [-0.9641392 ,  1.82274796,  1.66180681,  2.00190643],\n",
       "        [ 1.0274803 , -0.89170805, -1.12523694, -0.84923235],\n",
       "        [-1.47521267, -0.65377183,  0.42702884, -1.14435319],\n",
       "        [ 1.41387332, -1.08855608, -1.46328745, -0.99934596],\n",
       "        [ 0.7940843 , -1.23407124, -1.20450583, -1.32228285],\n",
       "        [-2.63558588,  2.67941959,  3.12730146,  2.65756031],\n",
       "        [-2.20671072, -0.03622879,  1.21749531, -0.56089146],\n",
       "        [-0.75016923, -0.76915717, -0.05121833, -1.11562756],\n",
       "        [ 0.01215685, -0.1877098 , -0.12218395, -0.22655841],\n",
       "        [-0.97020302,  0.94557979,  1.12616382,  0.92847948],\n",
       "        [-1.23076609,  1.26561535,  1.46922434,  1.25860158],\n",
       "        [-1.07173628, -0.93537983,  0.02729279, -1.39405449],\n",
       "        [ 1.62287904,  0.1559782 , -0.8159009 ,  0.5705585 ]]),\n",
       " array([1, 0, 1, 1, 0, 0, 1, 0, 1, 0, 1, 1, 0, 0, 0, 0, 0, 1, 0, 1, 1, 1,\n",
       "        0, 0, 0, 0, 1, 1, 1, 0, 1, 0, 1, 1, 1, 0, 1, 1, 1, 0, 1, 1, 0, 0,\n",
       "        0, 1, 0, 0, 0, 1]))"
      ]
     },
     "execution_count": 11,
     "metadata": {},
     "output_type": "execute_result"
    }
   ],
   "source": [
    "datasets.make_classification(n_samples=50,n_features=4, n_classes=2)"
   ]
  },
  {
   "cell_type": "code",
   "execution_count": 12,
   "id": "ad6053e1",
   "metadata": {},
   "outputs": [],
   "source": [
    "import pandas as pd\n",
    "import numpy as np"
   ]
  },
  {
   "cell_type": "code",
   "execution_count": 13,
   "id": "d5d89f25",
   "metadata": {},
   "outputs": [
    {
     "data": {
      "text/plain": [
       "(array([[ 2.36334043e-01, -2.65529832e-01, -3.51056065e-02],\n",
       "        [ 1.48426668e+00, -1.41174909e+00, -3.88189925e-01],\n",
       "        [ 9.99127626e-01,  3.85059215e-01,  1.24386794e+00],\n",
       "        [ 4.28864496e-01,  2.44272036e-01, -5.50490879e-02],\n",
       "        [ 3.32358653e-02, -5.04606478e-02,  1.01064297e+00],\n",
       "        [-1.21600001e+00, -1.79307960e+00,  9.91192933e-01],\n",
       "        [-1.31876151e+00, -1.22973684e+00,  9.78282002e-04],\n",
       "        [ 1.97420554e+00, -1.16069669e+00,  3.01248886e+00],\n",
       "        [-1.30642220e+00,  4.75699974e-01, -1.15933059e-01],\n",
       "        [-2.25872866e-01, -9.56338995e-01, -4.55971952e-01]]),\n",
       " array([ -17.87622417, -101.99495114,   81.83474654,   16.43729915,\n",
       "          37.93845317,  -86.16275359,  -89.37703556,   55.86174173,\n",
       "          19.90223568,  -83.704666  ]))"
      ]
     },
     "execution_count": 13,
     "metadata": {},
     "output_type": "execute_result"
    }
   ],
   "source": [
    "datasets.make_regression(n_samples=10, n_features=3)"
   ]
  },
  {
   "cell_type": "code",
   "execution_count": null,
   "id": "82c6a698",
   "metadata": {},
   "outputs": [],
   "source": []
  }
 ],
 "metadata": {
  "kernelspec": {
   "display_name": "Python 3 (ipykernel)",
   "language": "python",
   "name": "python3"
  },
  "language_info": {
   "codemirror_mode": {
    "name": "ipython",
    "version": 3
   },
   "file_extension": ".py",
   "mimetype": "text/x-python",
   "name": "python",
   "nbconvert_exporter": "python",
   "pygments_lexer": "ipython3",
   "version": "3.8.10"
  }
 },
 "nbformat": 4,
 "nbformat_minor": 5
}
